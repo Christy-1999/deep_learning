{
 "cells": [
  {
   "cell_type": "code",
   "execution_count": 2,
   "id": "a13f04a2",
   "metadata": {},
   "outputs": [
    {
     "name": "stdout",
     "output_type": "stream",
     "text": [
      "Collecting Theano\n",
      "  Downloading Theano-1.0.5.tar.gz (2.8 MB)\n",
      "Requirement already satisfied: numpy>=1.9.1 in c:\\users\\chris\\anaconda3\\lib\\site-packages (from Theano) (1.20.1)\n",
      "Requirement already satisfied: scipy>=0.14 in c:\\users\\chris\\anaconda3\\lib\\site-packages (from Theano) (1.6.2)\n",
      "Requirement already satisfied: six>=1.9.0 in c:\\users\\chris\\anaconda3\\lib\\site-packages (from Theano) (1.15.0)\n",
      "Building wheels for collected packages: Theano\n",
      "  Building wheel for Theano (setup.py): started\n",
      "  Building wheel for Theano (setup.py): finished with status 'done'\n",
      "  Created wheel for Theano: filename=Theano-1.0.5-py3-none-any.whl size=2668107 sha256=6f74abbfec1a9c2b32f399c3ee459c65dce8669034180f90e05032488be3503e\n",
      "  Stored in directory: c:\\users\\chris\\appdata\\local\\pip\\cache\\wheels\\84\\cb\\19\\235b5b10d89b4621f685112f8762681570a9fa14dc1ce904d9\n",
      "Successfully built Theano\n",
      "Installing collected packages: Theano\n",
      "Successfully installed Theano-1.0.5\n",
      "Note: you may need to restart the kernel to use updated packages.\n"
     ]
    }
   ],
   "source": [
    "pip install Theano"
   ]
  },
  {
   "cell_type": "code",
   "execution_count": 3,
   "id": "2621be3b",
   "metadata": {},
   "outputs": [
    {
     "name": "stderr",
     "output_type": "stream",
     "text": [
      "WARNING (theano.configdefaults): g++ not available, if using conda: `conda install m2w64-toolchain`\n",
      "C:\\Users\\chris\\anaconda3\\lib\\site-packages\\theano\\configdefaults.py:560: UserWarning: DeprecationWarning: there is no c++ compiler.This is deprecated and with Theano 0.11 a c++ compiler will be mandatory\n",
      "  warnings.warn(\"DeprecationWarning: there is no c++ compiler.\"\n",
      "WARNING (theano.configdefaults): g++ not detected ! Theano will be unable to execute optimized C-implementations (for both CPU and GPU) and will default to Python implementations. Performance will be severely degraded. To remove this warning, set Theano flags cxx to an empty string.\n",
      "WARNING (theano.tensor.blas): Using NumPy C-API based implementation for BLAS functions.\n"
     ]
    },
    {
     "name": "stdout",
     "output_type": "stream",
     "text": [
      "4.0\n"
     ]
    }
   ],
   "source": [
    "import theano\n",
    "from theano import tensor\n",
    "# declare two symbolic floating-point scalars\n",
    "a = tensor.dscalar()\n",
    "b = tensor.dscalar()\n",
    "# create a simple expression\n",
    "c = a + b\n",
    "# convert the expression into a callable object that takes (a,b)\n",
    "# values as input and computes a value for c\n",
    "f = theano.function([a,b], c)\n",
    "# bind 1.5 to 'a', 2.5 to 'b', and evaluate 'c'\n",
    "result = f(1.5, 2.5)\n",
    "print(result)"
   ]
  },
  {
   "cell_type": "code",
   "execution_count": null,
   "id": "f86ac0a1",
   "metadata": {},
   "outputs": [],
   "source": []
  }
 ],
 "metadata": {
  "kernelspec": {
   "display_name": "Python 3",
   "language": "python",
   "name": "python3"
  },
  "language_info": {
   "codemirror_mode": {
    "name": "ipython",
    "version": 3
   },
   "file_extension": ".py",
   "mimetype": "text/x-python",
   "name": "python",
   "nbconvert_exporter": "python",
   "pygments_lexer": "ipython3",
   "version": "3.8.8"
  }
 },
 "nbformat": 4,
 "nbformat_minor": 5
}
