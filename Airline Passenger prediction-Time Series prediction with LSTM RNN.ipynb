{
 "cells": [
  {
   "cell_type": "code",
   "execution_count": 10,
   "id": "2b7d155e",
   "metadata": {},
   "outputs": [
    {
     "name": "stdout",
     "output_type": "stream",
     "text": [
      "Collecting tensorflow\n",
      "  Downloading tensorflow-2.8.0-cp38-cp38-win_amd64.whl (438.0 MB)\n",
      "Collecting flatbuffers>=1.12\n",
      "  Downloading flatbuffers-2.0-py2.py3-none-any.whl (26 kB)\n",
      "Collecting tf-estimator-nightly==2.8.0.dev2021122109\n",
      "  Downloading tf_estimator_nightly-2.8.0.dev2021122109-py2.py3-none-any.whl (462 kB)\n",
      "Collecting google-pasta>=0.1.1\n",
      "  Downloading google_pasta-0.2.0-py3-none-any.whl (57 kB)\n",
      "Collecting tensorboard<2.9,>=2.8\n",
      "  Downloading tensorboard-2.8.0-py3-none-any.whl (5.8 MB)\n",
      "Requirement already satisfied: typing-extensions>=3.6.6 in c:\\users\\chris\\anaconda3\\lib\\site-packages (from tensorflow) (3.7.4.3)\n",
      "Collecting astunparse>=1.6.0\n",
      "  Downloading astunparse-1.6.3-py2.py3-none-any.whl (12 kB)\n",
      "Requirement already satisfied: setuptools in c:\\users\\chris\\anaconda3\\lib\\site-packages (from tensorflow) (52.0.0.post20210125)\n",
      "Collecting termcolor>=1.1.0\n",
      "  Downloading termcolor-1.1.0.tar.gz (3.9 kB)\n",
      "Collecting tensorflow-io-gcs-filesystem>=0.23.1\n",
      "  Downloading tensorflow_io_gcs_filesystem-0.24.0-cp38-cp38-win_amd64.whl (1.5 MB)\n",
      "Collecting libclang>=9.0.1\n",
      "  Downloading libclang-13.0.0-py2.py3-none-win_amd64.whl (13.9 MB)\n",
      "Collecting absl-py>=0.4.0\n",
      "  Downloading absl_py-1.0.0-py3-none-any.whl (126 kB)\n",
      "Collecting grpcio<2.0,>=1.24.3\n",
      "  Downloading grpcio-1.44.0-cp38-cp38-win_amd64.whl (3.4 MB)\n",
      "Collecting protobuf>=3.9.2\n",
      "  Downloading protobuf-3.20.0-cp38-cp38-win_amd64.whl (904 kB)\n",
      "Requirement already satisfied: wrapt>=1.11.0 in c:\\users\\chris\\anaconda3\\lib\\site-packages (from tensorflow) (1.12.1)\n",
      "Collecting keras<2.9,>=2.8.0rc0\n",
      "  Downloading keras-2.8.0-py2.py3-none-any.whl (1.4 MB)\n",
      "Requirement already satisfied: numpy>=1.20 in c:\\users\\chris\\anaconda3\\lib\\site-packages (from tensorflow) (1.20.1)\n",
      "Collecting keras-preprocessing>=1.1.1\n",
      "  Downloading Keras_Preprocessing-1.1.2-py2.py3-none-any.whl (42 kB)\n",
      "Collecting opt-einsum>=2.3.2\n",
      "  Downloading opt_einsum-3.3.0-py3-none-any.whl (65 kB)\n",
      "Collecting gast>=0.2.1\n",
      "  Downloading gast-0.5.3-py3-none-any.whl (19 kB)\n",
      "Requirement already satisfied: h5py>=2.9.0 in c:\\users\\chris\\anaconda3\\lib\\site-packages (from tensorflow) (2.10.0)\n",
      "Requirement already satisfied: six>=1.12.0 in c:\\users\\chris\\anaconda3\\lib\\site-packages (from tensorflow) (1.15.0)\n",
      "Requirement already satisfied: wheel<1.0,>=0.23.0 in c:\\users\\chris\\anaconda3\\lib\\site-packages (from astunparse>=1.6.0->tensorflow) (0.36.2)\n",
      "Collecting tensorboard-plugin-wit>=1.6.0\n",
      "  Downloading tensorboard_plugin_wit-1.8.1-py3-none-any.whl (781 kB)\n",
      "Collecting google-auth<3,>=1.6.3\n",
      "  Downloading google_auth-2.6.4-py2.py3-none-any.whl (156 kB)\n",
      "Collecting markdown>=2.6.8\n",
      "  Downloading Markdown-3.3.6-py3-none-any.whl (97 kB)\n",
      "Collecting tensorboard-data-server<0.7.0,>=0.6.0\n",
      "  Downloading tensorboard_data_server-0.6.1-py3-none-any.whl (2.4 kB)\n",
      "Requirement already satisfied: werkzeug>=0.11.15 in c:\\users\\chris\\anaconda3\\lib\\site-packages (from tensorboard<2.9,>=2.8->tensorflow) (1.0.1)\n",
      "Collecting google-auth-oauthlib<0.5,>=0.4.1\n",
      "  Downloading google_auth_oauthlib-0.4.6-py2.py3-none-any.whl (18 kB)\n",
      "Requirement already satisfied: requests<3,>=2.21.0 in c:\\users\\chris\\anaconda3\\lib\\site-packages (from tensorboard<2.9,>=2.8->tensorflow) (2.25.1)\n",
      "Collecting pyasn1-modules>=0.2.1\n",
      "  Downloading pyasn1_modules-0.2.8-py2.py3-none-any.whl (155 kB)\n",
      "Collecting cachetools<6.0,>=2.0.0\n",
      "  Downloading cachetools-5.0.0-py3-none-any.whl (9.1 kB)\n",
      "Collecting rsa<5,>=3.1.4\n",
      "  Downloading rsa-4.8-py3-none-any.whl (39 kB)\n",
      "Collecting requests-oauthlib>=0.7.0\n",
      "  Downloading requests_oauthlib-1.3.1-py2.py3-none-any.whl (23 kB)\n",
      "Collecting importlib-metadata>=4.4\n",
      "  Downloading importlib_metadata-4.11.3-py3-none-any.whl (18 kB)\n",
      "Requirement already satisfied: zipp>=0.5 in c:\\users\\chris\\anaconda3\\lib\\site-packages (from importlib-metadata>=4.4->markdown>=2.6.8->tensorboard<2.9,>=2.8->tensorflow) (3.4.1)\n",
      "Collecting pyasn1<0.5.0,>=0.4.6\n",
      "  Downloading pyasn1-0.4.8-py2.py3-none-any.whl (77 kB)\n",
      "Requirement already satisfied: chardet<5,>=3.0.2 in c:\\users\\chris\\anaconda3\\lib\\site-packages (from requests<3,>=2.21.0->tensorboard<2.9,>=2.8->tensorflow) (4.0.0)\n",
      "Requirement already satisfied: certifi>=2017.4.17 in c:\\users\\chris\\anaconda3\\lib\\site-packages (from requests<3,>=2.21.0->tensorboard<2.9,>=2.8->tensorflow) (2020.12.5)\n",
      "Requirement already satisfied: idna<3,>=2.5 in c:\\users\\chris\\anaconda3\\lib\\site-packages (from requests<3,>=2.21.0->tensorboard<2.9,>=2.8->tensorflow) (2.10)\n",
      "Requirement already satisfied: urllib3<1.27,>=1.21.1 in c:\\users\\chris\\anaconda3\\lib\\site-packages (from requests<3,>=2.21.0->tensorboard<2.9,>=2.8->tensorflow) (1.26.4)\n",
      "Collecting oauthlib>=3.0.0\n",
      "  Downloading oauthlib-3.2.0-py3-none-any.whl (151 kB)\n",
      "Building wheels for collected packages: termcolor\n",
      "  Building wheel for termcolor (setup.py): started\n",
      "  Building wheel for termcolor (setup.py): finished with status 'done'\n",
      "  Created wheel for termcolor: filename=termcolor-1.1.0-py3-none-any.whl size=4829 sha256=e2da6a345efa0354e26a00c9e1d3d97de7a86dc218e34be4f4bf03bf12518b86\n",
      "  Stored in directory: c:\\users\\chris\\appdata\\local\\pip\\cache\\wheels\\a0\\16\\9c\\5473df82468f958445479c59e784896fa24f4a5fc024b0f501\n",
      "Successfully built termcolor\n",
      "Installing collected packages: pyasn1, rsa, pyasn1-modules, oauthlib, cachetools, requests-oauthlib, importlib-metadata, google-auth, tensorboard-plugin-wit, tensorboard-data-server, protobuf, markdown, grpcio, google-auth-oauthlib, absl-py, tf-estimator-nightly, termcolor, tensorflow-io-gcs-filesystem, tensorboard, opt-einsum, libclang, keras-preprocessing, keras, google-pasta, gast, flatbuffers, astunparse, tensorflow\n",
      "  Attempting uninstall: importlib-metadata\n",
      "    Found existing installation: importlib-metadata 3.10.0\n",
      "    Uninstalling importlib-metadata-3.10.0:\n",
      "      Successfully uninstalled importlib-metadata-3.10.0\n",
      "Successfully installed absl-py-1.0.0 astunparse-1.6.3 cachetools-5.0.0 flatbuffers-2.0 gast-0.5.3 google-auth-2.6.4 google-auth-oauthlib-0.4.6 google-pasta-0.2.0 grpcio-1.44.0 importlib-metadata-4.11.3 keras-2.8.0 keras-preprocessing-1.1.2 libclang-13.0.0 markdown-3.3.6 oauthlib-3.2.0 opt-einsum-3.3.0 protobuf-3.20.0 pyasn1-0.4.8 pyasn1-modules-0.2.8 requests-oauthlib-1.3.1 rsa-4.8 tensorboard-2.8.0 tensorboard-data-server-0.6.1 tensorboard-plugin-wit-1.8.1 tensorflow-2.8.0 tensorflow-io-gcs-filesystem-0.24.0 termcolor-1.1.0 tf-estimator-nightly-2.8.0.dev2021122109\n",
      "Note: you may need to restart the kernel to use updated packages.\n"
     ]
    }
   ],
   "source": [
    "pip install tensorflow"
   ]
  },
  {
   "cell_type": "code",
   "execution_count": 2,
   "id": "2da435d6",
   "metadata": {},
   "outputs": [],
   "source": [
    "import pandas as pd \n",
    "import numpy as np\n",
    "import matplotlib.pyplot as plt \n",
    "%matplotlib inline \n",
    "import plotly.express as px #version=4.14.0\n",
    "\n",
    "import tensorflow as tf\n",
    "from tensorflow.keras.models import Sequential\n",
    "from tensorflow.compat.v1.keras.layers import Dense,CuDNNLSTM, LSTM\n",
    "from sklearn.preprocessing import MinMaxScaler\n",
    "from sklearn.metrics import mean_squared_error\n",
    "import math "
   ]
  },
  {
   "cell_type": "code",
   "execution_count": 3,
   "id": "9277df23",
   "metadata": {},
   "outputs": [],
   "source": [
    "config = tf.compat.v1.ConfigProto(gpu_options = tf.compat.v1.GPUOptions(per_process_gpu_memory_fraction=0.8))\n",
    "config.gpu_options.allow_growth = True\n",
    "session = tf.compat.v1.Session(config=config)\n",
    "tf.compat.v1.keras.backend.set_session(session)"
   ]
  },
  {
   "cell_type": "code",
   "execution_count": 4,
   "id": "5bf85d06",
   "metadata": {},
   "outputs": [
    {
     "data": {
      "text/html": [
       "<div>\n",
       "<style scoped>\n",
       "    .dataframe tbody tr th:only-of-type {\n",
       "        vertical-align: middle;\n",
       "    }\n",
       "\n",
       "    .dataframe tbody tr th {\n",
       "        vertical-align: top;\n",
       "    }\n",
       "\n",
       "    .dataframe thead th {\n",
       "        text-align: right;\n",
       "    }\n",
       "</style>\n",
       "<table border=\"1\" class=\"dataframe\">\n",
       "  <thead>\n",
       "    <tr style=\"text-align: right;\">\n",
       "      <th></th>\n",
       "      <th>Passengers</th>\n",
       "    </tr>\n",
       "  </thead>\n",
       "  <tbody>\n",
       "    <tr>\n",
       "      <th>139</th>\n",
       "      <td>606</td>\n",
       "    </tr>\n",
       "    <tr>\n",
       "      <th>140</th>\n",
       "      <td>508</td>\n",
       "    </tr>\n",
       "    <tr>\n",
       "      <th>141</th>\n",
       "      <td>461</td>\n",
       "    </tr>\n",
       "    <tr>\n",
       "      <th>142</th>\n",
       "      <td>390</td>\n",
       "    </tr>\n",
       "    <tr>\n",
       "      <th>143</th>\n",
       "      <td>432</td>\n",
       "    </tr>\n",
       "  </tbody>\n",
       "</table>\n",
       "</div>"
      ],
      "text/plain": [
       "     Passengers\n",
       "139         606\n",
       "140         508\n",
       "141         461\n",
       "142         390\n",
       "143         432"
      ]
     },
     "execution_count": 4,
     "metadata": {},
     "output_type": "execute_result"
    }
   ],
   "source": [
    "df = pd.read_csv(\"Downloads/airline-passengers.csv\", usecols=['Passengers'])\n",
    "df.tail()"
   ]
  },
  {
   "cell_type": "code",
   "execution_count": 9,
   "id": "2a79632a",
   "metadata": {},
   "outputs": [
    {
     "data": {
      "text/html": [
       "<div>\n",
       "<style scoped>\n",
       "    .dataframe tbody tr th:only-of-type {\n",
       "        vertical-align: middle;\n",
       "    }\n",
       "\n",
       "    .dataframe tbody tr th {\n",
       "        vertical-align: top;\n",
       "    }\n",
       "\n",
       "    .dataframe thead th {\n",
       "        text-align: right;\n",
       "    }\n",
       "</style>\n",
       "<table border=\"1\" class=\"dataframe\">\n",
       "  <thead>\n",
       "    <tr style=\"text-align: right;\">\n",
       "      <th></th>\n",
       "      <th>Passengers</th>\n",
       "    </tr>\n",
       "  </thead>\n",
       "  <tbody>\n",
       "    <tr>\n",
       "      <th>0</th>\n",
       "      <td>112</td>\n",
       "    </tr>\n",
       "    <tr>\n",
       "      <th>1</th>\n",
       "      <td>118</td>\n",
       "    </tr>\n",
       "    <tr>\n",
       "      <th>2</th>\n",
       "      <td>132</td>\n",
       "    </tr>\n",
       "    <tr>\n",
       "      <th>3</th>\n",
       "      <td>129</td>\n",
       "    </tr>\n",
       "    <tr>\n",
       "      <th>4</th>\n",
       "      <td>121</td>\n",
       "    </tr>\n",
       "    <tr>\n",
       "      <th>5</th>\n",
       "      <td>135</td>\n",
       "    </tr>\n",
       "    <tr>\n",
       "      <th>6</th>\n",
       "      <td>148</td>\n",
       "    </tr>\n",
       "    <tr>\n",
       "      <th>7</th>\n",
       "      <td>148</td>\n",
       "    </tr>\n",
       "    <tr>\n",
       "      <th>8</th>\n",
       "      <td>136</td>\n",
       "    </tr>\n",
       "    <tr>\n",
       "      <th>9</th>\n",
       "      <td>119</td>\n",
       "    </tr>\n",
       "  </tbody>\n",
       "</table>\n",
       "</div>"
      ],
      "text/plain": [
       "   Passengers\n",
       "0         112\n",
       "1         118\n",
       "2         132\n",
       "3         129\n",
       "4         121\n",
       "5         135\n",
       "6         148\n",
       "7         148\n",
       "8         136\n",
       "9         119"
      ]
     },
     "execution_count": 9,
     "metadata": {},
     "output_type": "execute_result"
    }
   ],
   "source": [
    "df.head(10)"
   ]
  },
  {
   "cell_type": "code",
   "execution_count": 11,
   "id": "80dafb7c",
   "metadata": {},
   "outputs": [],
   "source": [
    "def denormalize(data):\n",
    "    return scaler.inverse_transform(data)\n",
    "\n",
    "def measure_rmse(actual, predicted):\n",
    "    return math.sqrt(mean_squared_error(actual, predicted))\n",
    "\n",
    "#https://machinelearningmastery.com/time-series-prediction-lstm-recurrent-neural-networks-python-keras/\n",
    "# convert an numpy array into a new dataset matrix\n",
    "def create_new_dataset(data, lag=1):\n",
    "    X, Y = [],[]\n",
    "    for i in range(len(data)-lag):\n",
    "        X.append(data[i: i+lag])\n",
    "        Y.append(data[i+lag])\n",
    "    return np.array(X), np.array(Y)"
   ]
  },
  {
   "cell_type": "code",
   "execution_count": 12,
   "id": "a519d2f5",
   "metadata": {},
   "outputs": [
    {
     "data": {
      "application/vnd.plotly.v1+json": {
       "config": {
        "plotlyServerURL": "https://plot.ly"
       },
       "data": [
        {
         "hovertemplate": "x=%{x}<br>Passengers=%{y}<extra></extra>",
         "legendgroup": "",
         "line": {
          "color": "#636efa",
          "dash": "solid"
         },
         "marker": {
          "symbol": "circle"
         },
         "mode": "lines",
         "name": "",
         "orientation": "v",
         "showlegend": false,
         "type": "scatter",
         "x": [
          0,
          1.006993006993007,
          2.013986013986014,
          3.0209790209790213,
          4.027972027972028,
          5.034965034965035,
          6.0419580419580425,
          7.04895104895105,
          8.055944055944057,
          9.062937062937063,
          10.06993006993007,
          11.076923076923078,
          12.083916083916085,
          13.090909090909092,
          14.0979020979021,
          15.104895104895107,
          16.111888111888113,
          17.11888111888112,
          18.125874125874127,
          19.132867132867133,
          20.13986013986014,
          21.14685314685315,
          22.153846153846157,
          23.160839160839163,
          24.16783216783217,
          25.174825174825177,
          26.181818181818183,
          27.18881118881119,
          28.1958041958042,
          29.202797202797207,
          30.209790209790214,
          31.21678321678322,
          32.22377622377623,
          33.23076923076923,
          34.23776223776224,
          35.24475524475525,
          36.25174825174825,
          37.25874125874126,
          38.26573426573427,
          39.27272727272727,
          40.27972027972028,
          41.286713286713294,
          42.2937062937063,
          43.30069930069931,
          44.307692307692314,
          45.31468531468532,
          46.32167832167833,
          47.328671328671334,
          48.33566433566434,
          49.34265734265735,
          50.349650349650354,
          51.35664335664336,
          52.36363636363637,
          53.37062937062937,
          54.37762237762238,
          55.38461538461539,
          56.3916083916084,
          57.39860139860141,
          58.405594405594414,
          59.41258741258742,
          60.41958041958043,
          61.426573426573434,
          62.43356643356644,
          63.44055944055945,
          64.44755244755245,
          65.45454545454547,
          66.46153846153847,
          67.46853146853148,
          68.47552447552448,
          69.4825174825175,
          70.4895104895105,
          71.49650349650351,
          72.5034965034965,
          73.51048951048952,
          74.51748251748252,
          75.52447552447553,
          76.53146853146853,
          77.53846153846155,
          78.54545454545455,
          79.55244755244756,
          80.55944055944056,
          81.56643356643357,
          82.57342657342659,
          83.58041958041959,
          84.5874125874126,
          85.5944055944056,
          86.60139860139861,
          87.60839160839161,
          88.61538461538463,
          89.62237762237763,
          90.62937062937064,
          91.63636363636364,
          92.64335664335665,
          93.65034965034965,
          94.65734265734267,
          95.66433566433567,
          96.67132867132868,
          97.6783216783217,
          98.6853146853147,
          99.69230769230771,
          100.69930069930071,
          101.70629370629372,
          102.71328671328672,
          103.72027972027973,
          104.72727272727273,
          105.73426573426575,
          106.74125874125875,
          107.74825174825176,
          108.75524475524476,
          109.76223776223777,
          110.76923076923077,
          111.77622377622379,
          112.7832167832168,
          113.7902097902098,
          114.79720279720281,
          115.80419580419581,
          116.81118881118883,
          117.81818181818183,
          118.82517482517484,
          119.83216783216784,
          120.83916083916085,
          121.84615384615385,
          122.85314685314687,
          123.86013986013987,
          124.86713286713288,
          125.87412587412588,
          126.8811188811189,
          127.8881118881119,
          128.8951048951049,
          129.90209790209792,
          130.90909090909093,
          131.91608391608392,
          132.92307692307693,
          133.93006993006995,
          134.93706293706296,
          135.94405594405595,
          136.95104895104896,
          137.95804195804197,
          138.965034965035,
          139.97202797202797,
          140.979020979021,
          141.986013986014,
          142.99300699300701,
          144
         ],
         "xaxis": "x",
         "y": [
          112,
          118,
          132,
          129,
          121,
          135,
          148,
          148,
          136,
          119,
          104,
          118,
          115,
          126,
          141,
          135,
          125,
          149,
          170,
          170,
          158,
          133,
          114,
          140,
          145,
          150,
          178,
          163,
          172,
          178,
          199,
          199,
          184,
          162,
          146,
          166,
          171,
          180,
          193,
          181,
          183,
          218,
          230,
          242,
          209,
          191,
          172,
          194,
          196,
          196,
          236,
          235,
          229,
          243,
          264,
          272,
          237,
          211,
          180,
          201,
          204,
          188,
          235,
          227,
          234,
          264,
          302,
          293,
          259,
          229,
          203,
          229,
          242,
          233,
          267,
          269,
          270,
          315,
          364,
          347,
          312,
          274,
          237,
          278,
          284,
          277,
          317,
          313,
          318,
          374,
          413,
          405,
          355,
          306,
          271,
          306,
          315,
          301,
          356,
          348,
          355,
          422,
          465,
          467,
          404,
          347,
          305,
          336,
          340,
          318,
          362,
          348,
          363,
          435,
          491,
          505,
          404,
          359,
          310,
          337,
          360,
          342,
          406,
          396,
          420,
          472,
          548,
          559,
          463,
          407,
          362,
          405,
          417,
          391,
          419,
          461,
          472,
          535,
          622,
          606,
          508,
          461,
          390,
          432
         ],
         "yaxis": "y"
        }
       ],
       "layout": {
        "legend": {
         "tracegroupgap": 0
        },
        "shapes": [
         {
          "line": {
           "color": "green",
           "dash": "dash"
          },
          "type": "line",
          "x0": 12,
          "x1": 12,
          "xref": "x",
          "y0": 0,
          "y1": 1,
          "yref": "y domain"
         },
         {
          "line": {
           "color": "green",
           "dash": "dash"
          },
          "type": "line",
          "x0": 24,
          "x1": 24,
          "xref": "x",
          "y0": 0,
          "y1": 1,
          "yref": "y domain"
         },
         {
          "line": {
           "color": "green",
           "dash": "dash"
          },
          "type": "line",
          "x0": 36,
          "x1": 36,
          "xref": "x",
          "y0": 0,
          "y1": 1,
          "yref": "y domain"
         },
         {
          "line": {
           "color": "green",
           "dash": "dash"
          },
          "type": "line",
          "x0": 120,
          "x1": 120,
          "xref": "x",
          "y0": 0,
          "y1": 1,
          "yref": "y domain"
         }
        ],
        "template": {
         "data": {
          "bar": [
           {
            "error_x": {
             "color": "#2a3f5f"
            },
            "error_y": {
             "color": "#2a3f5f"
            },
            "marker": {
             "line": {
              "color": "#E5ECF6",
              "width": 0.5
             },
             "pattern": {
              "fillmode": "overlay",
              "size": 10,
              "solidity": 0.2
             }
            },
            "type": "bar"
           }
          ],
          "barpolar": [
           {
            "marker": {
             "line": {
              "color": "#E5ECF6",
              "width": 0.5
             },
             "pattern": {
              "fillmode": "overlay",
              "size": 10,
              "solidity": 0.2
             }
            },
            "type": "barpolar"
           }
          ],
          "carpet": [
           {
            "aaxis": {
             "endlinecolor": "#2a3f5f",
             "gridcolor": "white",
             "linecolor": "white",
             "minorgridcolor": "white",
             "startlinecolor": "#2a3f5f"
            },
            "baxis": {
             "endlinecolor": "#2a3f5f",
             "gridcolor": "white",
             "linecolor": "white",
             "minorgridcolor": "white",
             "startlinecolor": "#2a3f5f"
            },
            "type": "carpet"
           }
          ],
          "choropleth": [
           {
            "colorbar": {
             "outlinewidth": 0,
             "ticks": ""
            },
            "type": "choropleth"
           }
          ],
          "contour": [
           {
            "colorbar": {
             "outlinewidth": 0,
             "ticks": ""
            },
            "colorscale": [
             [
              0,
              "#0d0887"
             ],
             [
              0.1111111111111111,
              "#46039f"
             ],
             [
              0.2222222222222222,
              "#7201a8"
             ],
             [
              0.3333333333333333,
              "#9c179e"
             ],
             [
              0.4444444444444444,
              "#bd3786"
             ],
             [
              0.5555555555555556,
              "#d8576b"
             ],
             [
              0.6666666666666666,
              "#ed7953"
             ],
             [
              0.7777777777777778,
              "#fb9f3a"
             ],
             [
              0.8888888888888888,
              "#fdca26"
             ],
             [
              1,
              "#f0f921"
             ]
            ],
            "type": "contour"
           }
          ],
          "contourcarpet": [
           {
            "colorbar": {
             "outlinewidth": 0,
             "ticks": ""
            },
            "type": "contourcarpet"
           }
          ],
          "heatmap": [
           {
            "colorbar": {
             "outlinewidth": 0,
             "ticks": ""
            },
            "colorscale": [
             [
              0,
              "#0d0887"
             ],
             [
              0.1111111111111111,
              "#46039f"
             ],
             [
              0.2222222222222222,
              "#7201a8"
             ],
             [
              0.3333333333333333,
              "#9c179e"
             ],
             [
              0.4444444444444444,
              "#bd3786"
             ],
             [
              0.5555555555555556,
              "#d8576b"
             ],
             [
              0.6666666666666666,
              "#ed7953"
             ],
             [
              0.7777777777777778,
              "#fb9f3a"
             ],
             [
              0.8888888888888888,
              "#fdca26"
             ],
             [
              1,
              "#f0f921"
             ]
            ],
            "type": "heatmap"
           }
          ],
          "heatmapgl": [
           {
            "colorbar": {
             "outlinewidth": 0,
             "ticks": ""
            },
            "colorscale": [
             [
              0,
              "#0d0887"
             ],
             [
              0.1111111111111111,
              "#46039f"
             ],
             [
              0.2222222222222222,
              "#7201a8"
             ],
             [
              0.3333333333333333,
              "#9c179e"
             ],
             [
              0.4444444444444444,
              "#bd3786"
             ],
             [
              0.5555555555555556,
              "#d8576b"
             ],
             [
              0.6666666666666666,
              "#ed7953"
             ],
             [
              0.7777777777777778,
              "#fb9f3a"
             ],
             [
              0.8888888888888888,
              "#fdca26"
             ],
             [
              1,
              "#f0f921"
             ]
            ],
            "type": "heatmapgl"
           }
          ],
          "histogram": [
           {
            "marker": {
             "pattern": {
              "fillmode": "overlay",
              "size": 10,
              "solidity": 0.2
             }
            },
            "type": "histogram"
           }
          ],
          "histogram2d": [
           {
            "colorbar": {
             "outlinewidth": 0,
             "ticks": ""
            },
            "colorscale": [
             [
              0,
              "#0d0887"
             ],
             [
              0.1111111111111111,
              "#46039f"
             ],
             [
              0.2222222222222222,
              "#7201a8"
             ],
             [
              0.3333333333333333,
              "#9c179e"
             ],
             [
              0.4444444444444444,
              "#bd3786"
             ],
             [
              0.5555555555555556,
              "#d8576b"
             ],
             [
              0.6666666666666666,
              "#ed7953"
             ],
             [
              0.7777777777777778,
              "#fb9f3a"
             ],
             [
              0.8888888888888888,
              "#fdca26"
             ],
             [
              1,
              "#f0f921"
             ]
            ],
            "type": "histogram2d"
           }
          ],
          "histogram2dcontour": [
           {
            "colorbar": {
             "outlinewidth": 0,
             "ticks": ""
            },
            "colorscale": [
             [
              0,
              "#0d0887"
             ],
             [
              0.1111111111111111,
              "#46039f"
             ],
             [
              0.2222222222222222,
              "#7201a8"
             ],
             [
              0.3333333333333333,
              "#9c179e"
             ],
             [
              0.4444444444444444,
              "#bd3786"
             ],
             [
              0.5555555555555556,
              "#d8576b"
             ],
             [
              0.6666666666666666,
              "#ed7953"
             ],
             [
              0.7777777777777778,
              "#fb9f3a"
             ],
             [
              0.8888888888888888,
              "#fdca26"
             ],
             [
              1,
              "#f0f921"
             ]
            ],
            "type": "histogram2dcontour"
           }
          ],
          "mesh3d": [
           {
            "colorbar": {
             "outlinewidth": 0,
             "ticks": ""
            },
            "type": "mesh3d"
           }
          ],
          "parcoords": [
           {
            "line": {
             "colorbar": {
              "outlinewidth": 0,
              "ticks": ""
             }
            },
            "type": "parcoords"
           }
          ],
          "pie": [
           {
            "automargin": true,
            "type": "pie"
           }
          ],
          "scatter": [
           {
            "marker": {
             "colorbar": {
              "outlinewidth": 0,
              "ticks": ""
             }
            },
            "type": "scatter"
           }
          ],
          "scatter3d": [
           {
            "line": {
             "colorbar": {
              "outlinewidth": 0,
              "ticks": ""
             }
            },
            "marker": {
             "colorbar": {
              "outlinewidth": 0,
              "ticks": ""
             }
            },
            "type": "scatter3d"
           }
          ],
          "scattercarpet": [
           {
            "marker": {
             "colorbar": {
              "outlinewidth": 0,
              "ticks": ""
             }
            },
            "type": "scattercarpet"
           }
          ],
          "scattergeo": [
           {
            "marker": {
             "colorbar": {
              "outlinewidth": 0,
              "ticks": ""
             }
            },
            "type": "scattergeo"
           }
          ],
          "scattergl": [
           {
            "marker": {
             "colorbar": {
              "outlinewidth": 0,
              "ticks": ""
             }
            },
            "type": "scattergl"
           }
          ],
          "scattermapbox": [
           {
            "marker": {
             "colorbar": {
              "outlinewidth": 0,
              "ticks": ""
             }
            },
            "type": "scattermapbox"
           }
          ],
          "scatterpolar": [
           {
            "marker": {
             "colorbar": {
              "outlinewidth": 0,
              "ticks": ""
             }
            },
            "type": "scatterpolar"
           }
          ],
          "scatterpolargl": [
           {
            "marker": {
             "colorbar": {
              "outlinewidth": 0,
              "ticks": ""
             }
            },
            "type": "scatterpolargl"
           }
          ],
          "scatterternary": [
           {
            "marker": {
             "colorbar": {
              "outlinewidth": 0,
              "ticks": ""
             }
            },
            "type": "scatterternary"
           }
          ],
          "surface": [
           {
            "colorbar": {
             "outlinewidth": 0,
             "ticks": ""
            },
            "colorscale": [
             [
              0,
              "#0d0887"
             ],
             [
              0.1111111111111111,
              "#46039f"
             ],
             [
              0.2222222222222222,
              "#7201a8"
             ],
             [
              0.3333333333333333,
              "#9c179e"
             ],
             [
              0.4444444444444444,
              "#bd3786"
             ],
             [
              0.5555555555555556,
              "#d8576b"
             ],
             [
              0.6666666666666666,
              "#ed7953"
             ],
             [
              0.7777777777777778,
              "#fb9f3a"
             ],
             [
              0.8888888888888888,
              "#fdca26"
             ],
             [
              1,
              "#f0f921"
             ]
            ],
            "type": "surface"
           }
          ],
          "table": [
           {
            "cells": {
             "fill": {
              "color": "#EBF0F8"
             },
             "line": {
              "color": "white"
             }
            },
            "header": {
             "fill": {
              "color": "#C8D4E3"
             },
             "line": {
              "color": "white"
             }
            },
            "type": "table"
           }
          ]
         },
         "layout": {
          "annotationdefaults": {
           "arrowcolor": "#2a3f5f",
           "arrowhead": 0,
           "arrowwidth": 1
          },
          "autotypenumbers": "strict",
          "coloraxis": {
           "colorbar": {
            "outlinewidth": 0,
            "ticks": ""
           }
          },
          "colorscale": {
           "diverging": [
            [
             0,
             "#8e0152"
            ],
            [
             0.1,
             "#c51b7d"
            ],
            [
             0.2,
             "#de77ae"
            ],
            [
             0.3,
             "#f1b6da"
            ],
            [
             0.4,
             "#fde0ef"
            ],
            [
             0.5,
             "#f7f7f7"
            ],
            [
             0.6,
             "#e6f5d0"
            ],
            [
             0.7,
             "#b8e186"
            ],
            [
             0.8,
             "#7fbc41"
            ],
            [
             0.9,
             "#4d9221"
            ],
            [
             1,
             "#276419"
            ]
           ],
           "sequential": [
            [
             0,
             "#0d0887"
            ],
            [
             0.1111111111111111,
             "#46039f"
            ],
            [
             0.2222222222222222,
             "#7201a8"
            ],
            [
             0.3333333333333333,
             "#9c179e"
            ],
            [
             0.4444444444444444,
             "#bd3786"
            ],
            [
             0.5555555555555556,
             "#d8576b"
            ],
            [
             0.6666666666666666,
             "#ed7953"
            ],
            [
             0.7777777777777778,
             "#fb9f3a"
            ],
            [
             0.8888888888888888,
             "#fdca26"
            ],
            [
             1,
             "#f0f921"
            ]
           ],
           "sequentialminus": [
            [
             0,
             "#0d0887"
            ],
            [
             0.1111111111111111,
             "#46039f"
            ],
            [
             0.2222222222222222,
             "#7201a8"
            ],
            [
             0.3333333333333333,
             "#9c179e"
            ],
            [
             0.4444444444444444,
             "#bd3786"
            ],
            [
             0.5555555555555556,
             "#d8576b"
            ],
            [
             0.6666666666666666,
             "#ed7953"
            ],
            [
             0.7777777777777778,
             "#fb9f3a"
            ],
            [
             0.8888888888888888,
             "#fdca26"
            ],
            [
             1,
             "#f0f921"
            ]
           ]
          },
          "colorway": [
           "#636efa",
           "#EF553B",
           "#00cc96",
           "#ab63fa",
           "#FFA15A",
           "#19d3f3",
           "#FF6692",
           "#B6E880",
           "#FF97FF",
           "#FECB52"
          ],
          "font": {
           "color": "#2a3f5f"
          },
          "geo": {
           "bgcolor": "white",
           "lakecolor": "white",
           "landcolor": "#E5ECF6",
           "showlakes": true,
           "showland": true,
           "subunitcolor": "white"
          },
          "hoverlabel": {
           "align": "left"
          },
          "hovermode": "closest",
          "mapbox": {
           "style": "light"
          },
          "paper_bgcolor": "white",
          "plot_bgcolor": "#E5ECF6",
          "polar": {
           "angularaxis": {
            "gridcolor": "white",
            "linecolor": "white",
            "ticks": ""
           },
           "bgcolor": "#E5ECF6",
           "radialaxis": {
            "gridcolor": "white",
            "linecolor": "white",
            "ticks": ""
           }
          },
          "scene": {
           "xaxis": {
            "backgroundcolor": "#E5ECF6",
            "gridcolor": "white",
            "gridwidth": 2,
            "linecolor": "white",
            "showbackground": true,
            "ticks": "",
            "zerolinecolor": "white"
           },
           "yaxis": {
            "backgroundcolor": "#E5ECF6",
            "gridcolor": "white",
            "gridwidth": 2,
            "linecolor": "white",
            "showbackground": true,
            "ticks": "",
            "zerolinecolor": "white"
           },
           "zaxis": {
            "backgroundcolor": "#E5ECF6",
            "gridcolor": "white",
            "gridwidth": 2,
            "linecolor": "white",
            "showbackground": true,
            "ticks": "",
            "zerolinecolor": "white"
           }
          },
          "shapedefaults": {
           "line": {
            "color": "#2a3f5f"
           }
          },
          "ternary": {
           "aaxis": {
            "gridcolor": "white",
            "linecolor": "white",
            "ticks": ""
           },
           "baxis": {
            "gridcolor": "white",
            "linecolor": "white",
            "ticks": ""
           },
           "bgcolor": "#E5ECF6",
           "caxis": {
            "gridcolor": "white",
            "linecolor": "white",
            "ticks": ""
           }
          },
          "title": {
           "x": 0.05
          },
          "xaxis": {
           "automargin": true,
           "gridcolor": "white",
           "linecolor": "white",
           "ticks": "",
           "title": {
            "standoff": 15
           },
           "zerolinecolor": "white",
           "zerolinewidth": 2
          },
          "yaxis": {
           "automargin": true,
           "gridcolor": "white",
           "linecolor": "white",
           "ticks": "",
           "title": {
            "standoff": 15
           },
           "zerolinecolor": "white",
           "zerolinewidth": 2
          }
         }
        },
        "title": {
         "text": "Airline Passenger trend"
        },
        "xaxis": {
         "anchor": "y",
         "domain": [
          0,
          1
         ],
         "rangeslider": {
          "visible": true
         },
         "title": {
          "text": "x"
         }
        },
        "yaxis": {
         "anchor": "x",
         "domain": [
          0,
          1
         ],
         "title": {
          "text": "Passengers"
         }
        }
       }
      },
      "text/html": [
       "<div>                            <div id=\"baae8339-fd12-414c-bf36-8b0fadaee8c3\" class=\"plotly-graph-div\" style=\"height:525px; width:100%;\"></div>            <script type=\"text/javascript\">                require([\"plotly\"], function(Plotly) {                    window.PLOTLYENV=window.PLOTLYENV || {};                                    if (document.getElementById(\"baae8339-fd12-414c-bf36-8b0fadaee8c3\")) {                    Plotly.newPlot(                        \"baae8339-fd12-414c-bf36-8b0fadaee8c3\",                        [{\"hovertemplate\":\"x=%{x}<br>Passengers=%{y}<extra></extra>\",\"legendgroup\":\"\",\"line\":{\"color\":\"#636efa\",\"dash\":\"solid\"},\"marker\":{\"symbol\":\"circle\"},\"mode\":\"lines\",\"name\":\"\",\"orientation\":\"v\",\"showlegend\":false,\"x\":[0.0,1.006993006993007,2.013986013986014,3.0209790209790213,4.027972027972028,5.034965034965035,6.0419580419580425,7.04895104895105,8.055944055944057,9.062937062937063,10.06993006993007,11.076923076923078,12.083916083916085,13.090909090909092,14.0979020979021,15.104895104895107,16.111888111888113,17.11888111888112,18.125874125874127,19.132867132867133,20.13986013986014,21.14685314685315,22.153846153846157,23.160839160839163,24.16783216783217,25.174825174825177,26.181818181818183,27.18881118881119,28.1958041958042,29.202797202797207,30.209790209790214,31.21678321678322,32.22377622377623,33.23076923076923,34.23776223776224,35.24475524475525,36.25174825174825,37.25874125874126,38.26573426573427,39.27272727272727,40.27972027972028,41.286713286713294,42.2937062937063,43.30069930069931,44.307692307692314,45.31468531468532,46.32167832167833,47.328671328671334,48.33566433566434,49.34265734265735,50.349650349650354,51.35664335664336,52.36363636363637,53.37062937062937,54.37762237762238,55.38461538461539,56.3916083916084,57.39860139860141,58.405594405594414,59.41258741258742,60.41958041958043,61.426573426573434,62.43356643356644,63.44055944055945,64.44755244755245,65.45454545454547,66.46153846153847,67.46853146853148,68.47552447552448,69.4825174825175,70.4895104895105,71.49650349650351,72.5034965034965,73.51048951048952,74.51748251748252,75.52447552447553,76.53146853146853,77.53846153846155,78.54545454545455,79.55244755244756,80.55944055944056,81.56643356643357,82.57342657342659,83.58041958041959,84.5874125874126,85.5944055944056,86.60139860139861,87.60839160839161,88.61538461538463,89.62237762237763,90.62937062937064,91.63636363636364,92.64335664335665,93.65034965034965,94.65734265734267,95.66433566433567,96.67132867132868,97.6783216783217,98.6853146853147,99.69230769230771,100.69930069930071,101.70629370629372,102.71328671328672,103.72027972027973,104.72727272727273,105.73426573426575,106.74125874125875,107.74825174825176,108.75524475524476,109.76223776223777,110.76923076923077,111.77622377622379,112.7832167832168,113.7902097902098,114.79720279720281,115.80419580419581,116.81118881118883,117.81818181818183,118.82517482517484,119.83216783216784,120.83916083916085,121.84615384615385,122.85314685314687,123.86013986013987,124.86713286713288,125.87412587412588,126.8811188811189,127.8881118881119,128.8951048951049,129.90209790209792,130.90909090909093,131.91608391608392,132.92307692307693,133.93006993006995,134.93706293706296,135.94405594405595,136.95104895104896,137.95804195804197,138.965034965035,139.97202797202797,140.979020979021,141.986013986014,142.99300699300701,144.0],\"xaxis\":\"x\",\"y\":[112,118,132,129,121,135,148,148,136,119,104,118,115,126,141,135,125,149,170,170,158,133,114,140,145,150,178,163,172,178,199,199,184,162,146,166,171,180,193,181,183,218,230,242,209,191,172,194,196,196,236,235,229,243,264,272,237,211,180,201,204,188,235,227,234,264,302,293,259,229,203,229,242,233,267,269,270,315,364,347,312,274,237,278,284,277,317,313,318,374,413,405,355,306,271,306,315,301,356,348,355,422,465,467,404,347,305,336,340,318,362,348,363,435,491,505,404,359,310,337,360,342,406,396,420,472,548,559,463,407,362,405,417,391,419,461,472,535,622,606,508,461,390,432],\"yaxis\":\"y\",\"type\":\"scatter\"}],                        {\"template\":{\"data\":{\"bar\":[{\"error_x\":{\"color\":\"#2a3f5f\"},\"error_y\":{\"color\":\"#2a3f5f\"},\"marker\":{\"line\":{\"color\":\"#E5ECF6\",\"width\":0.5},\"pattern\":{\"fillmode\":\"overlay\",\"size\":10,\"solidity\":0.2}},\"type\":\"bar\"}],\"barpolar\":[{\"marker\":{\"line\":{\"color\":\"#E5ECF6\",\"width\":0.5},\"pattern\":{\"fillmode\":\"overlay\",\"size\":10,\"solidity\":0.2}},\"type\":\"barpolar\"}],\"carpet\":[{\"aaxis\":{\"endlinecolor\":\"#2a3f5f\",\"gridcolor\":\"white\",\"linecolor\":\"white\",\"minorgridcolor\":\"white\",\"startlinecolor\":\"#2a3f5f\"},\"baxis\":{\"endlinecolor\":\"#2a3f5f\",\"gridcolor\":\"white\",\"linecolor\":\"white\",\"minorgridcolor\":\"white\",\"startlinecolor\":\"#2a3f5f\"},\"type\":\"carpet\"}],\"choropleth\":[{\"colorbar\":{\"outlinewidth\":0,\"ticks\":\"\"},\"type\":\"choropleth\"}],\"contour\":[{\"colorbar\":{\"outlinewidth\":0,\"ticks\":\"\"},\"colorscale\":[[0.0,\"#0d0887\"],[0.1111111111111111,\"#46039f\"],[0.2222222222222222,\"#7201a8\"],[0.3333333333333333,\"#9c179e\"],[0.4444444444444444,\"#bd3786\"],[0.5555555555555556,\"#d8576b\"],[0.6666666666666666,\"#ed7953\"],[0.7777777777777778,\"#fb9f3a\"],[0.8888888888888888,\"#fdca26\"],[1.0,\"#f0f921\"]],\"type\":\"contour\"}],\"contourcarpet\":[{\"colorbar\":{\"outlinewidth\":0,\"ticks\":\"\"},\"type\":\"contourcarpet\"}],\"heatmap\":[{\"colorbar\":{\"outlinewidth\":0,\"ticks\":\"\"},\"colorscale\":[[0.0,\"#0d0887\"],[0.1111111111111111,\"#46039f\"],[0.2222222222222222,\"#7201a8\"],[0.3333333333333333,\"#9c179e\"],[0.4444444444444444,\"#bd3786\"],[0.5555555555555556,\"#d8576b\"],[0.6666666666666666,\"#ed7953\"],[0.7777777777777778,\"#fb9f3a\"],[0.8888888888888888,\"#fdca26\"],[1.0,\"#f0f921\"]],\"type\":\"heatmap\"}],\"heatmapgl\":[{\"colorbar\":{\"outlinewidth\":0,\"ticks\":\"\"},\"colorscale\":[[0.0,\"#0d0887\"],[0.1111111111111111,\"#46039f\"],[0.2222222222222222,\"#7201a8\"],[0.3333333333333333,\"#9c179e\"],[0.4444444444444444,\"#bd3786\"],[0.5555555555555556,\"#d8576b\"],[0.6666666666666666,\"#ed7953\"],[0.7777777777777778,\"#fb9f3a\"],[0.8888888888888888,\"#fdca26\"],[1.0,\"#f0f921\"]],\"type\":\"heatmapgl\"}],\"histogram\":[{\"marker\":{\"pattern\":{\"fillmode\":\"overlay\",\"size\":10,\"solidity\":0.2}},\"type\":\"histogram\"}],\"histogram2d\":[{\"colorbar\":{\"outlinewidth\":0,\"ticks\":\"\"},\"colorscale\":[[0.0,\"#0d0887\"],[0.1111111111111111,\"#46039f\"],[0.2222222222222222,\"#7201a8\"],[0.3333333333333333,\"#9c179e\"],[0.4444444444444444,\"#bd3786\"],[0.5555555555555556,\"#d8576b\"],[0.6666666666666666,\"#ed7953\"],[0.7777777777777778,\"#fb9f3a\"],[0.8888888888888888,\"#fdca26\"],[1.0,\"#f0f921\"]],\"type\":\"histogram2d\"}],\"histogram2dcontour\":[{\"colorbar\":{\"outlinewidth\":0,\"ticks\":\"\"},\"colorscale\":[[0.0,\"#0d0887\"],[0.1111111111111111,\"#46039f\"],[0.2222222222222222,\"#7201a8\"],[0.3333333333333333,\"#9c179e\"],[0.4444444444444444,\"#bd3786\"],[0.5555555555555556,\"#d8576b\"],[0.6666666666666666,\"#ed7953\"],[0.7777777777777778,\"#fb9f3a\"],[0.8888888888888888,\"#fdca26\"],[1.0,\"#f0f921\"]],\"type\":\"histogram2dcontour\"}],\"mesh3d\":[{\"colorbar\":{\"outlinewidth\":0,\"ticks\":\"\"},\"type\":\"mesh3d\"}],\"parcoords\":[{\"line\":{\"colorbar\":{\"outlinewidth\":0,\"ticks\":\"\"}},\"type\":\"parcoords\"}],\"pie\":[{\"automargin\":true,\"type\":\"pie\"}],\"scatter\":[{\"marker\":{\"colorbar\":{\"outlinewidth\":0,\"ticks\":\"\"}},\"type\":\"scatter\"}],\"scatter3d\":[{\"line\":{\"colorbar\":{\"outlinewidth\":0,\"ticks\":\"\"}},\"marker\":{\"colorbar\":{\"outlinewidth\":0,\"ticks\":\"\"}},\"type\":\"scatter3d\"}],\"scattercarpet\":[{\"marker\":{\"colorbar\":{\"outlinewidth\":0,\"ticks\":\"\"}},\"type\":\"scattercarpet\"}],\"scattergeo\":[{\"marker\":{\"colorbar\":{\"outlinewidth\":0,\"ticks\":\"\"}},\"type\":\"scattergeo\"}],\"scattergl\":[{\"marker\":{\"colorbar\":{\"outlinewidth\":0,\"ticks\":\"\"}},\"type\":\"scattergl\"}],\"scattermapbox\":[{\"marker\":{\"colorbar\":{\"outlinewidth\":0,\"ticks\":\"\"}},\"type\":\"scattermapbox\"}],\"scatterpolar\":[{\"marker\":{\"colorbar\":{\"outlinewidth\":0,\"ticks\":\"\"}},\"type\":\"scatterpolar\"}],\"scatterpolargl\":[{\"marker\":{\"colorbar\":{\"outlinewidth\":0,\"ticks\":\"\"}},\"type\":\"scatterpolargl\"}],\"scatterternary\":[{\"marker\":{\"colorbar\":{\"outlinewidth\":0,\"ticks\":\"\"}},\"type\":\"scatterternary\"}],\"surface\":[{\"colorbar\":{\"outlinewidth\":0,\"ticks\":\"\"},\"colorscale\":[[0.0,\"#0d0887\"],[0.1111111111111111,\"#46039f\"],[0.2222222222222222,\"#7201a8\"],[0.3333333333333333,\"#9c179e\"],[0.4444444444444444,\"#bd3786\"],[0.5555555555555556,\"#d8576b\"],[0.6666666666666666,\"#ed7953\"],[0.7777777777777778,\"#fb9f3a\"],[0.8888888888888888,\"#fdca26\"],[1.0,\"#f0f921\"]],\"type\":\"surface\"}],\"table\":[{\"cells\":{\"fill\":{\"color\":\"#EBF0F8\"},\"line\":{\"color\":\"white\"}},\"header\":{\"fill\":{\"color\":\"#C8D4E3\"},\"line\":{\"color\":\"white\"}},\"type\":\"table\"}]},\"layout\":{\"annotationdefaults\":{\"arrowcolor\":\"#2a3f5f\",\"arrowhead\":0,\"arrowwidth\":1},\"autotypenumbers\":\"strict\",\"coloraxis\":{\"colorbar\":{\"outlinewidth\":0,\"ticks\":\"\"}},\"colorscale\":{\"diverging\":[[0,\"#8e0152\"],[0.1,\"#c51b7d\"],[0.2,\"#de77ae\"],[0.3,\"#f1b6da\"],[0.4,\"#fde0ef\"],[0.5,\"#f7f7f7\"],[0.6,\"#e6f5d0\"],[0.7,\"#b8e186\"],[0.8,\"#7fbc41\"],[0.9,\"#4d9221\"],[1,\"#276419\"]],\"sequential\":[[0.0,\"#0d0887\"],[0.1111111111111111,\"#46039f\"],[0.2222222222222222,\"#7201a8\"],[0.3333333333333333,\"#9c179e\"],[0.4444444444444444,\"#bd3786\"],[0.5555555555555556,\"#d8576b\"],[0.6666666666666666,\"#ed7953\"],[0.7777777777777778,\"#fb9f3a\"],[0.8888888888888888,\"#fdca26\"],[1.0,\"#f0f921\"]],\"sequentialminus\":[[0.0,\"#0d0887\"],[0.1111111111111111,\"#46039f\"],[0.2222222222222222,\"#7201a8\"],[0.3333333333333333,\"#9c179e\"],[0.4444444444444444,\"#bd3786\"],[0.5555555555555556,\"#d8576b\"],[0.6666666666666666,\"#ed7953\"],[0.7777777777777778,\"#fb9f3a\"],[0.8888888888888888,\"#fdca26\"],[1.0,\"#f0f921\"]]},\"colorway\":[\"#636efa\",\"#EF553B\",\"#00cc96\",\"#ab63fa\",\"#FFA15A\",\"#19d3f3\",\"#FF6692\",\"#B6E880\",\"#FF97FF\",\"#FECB52\"],\"font\":{\"color\":\"#2a3f5f\"},\"geo\":{\"bgcolor\":\"white\",\"lakecolor\":\"white\",\"landcolor\":\"#E5ECF6\",\"showlakes\":true,\"showland\":true,\"subunitcolor\":\"white\"},\"hoverlabel\":{\"align\":\"left\"},\"hovermode\":\"closest\",\"mapbox\":{\"style\":\"light\"},\"paper_bgcolor\":\"white\",\"plot_bgcolor\":\"#E5ECF6\",\"polar\":{\"angularaxis\":{\"gridcolor\":\"white\",\"linecolor\":\"white\",\"ticks\":\"\"},\"bgcolor\":\"#E5ECF6\",\"radialaxis\":{\"gridcolor\":\"white\",\"linecolor\":\"white\",\"ticks\":\"\"}},\"scene\":{\"xaxis\":{\"backgroundcolor\":\"#E5ECF6\",\"gridcolor\":\"white\",\"gridwidth\":2,\"linecolor\":\"white\",\"showbackground\":true,\"ticks\":\"\",\"zerolinecolor\":\"white\"},\"yaxis\":{\"backgroundcolor\":\"#E5ECF6\",\"gridcolor\":\"white\",\"gridwidth\":2,\"linecolor\":\"white\",\"showbackground\":true,\"ticks\":\"\",\"zerolinecolor\":\"white\"},\"zaxis\":{\"backgroundcolor\":\"#E5ECF6\",\"gridcolor\":\"white\",\"gridwidth\":2,\"linecolor\":\"white\",\"showbackground\":true,\"ticks\":\"\",\"zerolinecolor\":\"white\"}},\"shapedefaults\":{\"line\":{\"color\":\"#2a3f5f\"}},\"ternary\":{\"aaxis\":{\"gridcolor\":\"white\",\"linecolor\":\"white\",\"ticks\":\"\"},\"baxis\":{\"gridcolor\":\"white\",\"linecolor\":\"white\",\"ticks\":\"\"},\"bgcolor\":\"#E5ECF6\",\"caxis\":{\"gridcolor\":\"white\",\"linecolor\":\"white\",\"ticks\":\"\"}},\"title\":{\"x\":0.05},\"xaxis\":{\"automargin\":true,\"gridcolor\":\"white\",\"linecolor\":\"white\",\"ticks\":\"\",\"title\":{\"standoff\":15},\"zerolinecolor\":\"white\",\"zerolinewidth\":2},\"yaxis\":{\"automargin\":true,\"gridcolor\":\"white\",\"linecolor\":\"white\",\"ticks\":\"\",\"title\":{\"standoff\":15},\"zerolinecolor\":\"white\",\"zerolinewidth\":2}}},\"xaxis\":{\"anchor\":\"y\",\"domain\":[0.0,1.0],\"title\":{\"text\":\"x\"},\"rangeslider\":{\"visible\":true}},\"yaxis\":{\"anchor\":\"x\",\"domain\":[0.0,1.0],\"title\":{\"text\":\"Passengers\"}},\"legend\":{\"tracegroupgap\":0},\"title\":{\"text\":\"Airline Passenger trend\"},\"shapes\":[{\"line\":{\"color\":\"green\",\"dash\":\"dash\"},\"type\":\"line\",\"x0\":12,\"x1\":12,\"xref\":\"x\",\"y0\":0,\"y1\":1,\"yref\":\"y domain\"},{\"line\":{\"color\":\"green\",\"dash\":\"dash\"},\"type\":\"line\",\"x0\":24,\"x1\":24,\"xref\":\"x\",\"y0\":0,\"y1\":1,\"yref\":\"y domain\"},{\"line\":{\"color\":\"green\",\"dash\":\"dash\"},\"type\":\"line\",\"x0\":36,\"x1\":36,\"xref\":\"x\",\"y0\":0,\"y1\":1,\"yref\":\"y domain\"},{\"line\":{\"color\":\"green\",\"dash\":\"dash\"},\"type\":\"line\",\"x0\":120,\"x1\":120,\"xref\":\"x\",\"y0\":0,\"y1\":1,\"yref\":\"y domain\"}]},                        {\"responsive\": true}                    ).then(function(){\n",
       "                            \n",
       "var gd = document.getElementById('baae8339-fd12-414c-bf36-8b0fadaee8c3');\n",
       "var x = new MutationObserver(function (mutations, observer) {{\n",
       "        var display = window.getComputedStyle(gd).display;\n",
       "        if (!display || display === 'none') {{\n",
       "            console.log([gd, 'removed!']);\n",
       "            Plotly.purge(gd);\n",
       "            observer.disconnect();\n",
       "        }}\n",
       "}});\n",
       "\n",
       "// Listen for the removal of the full notebook cells\n",
       "var notebookContainer = gd.closest('#notebook-container');\n",
       "if (notebookContainer) {{\n",
       "    x.observe(notebookContainer, {childList: true});\n",
       "}}\n",
       "\n",
       "// Listen for the clearing of the current output cell\n",
       "var outputEl = gd.closest('.output');\n",
       "if (outputEl) {{\n",
       "    x.observe(outputEl, {childList: true});\n",
       "}}\n",
       "\n",
       "                        })                };                });            </script>        </div>"
      ]
     },
     "metadata": {},
     "output_type": "display_data"
    }
   ],
   "source": [
    "t = np.linspace(0,144,144)\n",
    "fig = px.line(df.reset_index(), x = t, y = 'Passengers', title= 'Airline Passenger trend')\n",
    "fig.update_xaxes(rangeslider_visible= True)\n",
    "line_type = \"dash\"\n",
    "c= \"green\"\n",
    "fig.add_vline(x=12 , line_dash=line_type, line_color=c)\n",
    "fig.add_vline(x=24 , line_dash=line_type, line_color=c)\n",
    "fig.add_vline(x=36 , line_dash=line_type, line_color=c)\n",
    "fig.add_vline(x=120 , line_dash=line_type, line_color=c)\n",
    "fig.show()"
   ]
  },
  {
   "cell_type": "raw",
   "id": "e75397dc",
   "metadata": {},
   "source": [
    "In the long term there is an upward trend for the number of passengers year to year and for the short term there is a trend of passengers decreasing from months june to october. Could be attributed climate conditions"
   ]
  },
  {
   "cell_type": "code",
   "execution_count": 13,
   "id": "d2505722",
   "metadata": {},
   "outputs": [
    {
     "data": {
      "image/png": "[encoded data removed]",
      "text/plain": [
       "<Figure size 432x288 with 1 Axes>"
      ]
     },
     "metadata": {
      "needs_background": "light"
     },
     "output_type": "display_data"
    }
   ],
   "source": [
    "from matplotlib import pyplot\n",
    "pyplot.plot(df)\n",
    "pyplot.show()"
   ]
  },
  {
   "cell_type": "code",
   "execution_count": 14,
   "id": "e766ce3c",
   "metadata": {},
   "outputs": [],
   "source": [
    "#fixing random seed \n",
    "np.random.seed(0)\n",
    "#convert int to float as it's more suitable for modelling\n",
    "data = df.values.astype('float64')"
   ]
  },
  {
   "cell_type": "code",
   "execution_count": 15,
   "id": "89aacf96",
   "metadata": {},
   "outputs": [],
   "source": [
    "#normalize dataset \n",
    "#LSTMs are sensitive to scale of input data\n",
    "scaler = MinMaxScaler()\n",
    "scaled_data= scaler.fit_transform(data)"
   ]
  },
  {
   "cell_type": "code",
   "execution_count": 16,
   "id": "2471bbe5",
   "metadata": {},
   "outputs": [],
   "source": [
    "#train_test_split\n",
    "train_size = int(len(scaled_data)*.67)# 67:33 split \n",
    "train,test = scaled_data[0:train_size],scaled_data[train_size:]\n"
   ]
  },
  {
   "cell_type": "code",
   "execution_count": 17,
   "id": "a62c99aa",
   "metadata": {},
   "outputs": [],
   "source": [
    "# reshape into X=t and Y=t+1\n",
    "lag = 1 # default is kept as one \n",
    "x_train, y_train = create_new_dataset(train, lag)\n",
    "x_test, y_test = create_new_dataset(test, lag)"
   ]
  },
  {
   "cell_type": "code",
   "execution_count": 18,
   "id": "4a1367c3",
   "metadata": {},
   "outputs": [],
   "source": [
    "#LSTM needs input data with format [samples, time steps and features]\n",
    "x_train =np.reshape(x_train,(x_train.shape[0],1,x_train.shape[1])) #[94,1,1]\n",
    "x_test =np.reshape(x_test,(x_test.shape[0], 1 ,x_test.shape[1])) #[46,1,1]"
   ]
  },
  {
   "cell_type": "markdown",
   "id": "9e5b17f9",
   "metadata": {},
   "source": [
    "### Building the model"
   ]
  },
  {
   "cell_type": "code",
   "execution_count": 19,
   "id": "628189df",
   "metadata": {},
   "outputs": [
    {
     "name": "stdout",
     "output_type": "stream",
     "text": [
      "Model: \"sequential\"\n",
      "_________________________________________________________________\n",
      " Layer (type)                Output Shape              Param #   \n",
      "=================================================================\n",
      " lstm (LSTM)                 (None, 4)                 96        \n",
      "                                                                 \n",
      " dense (Dense)               (None, 1)                 5         \n",
      "                                                                 \n",
      "=================================================================\n",
      "Total params: 101\n",
      "Trainable params: 101\n",
      "Non-trainable params: 0\n",
      "_________________________________________________________________\n",
      "Epoch 1/100\n",
      "95/95 - 2s - loss: 0.0498 - 2s/epoch - 23ms/step\n",
      "Epoch 2/100\n",
      "95/95 - 0s - loss: 0.0236 - 120ms/epoch - 1ms/step\n",
      "Epoch 3/100\n",
      "95/95 - 0s - loss: 0.0186 - 118ms/epoch - 1ms/step\n",
      "Epoch 4/100\n",
      "95/95 - 0s - loss: 0.0175 - 123ms/epoch - 1ms/step\n",
      "Epoch 5/100\n",
      "95/95 - 0s - loss: 0.0163 - 109ms/epoch - 1ms/step\n",
      "Epoch 6/100\n",
      "95/95 - 0s - loss: 0.0150 - 117ms/epoch - 1ms/step\n",
      "Epoch 7/100\n",
      "95/95 - 0s - loss: 0.0140 - 142ms/epoch - 1ms/step\n",
      "Epoch 8/100\n",
      "95/95 - 0s - loss: 0.0129 - 143ms/epoch - 2ms/step\n",
      "Epoch 9/100\n",
      "95/95 - 0s - loss: 0.0118 - 144ms/epoch - 2ms/step\n",
      "Epoch 10/100\n",
      "95/95 - 0s - loss: 0.0106 - 123ms/epoch - 1ms/step\n",
      "Epoch 11/100\n",
      "95/95 - 0s - loss: 0.0096 - 124ms/epoch - 1ms/step\n",
      "Epoch 12/100\n",
      "95/95 - 0s - loss: 0.0085 - 275ms/epoch - 3ms/step\n",
      "Epoch 13/100\n",
      "95/95 - 0s - loss: 0.0075 - 373ms/epoch - 4ms/step\n",
      "Epoch 14/100\n",
      "95/95 - 0s - loss: 0.0066 - 223ms/epoch - 2ms/step\n",
      "Epoch 15/100\n",
      "95/95 - 0s - loss: 0.0058 - 342ms/epoch - 4ms/step\n",
      "Epoch 16/100\n",
      "95/95 - 0s - loss: 0.0050 - 381ms/epoch - 4ms/step\n",
      "Epoch 17/100\n",
      "95/95 - 0s - loss: 0.0044 - 266ms/epoch - 3ms/step\n",
      "Epoch 18/100\n",
      "95/95 - 0s - loss: 0.0038 - 360ms/epoch - 4ms/step\n",
      "Epoch 19/100\n",
      "95/95 - 0s - loss: 0.0034 - 368ms/epoch - 4ms/step\n",
      "Epoch 20/100\n",
      "95/95 - 0s - loss: 0.0030 - 362ms/epoch - 4ms/step\n",
      "Epoch 21/100\n",
      "95/95 - 0s - loss: 0.0028 - 397ms/epoch - 4ms/step\n",
      "Epoch 22/100\n",
      "95/95 - 0s - loss: 0.0026 - 406ms/epoch - 4ms/step\n",
      "Epoch 23/100\n",
      "95/95 - 0s - loss: 0.0024 - 381ms/epoch - 4ms/step\n",
      "Epoch 24/100\n",
      "95/95 - 0s - loss: 0.0023 - 259ms/epoch - 3ms/step\n",
      "Epoch 25/100\n",
      "95/95 - 0s - loss: 0.0022 - 198ms/epoch - 2ms/step\n",
      "Epoch 26/100\n",
      "95/95 - 0s - loss: 0.0022 - 202ms/epoch - 2ms/step\n",
      "Epoch 27/100\n",
      "95/95 - 0s - loss: 0.0022 - 163ms/epoch - 2ms/step\n",
      "Epoch 28/100\n",
      "95/95 - 0s - loss: 0.0021 - 167ms/epoch - 2ms/step\n",
      "Epoch 29/100\n",
      "95/95 - 0s - loss: 0.0021 - 143ms/epoch - 2ms/step\n",
      "Epoch 30/100\n",
      "95/95 - 0s - loss: 0.0022 - 290ms/epoch - 3ms/step\n",
      "Epoch 31/100\n",
      "95/95 - 0s - loss: 0.0022 - 375ms/epoch - 4ms/step\n",
      "Epoch 32/100\n",
      "95/95 - 0s - loss: 0.0020 - 389ms/epoch - 4ms/step\n",
      "Epoch 33/100\n",
      "95/95 - 0s - loss: 0.0021 - 349ms/epoch - 4ms/step\n",
      "Epoch 34/100\n",
      "95/95 - 0s - loss: 0.0022 - 354ms/epoch - 4ms/step\n",
      "Epoch 35/100\n",
      "95/95 - 0s - loss: 0.0021 - 355ms/epoch - 4ms/step\n",
      "Epoch 36/100\n",
      "95/95 - 0s - loss: 0.0021 - 338ms/epoch - 4ms/step\n",
      "Epoch 37/100\n",
      "95/95 - 0s - loss: 0.0021 - 350ms/epoch - 4ms/step\n",
      "Epoch 38/100\n",
      "95/95 - 0s - loss: 0.0021 - 325ms/epoch - 3ms/step\n",
      "Epoch 39/100\n",
      "95/95 - 0s - loss: 0.0021 - 323ms/epoch - 3ms/step\n",
      "Epoch 40/100\n",
      "95/95 - 0s - loss: 0.0021 - 206ms/epoch - 2ms/step\n",
      "Epoch 41/100\n",
      "95/95 - 0s - loss: 0.0021 - 204ms/epoch - 2ms/step\n",
      "Epoch 42/100\n",
      "95/95 - 0s - loss: 0.0021 - 228ms/epoch - 2ms/step\n",
      "Epoch 43/100\n",
      "95/95 - 0s - loss: 0.0020 - 248ms/epoch - 3ms/step\n",
      "Epoch 44/100\n",
      "95/95 - 0s - loss: 0.0020 - 149ms/epoch - 2ms/step\n",
      "Epoch 45/100\n",
      "95/95 - 0s - loss: 0.0021 - 132ms/epoch - 1ms/step\n",
      "Epoch 46/100\n",
      "95/95 - 0s - loss: 0.0020 - 242ms/epoch - 3ms/step\n",
      "Epoch 47/100\n",
      "95/95 - 0s - loss: 0.0021 - 369ms/epoch - 4ms/step\n",
      "Epoch 48/100\n",
      "95/95 - 0s - loss: 0.0022 - 368ms/epoch - 4ms/step\n",
      "Epoch 49/100\n",
      "95/95 - 0s - loss: 0.0022 - 331ms/epoch - 3ms/step\n",
      "Epoch 50/100\n",
      "95/95 - 0s - loss: 0.0021 - 379ms/epoch - 4ms/step\n",
      "Epoch 51/100\n",
      "95/95 - 0s - loss: 0.0020 - 386ms/epoch - 4ms/step\n",
      "Epoch 52/100\n",
      "95/95 - 0s - loss: 0.0021 - 367ms/epoch - 4ms/step\n",
      "Epoch 53/100\n",
      "95/95 - 0s - loss: 0.0021 - 340ms/epoch - 4ms/step\n",
      "Epoch 54/100\n",
      "95/95 - 0s - loss: 0.0021 - 352ms/epoch - 4ms/step\n",
      "Epoch 55/100\n",
      "95/95 - 0s - loss: 0.0021 - 274ms/epoch - 3ms/step\n",
      "Epoch 56/100\n",
      "95/95 - 0s - loss: 0.0021 - 229ms/epoch - 2ms/step\n",
      "Epoch 57/100\n",
      "95/95 - 0s - loss: 0.0021 - 193ms/epoch - 2ms/step\n",
      "Epoch 58/100\n",
      "95/95 - 0s - loss: 0.0021 - 263ms/epoch - 3ms/step\n",
      "Epoch 59/100\n",
      "95/95 - 0s - loss: 0.0021 - 370ms/epoch - 4ms/step\n",
      "Epoch 60/100\n",
      "95/95 - 0s - loss: 0.0021 - 343ms/epoch - 4ms/step\n",
      "Epoch 61/100\n",
      "95/95 - 0s - loss: 0.0021 - 137ms/epoch - 1ms/step\n",
      "Epoch 62/100\n",
      "95/95 - 0s - loss: 0.0021 - 137ms/epoch - 1ms/step\n",
      "Epoch 63/100\n",
      "95/95 - 0s - loss: 0.0021 - 171ms/epoch - 2ms/step\n",
      "Epoch 64/100\n",
      "95/95 - 0s - loss: 0.0021 - 127ms/epoch - 1ms/step\n",
      "Epoch 65/100\n",
      "95/95 - 0s - loss: 0.0021 - 112ms/epoch - 1ms/step\n",
      "Epoch 66/100\n",
      "95/95 - 0s - loss: 0.0021 - 122ms/epoch - 1ms/step\n",
      "Epoch 67/100\n",
      "95/95 - 0s - loss: 0.0021 - 128ms/epoch - 1ms/step\n",
      "Epoch 68/100\n",
      "95/95 - 0s - loss: 0.0021 - 116ms/epoch - 1ms/step\n",
      "Epoch 69/100\n",
      "95/95 - 0s - loss: 0.0021 - 119ms/epoch - 1ms/step\n",
      "Epoch 70/100\n",
      "95/95 - 0s - loss: 0.0021 - 122ms/epoch - 1ms/step\n",
      "Epoch 71/100\n",
      "95/95 - 0s - loss: 0.0021 - 120ms/epoch - 1ms/step\n",
      "Epoch 72/100\n",
      "95/95 - 0s - loss: 0.0021 - 122ms/epoch - 1ms/step\n",
      "Epoch 73/100\n",
      "95/95 - 0s - loss: 0.0021 - 110ms/epoch - 1ms/step\n",
      "Epoch 74/100\n",
      "95/95 - 0s - loss: 0.0021 - 118ms/epoch - 1ms/step\n",
      "Epoch 75/100\n",
      "95/95 - 0s - loss: 0.0021 - 112ms/epoch - 1ms/step\n",
      "Epoch 76/100\n",
      "95/95 - 0s - loss: 0.0021 - 106ms/epoch - 1ms/step\n",
      "Epoch 77/100\n",
      "95/95 - 0s - loss: 0.0021 - 112ms/epoch - 1ms/step\n",
      "Epoch 78/100\n",
      "95/95 - 0s - loss: 0.0020 - 121ms/epoch - 1ms/step\n",
      "Epoch 79/100\n",
      "95/95 - 0s - loss: 0.0021 - 119ms/epoch - 1ms/step\n",
      "Epoch 80/100\n",
      "95/95 - 0s - loss: 0.0020 - 115ms/epoch - 1ms/step\n",
      "Epoch 81/100\n",
      "95/95 - 0s - loss: 0.0021 - 112ms/epoch - 1ms/step\n",
      "Epoch 82/100\n",
      "95/95 - 0s - loss: 0.0021 - 117ms/epoch - 1ms/step\n",
      "Epoch 83/100\n",
      "95/95 - 0s - loss: 0.0020 - 118ms/epoch - 1ms/step\n",
      "Epoch 84/100\n",
      "95/95 - 0s - loss: 0.0021 - 113ms/epoch - 1ms/step\n",
      "Epoch 85/100\n",
      "95/95 - 0s - loss: 0.0021 - 119ms/epoch - 1ms/step\n",
      "Epoch 86/100\n",
      "95/95 - 0s - loss: 0.0021 - 108ms/epoch - 1ms/step\n",
      "Epoch 87/100\n",
      "95/95 - 0s - loss: 0.0020 - 125ms/epoch - 1ms/step\n",
      "Epoch 88/100\n",
      "95/95 - 0s - loss: 0.0021 - 111ms/epoch - 1ms/step\n",
      "Epoch 89/100\n",
      "95/95 - 0s - loss: 0.0021 - 113ms/epoch - 1ms/step\n",
      "Epoch 90/100\n",
      "95/95 - 0s - loss: 0.0021 - 112ms/epoch - 1ms/step\n",
      "Epoch 91/100\n",
      "95/95 - 0s - loss: 0.0021 - 115ms/epoch - 1ms/step\n",
      "Epoch 92/100\n",
      "95/95 - 0s - loss: 0.0020 - 120ms/epoch - 1ms/step\n",
      "Epoch 93/100\n",
      "95/95 - 0s - loss: 0.0021 - 108ms/epoch - 1ms/step\n",
      "Epoch 94/100\n",
      "95/95 - 0s - loss: 0.0021 - 104ms/epoch - 1ms/step\n",
      "Epoch 95/100\n",
      "95/95 - 0s - loss: 0.0021 - 113ms/epoch - 1ms/step\n",
      "Epoch 96/100\n",
      "95/95 - 0s - loss: 0.0021 - 121ms/epoch - 1ms/step\n",
      "Epoch 97/100\n",
      "95/95 - 0s - loss: 0.0020 - 112ms/epoch - 1ms/step\n",
      "Epoch 98/100\n",
      "95/95 - 0s - loss: 0.0021 - 108ms/epoch - 1ms/step\n",
      "Epoch 99/100\n",
      "95/95 - 0s - loss: 0.0021 - 112ms/epoch - 1ms/step\n",
      "Epoch 100/100\n",
      "95/95 - 0s - loss: 0.0021 - 110ms/epoch - 1ms/step\n"
     ]
    },
    {
     "data": {
      "text/plain": [
       "<keras.callbacks.History at 0x2c9d44015b0>"
      ]
     },
     "execution_count": 19,
     "metadata": {},
     "output_type": "execute_result"
    }
   ],
   "source": [
    "# LSTM network architecture\n",
    "model = Sequential()\n",
    "model.add(LSTM(4, input_shape=(1, lag)))\n",
    "model.add(Dense(1))\n",
    "model.summary()\n",
    "#compile\n",
    "model.compile(loss='mean_squared_error', optimizer='adam')\n",
    "#train\n",
    "model.fit(x_train, y_train, epochs=100, batch_size=1, verbose=2)"
   ]
  },
  {
   "cell_type": "markdown",
   "id": "034751fc",
   "metadata": {},
   "source": [
    "### Predictions and denormalize"
   ]
  },
  {
   "cell_type": "code",
   "execution_count": 20,
   "id": "2efa2326",
   "metadata": {},
   "outputs": [],
   "source": [
    "# making predictions\n",
    "train_pred = model.predict(x_train)\n",
    "test_pred = model.predict(x_test)\n",
    "\n",
    "# invert predictions to denormalize\n",
    "train_pred = denormalize(train_pred)\n",
    "y_train = denormalize(y_train)\n",
    "\n",
    "test_pred = denormalize(test_pred)\n",
    "y_test= denormalize(y_test)"
   ]
  },
  {
   "cell_type": "code",
   "execution_count": 21,
   "id": "8c7f6e10",
   "metadata": {},
   "outputs": [
    {
     "name": "stdout",
     "output_type": "stream",
     "text": [
      "Train RMSE: 23.45\n",
      "Test RMSE: 49.18\n"
     ]
    }
   ],
   "source": [
    "# EVALUATING\n",
    "# root mean squared error\n",
    "train_score = measure_rmse(y_train, train_pred[:,0])\n",
    "print('Train RMSE: %.2f' % (train_score))\n",
    "\n",
    "test_score = measure_rmse(y_test, test_pred[:,0])\n",
    "print('Test RMSE: %.2f' % (test_score))"
   ]
  },
  {
   "cell_type": "code",
   "execution_count": 22,
   "id": "1989b12c",
   "metadata": {},
   "outputs": [],
   "source": [
    "#Plotting predicted data\n",
    "train_pred_plot= np.empty_like(data)\n",
    "train_pred_plot[:, :] = np.nan\n",
    "train_pred_plot[lag:len(train_pred)+lag,:] = train_pred\n",
    "\n",
    "# shift test predictions for alignment\n",
    "test_pred_plot = np.empty_like(data)\n",
    "test_pred_plot[:, :] = np.nan\n",
    "test_pred_plot[len(train_pred)+(lag*2):len(data), :] = test_pred\n",
    "\n",
    "df['train_pred'] = train_pred_plot\n",
    "df['test_pred'] = test_pred_plot"
   ]
  },
  {
   "cell_type": "code",
   "execution_count": 23,
   "id": "13c3fd9f",
   "metadata": {},
   "outputs": [
    {
     "data": {
      "application/vnd.plotly.v1+json": {
       "config": {
        "plotlyServerURL": "https://plot.ly"
       },
       "data": [
        {
         "hovertemplate": "variable=Passengers<br>x=%{x}<br>value=%{y}<extra></extra>",
         "legendgroup": "Passengers",
         "line": {
          "color": "#636efa",
          "dash": "solid"
         },
         "marker": {
          "symbol": "circle"
         },
         "mode": "lines",
         "name": "Passengers",
         "orientation": "v",
         "showlegend": true,
         "type": "scatter",
         "x": [
          0,
          1.006993006993007,
          2.013986013986014,
          3.0209790209790213,
          4.027972027972028,
          5.034965034965035,
          6.0419580419580425,
          7.04895104895105,
          8.055944055944057,
          9.062937062937063,
          10.06993006993007,
          11.076923076923078,
          12.083916083916085,
          13.090909090909092,
          14.0979020979021,
          15.104895104895107,
          16.111888111888113,
          17.11888111888112,
          18.125874125874127,
          19.132867132867133,
          20.13986013986014,
          21.14685314685315,
          22.153846153846157,
          23.160839160839163,
          24.16783216783217,
          25.174825174825177,
          26.181818181818183,
          27.18881118881119,
          28.1958041958042,
          29.202797202797207,
          30.209790209790214,
          31.21678321678322,
          32.22377622377623,
          33.23076923076923,
          34.23776223776224,
          35.24475524475525,
          36.25174825174825,
          37.25874125874126,
          38.26573426573427,
          39.27272727272727,
          40.27972027972028,
          41.286713286713294,
          42.2937062937063,
          43.30069930069931,
          44.307692307692314,
          45.31468531468532,
          46.32167832167833,
          47.328671328671334,
          48.33566433566434,
          49.34265734265735,
          50.349650349650354,
          51.35664335664336,
          52.36363636363637,
          53.37062937062937,
          54.37762237762238,
          55.38461538461539,
          56.3916083916084,
          57.39860139860141,
          58.405594405594414,
          59.41258741258742,
          60.41958041958043,
          61.426573426573434,
          62.43356643356644,
          63.44055944055945,
          64.44755244755245,
          65.45454545454547,
          66.46153846153847,
          67.46853146853148,
          68.47552447552448,
          69.4825174825175,
          70.4895104895105,
          71.49650349650351,
          72.5034965034965,
          73.51048951048952,
          74.51748251748252,
          75.52447552447553,
          76.53146853146853,
          77.53846153846155,
          78.54545454545455,
          79.55244755244756,
          80.55944055944056,
          81.56643356643357,
          82.57342657342659,
          83.58041958041959,
          84.5874125874126,
          85.5944055944056,
          86.60139860139861,
          87.60839160839161,
          88.61538461538463,
          89.62237762237763,
          90.62937062937064,
          91.63636363636364,
          92.64335664335665,
          93.65034965034965,
          94.65734265734267,
          95.66433566433567,
          96.67132867132868,
          97.6783216783217,
          98.6853146853147,
          99.69230769230771,
          100.69930069930071,
          101.70629370629372,
          102.71328671328672,
          103.72027972027973,
          104.72727272727273,
          105.73426573426575,
          106.74125874125875,
          107.74825174825176,
          108.75524475524476,
          109.76223776223777,
          110.76923076923077,
          111.77622377622379,
          112.7832167832168,
          113.7902097902098,
          114.79720279720281,
          115.80419580419581,
          116.81118881118883,
          117.81818181818183,
          118.82517482517484,
          119.83216783216784,
          120.83916083916085,
          121.84615384615385,
          122.85314685314687,
          123.86013986013987,
          124.86713286713288,
          125.87412587412588,
          126.8811188811189,
          127.8881118881119,
          128.8951048951049,
          129.90209790209792,
          130.90909090909093,
          131.91608391608392,
          132.92307692307693,
          133.93006993006995,
          134.93706293706296,
          135.94405594405595,
          136.95104895104896,
          137.95804195804197,
          138.965034965035,
          139.97202797202797,
          140.979020979021,
          141.986013986014,
          142.99300699300701,
          144
         ],
         "xaxis": "x",
         "y": [
          112,
          118,
          132,
          129,
          121,
          135,
          148,
          148,
          136,
          119,
          104,
          118,
          115,
          126,
          141,
          135,
          125,
          149,
          170,
          170,
          158,
          133,
          114,
          140,
          145,
          150,
          178,
          163,
          172,
          178,
          199,
          199,
          184,
          162,
          146,
          166,
          171,
          180,
          193,
          181,
          183,
          218,
          230,
          242,
          209,
          191,
          172,
          194,
          196,
          196,
          236,
          235,
          229,
          243,
          264,
          272,
          237,
          211,
          180,
          201,
          204,
          188,
          235,
          227,
          234,
          264,
          302,
          293,
          259,
          229,
          203,
          229,
          242,
          233,
          267,
          269,
          270,
          315,
          364,
          347,
          312,
          274,
          237,
          278,
          284,
          277,
          317,
          313,
          318,
          374,
          413,
          405,
          355,
          306,
          271,
          306,
          315,
          301,
          356,
          348,
          355,
          422,
          465,
          467,
          404,
          347,
          305,
          336,
          340,
          318,
          362,
          348,
          363,
          435,
          491,
          505,
          404,
          359,
          310,
          337,
          360,
          342,
          406,
          396,
          420,
          472,
          548,
          559,
          463,
          407,
          362,
          405,
          417,
          391,
          419,
          461,
          472,
          535,
          622,
          606,
          508,
          461,
          390,
          432
         ],
         "yaxis": "y"
        },
        {
         "hovertemplate": "variable=train_pred<br>x=%{x}<br>value=%{y}<extra></extra>",
         "legendgroup": "train_pred",
         "line": {
          "color": "#EF553B",
          "dash": "solid"
         },
         "marker": {
          "symbol": "circle"
         },
         "mode": "lines",
         "name": "train_pred",
         "orientation": "v",
         "showlegend": true,
         "type": "scatter",
         "x": [
          0,
          1.006993006993007,
          2.013986013986014,
          3.0209790209790213,
          4.027972027972028,
          5.034965034965035,
          6.0419580419580425,
          7.04895104895105,
          8.055944055944057,
          9.062937062937063,
          10.06993006993007,
          11.076923076923078,
          12.083916083916085,
          13.090909090909092,
          14.0979020979021,
          15.104895104895107,
          16.111888111888113,
          17.11888111888112,
          18.125874125874127,
          19.132867132867133,
          20.13986013986014,
          21.14685314685315,
          22.153846153846157,
          23.160839160839163,
          24.16783216783217,
          25.174825174825177,
          26.181818181818183,
          27.18881118881119,
          28.1958041958042,
          29.202797202797207,
          30.209790209790214,
          31.21678321678322,
          32.22377622377623,
          33.23076923076923,
          34.23776223776224,
          35.24475524475525,
          36.25174825174825,
          37.25874125874126,
          38.26573426573427,
          39.27272727272727,
          40.27972027972028,
          41.286713286713294,
          42.2937062937063,
          43.30069930069931,
          44.307692307692314,
          45.31468531468532,
          46.32167832167833,
          47.328671328671334,
          48.33566433566434,
          49.34265734265735,
          50.349650349650354,
          51.35664335664336,
          52.36363636363637,
          53.37062937062937,
          54.37762237762238,
          55.38461538461539,
          56.3916083916084,
          57.39860139860141,
          58.405594405594414,
          59.41258741258742,
          60.41958041958043,
          61.426573426573434,
          62.43356643356644,
          63.44055944055945,
          64.44755244755245,
          65.45454545454547,
          66.46153846153847,
          67.46853146853148,
          68.47552447552448,
          69.4825174825175,
          70.4895104895105,
          71.49650349650351,
          72.5034965034965,
          73.51048951048952,
          74.51748251748252,
          75.52447552447553,
          76.53146853146853,
          77.53846153846155,
          78.54545454545455,
          79.55244755244756,
          80.55944055944056,
          81.56643356643357,
          82.57342657342659,
          83.58041958041959,
          84.5874125874126,
          85.5944055944056,
          86.60139860139861,
          87.60839160839161,
          88.61538461538463,
          89.62237762237763,
          90.62937062937064,
          91.63636363636364,
          92.64335664335665,
          93.65034965034965,
          94.65734265734267,
          95.66433566433567,
          96.67132867132868,
          97.6783216783217,
          98.6853146853147,
          99.69230769230771,
          100.69930069930071,
          101.70629370629372,
          102.71328671328672,
          103.72027972027973,
          104.72727272727273,
          105.73426573426575,
          106.74125874125875,
          107.74825174825176,
          108.75524475524476,
          109.76223776223777,
          110.76923076923077,
          111.77622377622379,
          112.7832167832168,
          113.7902097902098,
          114.79720279720281,
          115.80419580419581,
          116.81118881118883,
          117.81818181818183,
          118.82517482517484,
          119.83216783216784,
          120.83916083916085,
          121.84615384615385,
          122.85314685314687,
          123.86013986013987,
          124.86713286713288,
          125.87412587412588,
          126.8811188811189,
          127.8881118881119,
          128.8951048951049,
          129.90209790209792,
          130.90909090909093,
          131.91608391608392,
          132.92307692307693,
          133.93006993006995,
          134.93706293706296,
          135.94405594405595,
          136.95104895104896,
          137.95804195804197,
          138.965034965035,
          139.97202797202797,
          140.979020979021,
          141.986013986014,
          142.99300699300701,
          144
         ],
         "xaxis": "x",
         "y": [
          null,
          117.77620697021484,
          122.99166870117188,
          135.2931365966797,
          132.64195251464844,
          125.61234283447266,
          137.9523468017578,
          149.5655517578125,
          149.5655517578125,
          138.84051513671875,
          123.86427307128906,
          110.87734985351562,
          122.99166870117188,
          120.37957763671875,
          129.99893188476562,
          143.29441833496094,
          137.9523468017578,
          129.1197509765625,
          150.46473693847656,
          169.5290985107422,
          169.5290985107422,
          158.59365844726562,
          136.17864990234375,
          119.51081085205078,
          142.40191650390625,
          146.8729248046875,
          151.36476135253906,
          176.8773193359375,
          163.13702392578125,
          171.36195373535156,
          176.8773193359375,
          196.3670196533203,
          196.3670196533203,
          182.4171600341797,
          162.22682189941406,
          147.76963806152344,
          165.8720703125,
          170.4451904296875,
          178.72125244140625,
          190.77052307128906,
          179.6442413330078,
          181.4921875,
          214.2218780517578,
          225.59152221679688,
          237.0233154296875,
          205.74029541015625,
          188.9098358154297,
          171.36195373535156,
          191.70176696777344,
          193.5660858154297,
          193.5660858154297,
          231.3001708984375,
          230.34768676757812,
          224.64157104492188,
          237.97854614257812,
          258.115966796875,
          265.8213806152344,
          232.25303649902344,
          207.6215057373047,
          178.72125244140625,
          198.23719787597656,
          201.04672241210938,
          186.1234588623047,
          230.34768676757812,
          222.74298095703125,
          229.39561462402344,
          258.115966796875,
          294.8332214355469,
          286.1143798828125,
          253.30886840820312,
          224.64157104492188,
          200.10964965820312,
          224.64157104492188,
          237.0233154296875,
          228.4439697265625,
          261.00360107421875,
          262.92999267578125,
          263.8935241699219,
          307.44146728515625,
          354.9723815917969,
          338.49658203125,
          304.53076171875,
          267.7502136230469,
          232.25303649902344,
          271.61053466796875,
          277.4071960449219,
          270.6451110839844,
          309.3822326660156,
          305.5009460449219,
          310.3526306152344,
          364.6470947265625,
          402.188232421875,
          394.517578125,
          346.25360107421875,
          298.711181640625,
          264.8573303222656,
          null,
          null,
          null,
          null,
          null,
          null,
          null,
          null,
          null,
          null,
          null,
          null,
          null,
          null,
          null,
          null,
          null,
          null,
          null,
          null,
          null,
          null,
          null,
          null,
          null,
          null,
          null,
          null,
          null,
          null,
          null,
          null,
          null,
          null,
          null,
          null,
          null,
          null,
          null,
          null,
          null,
          null,
          null,
          null,
          null,
          null,
          null,
          null
         ],
         "yaxis": "y"
        },
        {
         "hovertemplate": "variable=test_pred<br>x=%{x}<br>value=%{y}<extra></extra>",
         "legendgroup": "test_pred",
         "line": {
          "color": "#00cc96",
          "dash": "solid"
         },
         "marker": {
          "symbol": "circle"
         },
         "mode": "lines",
         "name": "test_pred",
         "orientation": "v",
         "showlegend": true,
         "type": "scatter",
         "x": [
          0,
          1.006993006993007,
          2.013986013986014,
          3.0209790209790213,
          4.027972027972028,
          5.034965034965035,
          6.0419580419580425,
          7.04895104895105,
          8.055944055944057,
          9.062937062937063,
          10.06993006993007,
          11.076923076923078,
          12.083916083916085,
          13.090909090909092,
          14.0979020979021,
          15.104895104895107,
          16.111888111888113,
          17.11888111888112,
          18.125874125874127,
          19.132867132867133,
          20.13986013986014,
          21.14685314685315,
          22.153846153846157,
          23.160839160839163,
          24.16783216783217,
          25.174825174825177,
          26.181818181818183,
          27.18881118881119,
          28.1958041958042,
          29.202797202797207,
          30.209790209790214,
          31.21678321678322,
          32.22377622377623,
          33.23076923076923,
          34.23776223776224,
          35.24475524475525,
          36.25174825174825,
          37.25874125874126,
          38.26573426573427,
          39.27272727272727,
          40.27972027972028,
          41.286713286713294,
          42.2937062937063,
          43.30069930069931,
          44.307692307692314,
          45.31468531468532,
          46.32167832167833,
          47.328671328671334,
          48.33566433566434,
          49.34265734265735,
          50.349650349650354,
          51.35664335664336,
          52.36363636363637,
          53.37062937062937,
          54.37762237762238,
          55.38461538461539,
          56.3916083916084,
          57.39860139860141,
          58.405594405594414,
          59.41258741258742,
          60.41958041958043,
          61.426573426573434,
          62.43356643356644,
          63.44055944055945,
          64.44755244755245,
          65.45454545454547,
          66.46153846153847,
          67.46853146853148,
          68.47552447552448,
          69.4825174825175,
          70.4895104895105,
          71.49650349650351,
          72.5034965034965,
          73.51048951048952,
          74.51748251748252,
          75.52447552447553,
          76.53146853146853,
          77.53846153846155,
          78.54545454545455,
          79.55244755244756,
          80.55944055944056,
          81.56643356643357,
          82.57342657342659,
          83.58041958041959,
          84.5874125874126,
          85.5944055944056,
          86.60139860139861,
          87.60839160839161,
          88.61538461538463,
          89.62237762237763,
          90.62937062937064,
          91.63636363636364,
          92.64335664335665,
          93.65034965034965,
          94.65734265734267,
          95.66433566433567,
          96.67132867132868,
          97.6783216783217,
          98.6853146853147,
          99.69230769230771,
          100.69930069930071,
          101.70629370629372,
          102.71328671328672,
          103.72027972027973,
          104.72727272727273,
          105.73426573426575,
          106.74125874125875,
          107.74825174825176,
          108.75524475524476,
          109.76223776223777,
          110.76923076923077,
          111.77622377622379,
          112.7832167832168,
          113.7902097902098,
          114.79720279720281,
          115.80419580419581,
          116.81118881118883,
          117.81818181818183,
          118.82517482517484,
          119.83216783216784,
          120.83916083916085,
          121.84615384615385,
          122.85314685314687,
          123.86013986013987,
          124.86713286713288,
          125.87412587412588,
          126.8811188811189,
          127.8881118881119,
          128.8951048951049,
          129.90209790209792,
          130.90909090909093,
          131.91608391608392,
          132.92307692307693,
          133.93006993006995,
          134.93706293706296,
          135.94405594405595,
          136.95104895104896,
          137.95804195804197,
          138.965034965035,
          139.97202797202797,
          140.979020979021,
          141.986013986014,
          142.99300699300701,
          144
         ],
         "xaxis": "x",
         "y": [
          null,
          null,
          null,
          null,
          null,
          null,
          null,
          null,
          null,
          null,
          null,
          null,
          null,
          null,
          null,
          null,
          null,
          null,
          null,
          null,
          null,
          null,
          null,
          null,
          null,
          null,
          null,
          null,
          null,
          null,
          null,
          null,
          null,
          null,
          null,
          null,
          null,
          null,
          null,
          null,
          null,
          null,
          null,
          null,
          null,
          null,
          null,
          null,
          null,
          null,
          null,
          null,
          null,
          null,
          null,
          null,
          null,
          null,
          null,
          null,
          null,
          null,
          null,
          null,
          null,
          null,
          null,
          null,
          null,
          null,
          null,
          null,
          null,
          null,
          null,
          null,
          null,
          null,
          null,
          null,
          null,
          null,
          null,
          null,
          null,
          null,
          null,
          null,
          null,
          null,
          null,
          null,
          null,
          null,
          null,
          null,
          null,
          307.44146728515625,
          293.8639831542969,
          347.2227783203125,
          339.46649169921875,
          346.25360107421875,
          410.79571533203125,
          451.5370788574219,
          453.4145812988281,
          393.5574951171875,
          338.49658203125,
          297.74151611328125,
          327.8234558105469,
          331.70526123046875,
          310.3526306152344,
          353.03570556640625,
          339.46649169921875,
          354.0041198730469,
          423.183349609375,
          475.8087463378906,
          488.7488098144531,
          393.5574951171875,
          350.1297607421875,
          302.59063720703125,
          328.7939758300781,
          351.0985412597656,
          333.64593505859375,
          395.4773864746094,
          385.8677673339844,
          408.8851013183594,
          458.1010437011719,
          527.8701171875,
          537.7172241210938,
          449.6578674316406,
          396.4368591308594,
          353.03570556640625,
          394.517578125,
          406.016845703125,
          381.0538635253906,
          407.9292907714844,
          447.7769775390625,
          458.1010437011719,
          516.146240234375,
          592.7544555664062,
          579.0023803710938,
          491.50921630859375,
          447.7769775390625,
          380.09033203125
         ],
         "yaxis": "y"
        }
       ],
       "layout": {
        "legend": {
         "title": {
          "text": "variable"
         },
         "tracegroupgap": 0
        },
        "template": {
         "data": {
          "bar": [
           {
            "error_x": {
             "color": "#2a3f5f"
            },
            "error_y": {
             "color": "#2a3f5f"
            },
            "marker": {
             "line": {
              "color": "#E5ECF6",
              "width": 0.5
             },
             "pattern": {
              "fillmode": "overlay",
              "size": 10,
              "solidity": 0.2
             }
            },
            "type": "bar"
           }
          ],
          "barpolar": [
           {
            "marker": {
             "line": {
              "color": "#E5ECF6",
              "width": 0.5
             },
             "pattern": {
              "fillmode": "overlay",
              "size": 10,
              "solidity": 0.2
             }
            },
            "type": "barpolar"
           }
          ],
          "carpet": [
           {
            "aaxis": {
             "endlinecolor": "#2a3f5f",
             "gridcolor": "white",
             "linecolor": "white",
             "minorgridcolor": "white",
             "startlinecolor": "#2a3f5f"
            },
            "baxis": {
             "endlinecolor": "#2a3f5f",
             "gridcolor": "white",
             "linecolor": "white",
             "minorgridcolor": "white",
             "startlinecolor": "#2a3f5f"
            },
            "type": "carpet"
           }
          ],
          "choropleth": [
           {
            "colorbar": {
             "outlinewidth": 0,
             "ticks": ""
            },
            "type": "choropleth"
           }
          ],
          "contour": [
           {
            "colorbar": {
             "outlinewidth": 0,
             "ticks": ""
            },
            "colorscale": [
             [
              0,
              "#0d0887"
             ],
             [
              0.1111111111111111,
              "#46039f"
             ],
             [
              0.2222222222222222,
              "#7201a8"
             ],
             [
              0.3333333333333333,
              "#9c179e"
             ],
             [
              0.4444444444444444,
              "#bd3786"
             ],
             [
              0.5555555555555556,
              "#d8576b"
             ],
             [
              0.6666666666666666,
              "#ed7953"
             ],
             [
              0.7777777777777778,
              "#fb9f3a"
             ],
             [
              0.8888888888888888,
              "#fdca26"
             ],
             [
              1,
              "#f0f921"
             ]
            ],
            "type": "contour"
           }
          ],
          "contourcarpet": [
           {
            "colorbar": {
             "outlinewidth": 0,
             "ticks": ""
            },
            "type": "contourcarpet"
           }
          ],
          "heatmap": [
           {
            "colorbar": {
             "outlinewidth": 0,
             "ticks": ""
            },
            "colorscale": [
             [
              0,
              "#0d0887"
             ],
             [
              0.1111111111111111,
              "#46039f"
             ],
             [
              0.2222222222222222,
              "#7201a8"
             ],
             [
              0.3333333333333333,
              "#9c179e"
             ],
             [
              0.4444444444444444,
              "#bd3786"
             ],
             [
              0.5555555555555556,
              "#d8576b"
             ],
             [
              0.6666666666666666,
              "#ed7953"
             ],
             [
              0.7777777777777778,
              "#fb9f3a"
             ],
             [
              0.8888888888888888,
              "#fdca26"
             ],
             [
              1,
              "#f0f921"
             ]
            ],
            "type": "heatmap"
           }
          ],
          "heatmapgl": [
           {
            "colorbar": {
             "outlinewidth": 0,
             "ticks": ""
            },
            "colorscale": [
             [
              0,
              "#0d0887"
             ],
             [
              0.1111111111111111,
              "#46039f"
             ],
             [
              0.2222222222222222,
              "#7201a8"
             ],
             [
              0.3333333333333333,
              "#9c179e"
             ],
             [
              0.4444444444444444,
              "#bd3786"
             ],
             [
              0.5555555555555556,
              "#d8576b"
             ],
             [
              0.6666666666666666,
              "#ed7953"
             ],
             [
              0.7777777777777778,
              "#fb9f3a"
             ],
             [
              0.8888888888888888,
              "#fdca26"
             ],
             [
              1,
              "#f0f921"
             ]
            ],
            "type": "heatmapgl"
           }
          ],
          "histogram": [
           {
            "marker": {
             "pattern": {
              "fillmode": "overlay",
              "size": 10,
              "solidity": 0.2
             }
            },
            "type": "histogram"
           }
          ],
          "histogram2d": [
           {
            "colorbar": {
             "outlinewidth": 0,
             "ticks": ""
            },
            "colorscale": [
             [
              0,
              "#0d0887"
             ],
             [
              0.1111111111111111,
              "#46039f"
             ],
             [
              0.2222222222222222,
              "#7201a8"
             ],
             [
              0.3333333333333333,
              "#9c179e"
             ],
             [
              0.4444444444444444,
              "#bd3786"
             ],
             [
              0.5555555555555556,
              "#d8576b"
             ],
             [
              0.6666666666666666,
              "#ed7953"
             ],
             [
              0.7777777777777778,
              "#fb9f3a"
             ],
             [
              0.8888888888888888,
              "#fdca26"
             ],
             [
              1,
              "#f0f921"
             ]
            ],
            "type": "histogram2d"
           }
          ],
          "histogram2dcontour": [
           {
            "colorbar": {
             "outlinewidth": 0,
             "ticks": ""
            },
            "colorscale": [
             [
              0,
              "#0d0887"
             ],
             [
              0.1111111111111111,
              "#46039f"
             ],
             [
              0.2222222222222222,
              "#7201a8"
             ],
             [
              0.3333333333333333,
              "#9c179e"
             ],
             [
              0.4444444444444444,
              "#bd3786"
             ],
             [
              0.5555555555555556,
              "#d8576b"
             ],
             [
              0.6666666666666666,
              "#ed7953"
             ],
             [
              0.7777777777777778,
              "#fb9f3a"
             ],
             [
              0.8888888888888888,
              "#fdca26"
             ],
             [
              1,
              "#f0f921"
             ]
            ],
            "type": "histogram2dcontour"
           }
          ],
          "mesh3d": [
           {
            "colorbar": {
             "outlinewidth": 0,
             "ticks": ""
            },
            "type": "mesh3d"
           }
          ],
          "parcoords": [
           {
            "line": {
             "colorbar": {
              "outlinewidth": 0,
              "ticks": ""
             }
            },
            "type": "parcoords"
           }
          ],
          "pie": [
           {
            "automargin": true,
            "type": "pie"
           }
          ],
          "scatter": [
           {
            "marker": {
             "colorbar": {
              "outlinewidth": 0,
              "ticks": ""
             }
            },
            "type": "scatter"
           }
          ],
          "scatter3d": [
           {
            "line": {
             "colorbar": {
              "outlinewidth": 0,
              "ticks": ""
             }
            },
            "marker": {
             "colorbar": {
              "outlinewidth": 0,
              "ticks": ""
             }
            },
            "type": "scatter3d"
           }
          ],
          "scattercarpet": [
           {
            "marker": {
             "colorbar": {
              "outlinewidth": 0,
              "ticks": ""
             }
            },
            "type": "scattercarpet"
           }
          ],
          "scattergeo": [
           {
            "marker": {
             "colorbar": {
              "outlinewidth": 0,
              "ticks": ""
             }
            },
            "type": "scattergeo"
           }
          ],
          "scattergl": [
           {
            "marker": {
             "colorbar": {
              "outlinewidth": 0,
              "ticks": ""
             }
            },
            "type": "scattergl"
           }
          ],
          "scattermapbox": [
           {
            "marker": {
             "colorbar": {
              "outlinewidth": 0,
              "ticks": ""
             }
            },
            "type": "scattermapbox"
           }
          ],
          "scatterpolar": [
           {
            "marker": {
             "colorbar": {
              "outlinewidth": 0,
              "ticks": ""
             }
            },
            "type": "scatterpolar"
           }
          ],
          "scatterpolargl": [
           {
            "marker": {
             "colorbar": {
              "outlinewidth": 0,
              "ticks": ""
             }
            },
            "type": "scatterpolargl"
           }
          ],
          "scatterternary": [
           {
            "marker": {
             "colorbar": {
              "outlinewidth": 0,
              "ticks": ""
             }
            },
            "type": "scatterternary"
           }
          ],
          "surface": [
           {
            "colorbar": {
             "outlinewidth": 0,
             "ticks": ""
            },
            "colorscale": [
             [
              0,
              "#0d0887"
             ],
             [
              0.1111111111111111,
              "#46039f"
             ],
             [
              0.2222222222222222,
              "#7201a8"
             ],
             [
              0.3333333333333333,
              "#9c179e"
             ],
             [
              0.4444444444444444,
              "#bd3786"
             ],
             [
              0.5555555555555556,
              "#d8576b"
             ],
             [
              0.6666666666666666,
              "#ed7953"
             ],
             [
              0.7777777777777778,
              "#fb9f3a"
             ],
             [
              0.8888888888888888,
              "#fdca26"
             ],
             [
              1,
              "#f0f921"
             ]
            ],
            "type": "surface"
           }
          ],
          "table": [
           {
            "cells": {
             "fill": {
              "color": "#EBF0F8"
             },
             "line": {
              "color": "white"
             }
            },
            "header": {
             "fill": {
              "color": "#C8D4E3"
             },
             "line": {
              "color": "white"
             }
            },
            "type": "table"
           }
          ]
         },
         "layout": {
          "annotationdefaults": {
           "arrowcolor": "#2a3f5f",
           "arrowhead": 0,
           "arrowwidth": 1
          },
          "autotypenumbers": "strict",
          "coloraxis": {
           "colorbar": {
            "outlinewidth": 0,
            "ticks": ""
           }
          },
          "colorscale": {
           "diverging": [
            [
             0,
             "#8e0152"
            ],
            [
             0.1,
             "#c51b7d"
            ],
            [
             0.2,
             "#de77ae"
            ],
            [
             0.3,
             "#f1b6da"
            ],
            [
             0.4,
             "#fde0ef"
            ],
            [
             0.5,
             "#f7f7f7"
            ],
            [
             0.6,
             "#e6f5d0"
            ],
            [
             0.7,
             "#b8e186"
            ],
            [
             0.8,
             "#7fbc41"
            ],
            [
             0.9,
             "#4d9221"
            ],
            [
             1,
             "#276419"
            ]
           ],
           "sequential": [
            [
             0,
             "#0d0887"
            ],
            [
             0.1111111111111111,
             "#46039f"
            ],
            [
             0.2222222222222222,
             "#7201a8"
            ],
            [
             0.3333333333333333,
             "#9c179e"
            ],
            [
             0.4444444444444444,
             "#bd3786"
            ],
            [
             0.5555555555555556,
             "#d8576b"
            ],
            [
             0.6666666666666666,
             "#ed7953"
            ],
            [
             0.7777777777777778,
             "#fb9f3a"
            ],
            [
             0.8888888888888888,
             "#fdca26"
            ],
            [
             1,
             "#f0f921"
            ]
           ],
           "sequentialminus": [
            [
             0,
             "#0d0887"
            ],
            [
             0.1111111111111111,
             "#46039f"
            ],
            [
             0.2222222222222222,
             "#7201a8"
            ],
            [
             0.3333333333333333,
             "#9c179e"
            ],
            [
             0.4444444444444444,
             "#bd3786"
            ],
            [
             0.5555555555555556,
             "#d8576b"
            ],
            [
             0.6666666666666666,
             "#ed7953"
            ],
            [
             0.7777777777777778,
             "#fb9f3a"
            ],
            [
             0.8888888888888888,
             "#fdca26"
            ],
            [
             1,
             "#f0f921"
            ]
           ]
          },
          "colorway": [
           "#636efa",
           "#EF553B",
           "#00cc96",
           "#ab63fa",
           "#FFA15A",
           "#19d3f3",
           "#FF6692",
           "#B6E880",
           "#FF97FF",
           "#FECB52"
          ],
          "font": {
           "color": "#2a3f5f"
          },
          "geo": {
           "bgcolor": "white",
           "lakecolor": "white",
           "landcolor": "#E5ECF6",
           "showlakes": true,
           "showland": true,
           "subunitcolor": "white"
          },
          "hoverlabel": {
           "align": "left"
          },
          "hovermode": "closest",
          "mapbox": {
           "style": "light"
          },
          "paper_bgcolor": "white",
          "plot_bgcolor": "#E5ECF6",
          "polar": {
           "angularaxis": {
            "gridcolor": "white",
            "linecolor": "white",
            "ticks": ""
           },
           "bgcolor": "#E5ECF6",
           "radialaxis": {
            "gridcolor": "white",
            "linecolor": "white",
            "ticks": ""
           }
          },
          "scene": {
           "xaxis": {
            "backgroundcolor": "#E5ECF6",
            "gridcolor": "white",
            "gridwidth": 2,
            "linecolor": "white",
            "showbackground": true,
            "ticks": "",
            "zerolinecolor": "white"
           },
           "yaxis": {
            "backgroundcolor": "#E5ECF6",
            "gridcolor": "white",
            "gridwidth": 2,
            "linecolor": "white",
            "showbackground": true,
            "ticks": "",
            "zerolinecolor": "white"
           },
           "zaxis": {
            "backgroundcolor": "#E5ECF6",
            "gridcolor": "white",
            "gridwidth": 2,
            "linecolor": "white",
            "showbackground": true,
            "ticks": "",
            "zerolinecolor": "white"
           }
          },
          "shapedefaults": {
           "line": {
            "color": "#2a3f5f"
           }
          },
          "ternary": {
           "aaxis": {
            "gridcolor": "white",
            "linecolor": "white",
            "ticks": ""
           },
           "baxis": {
            "gridcolor": "white",
            "linecolor": "white",
            "ticks": ""
           },
           "bgcolor": "#E5ECF6",
           "caxis": {
            "gridcolor": "white",
            "linecolor": "white",
            "ticks": ""
           }
          },
          "title": {
           "x": 0.05
          },
          "xaxis": {
           "automargin": true,
           "gridcolor": "white",
           "linecolor": "white",
           "ticks": "",
           "title": {
            "standoff": 15
           },
           "zerolinecolor": "white",
           "zerolinewidth": 2
          },
          "yaxis": {
           "automargin": true,
           "gridcolor": "white",
           "linecolor": "white",
           "ticks": "",
           "title": {
            "standoff": 15
           },
           "zerolinecolor": "white",
           "zerolinewidth": 2
          }
         }
        },
        "title": {
         "text": "Airline Passenger trend"
        },
        "xaxis": {
         "anchor": "y",
         "domain": [
          0,
          1
         ],
         "rangeslider": {
          "visible": true
         },
         "title": {
          "text": "x"
         }
        },
        "yaxis": {
         "anchor": "x",
         "domain": [
          0,
          1
         ],
         "title": {
          "text": "value"
         }
        }
       }
      },
      "text/html": [
       "<div>                            <div id=\"d84db5c8-2453-415d-9ef2-e7c6b5f20f1b\" class=\"plotly-graph-div\" style=\"height:525px; width:100%;\"></div>            <script type=\"text/javascript\">                require([\"plotly\"], function(Plotly) {                    window.PLOTLYENV=window.PLOTLYENV || {};                                    if (document.getElementById(\"d84db5c8-2453-415d-9ef2-e7c6b5f20f1b\")) {                    Plotly.newPlot(                        \"d84db5c8-2453-415d-9ef2-e7c6b5f20f1b\",                        [{\"hovertemplate\":\"variable=Passengers<br>x=%{x}<br>value=%{y}<extra></extra>\",\"legendgroup\":\"Passengers\",\"line\":{\"color\":\"#636efa\",\"dash\":\"solid\"},\"marker\":{\"symbol\":\"circle\"},\"mode\":\"lines\",\"name\":\"Passengers\",\"orientation\":\"v\",\"showlegend\":true,\"x\":[0.0,1.006993006993007,2.013986013986014,3.0209790209790213,4.027972027972028,5.034965034965035,6.0419580419580425,7.04895104895105,8.055944055944057,9.062937062937063,10.06993006993007,11.076923076923078,12.083916083916085,13.090909090909092,14.0979020979021,15.104895104895107,16.111888111888113,17.11888111888112,18.125874125874127,19.132867132867133,20.13986013986014,21.14685314685315,22.153846153846157,23.160839160839163,24.16783216783217,25.174825174825177,26.181818181818183,27.18881118881119,28.1958041958042,29.202797202797207,30.209790209790214,31.21678321678322,32.22377622377623,33.23076923076923,34.23776223776224,35.24475524475525,36.25174825174825,37.25874125874126,38.26573426573427,39.27272727272727,40.27972027972028,41.286713286713294,42.2937062937063,43.30069930069931,44.307692307692314,45.31468531468532,46.32167832167833,47.328671328671334,48.33566433566434,49.34265734265735,50.349650349650354,51.35664335664336,52.36363636363637,53.37062937062937,54.37762237762238,55.38461538461539,56.3916083916084,57.39860139860141,58.405594405594414,59.41258741258742,60.41958041958043,61.426573426573434,62.43356643356644,63.44055944055945,64.44755244755245,65.45454545454547,66.46153846153847,67.46853146853148,68.47552447552448,69.4825174825175,70.4895104895105,71.49650349650351,72.5034965034965,73.51048951048952,74.51748251748252,75.52447552447553,76.53146853146853,77.53846153846155,78.54545454545455,79.55244755244756,80.55944055944056,81.56643356643357,82.57342657342659,83.58041958041959,84.5874125874126,85.5944055944056,86.60139860139861,87.60839160839161,88.61538461538463,89.62237762237763,90.62937062937064,91.63636363636364,92.64335664335665,93.65034965034965,94.65734265734267,95.66433566433567,96.67132867132868,97.6783216783217,98.6853146853147,99.69230769230771,100.69930069930071,101.70629370629372,102.71328671328672,103.72027972027973,104.72727272727273,105.73426573426575,106.74125874125875,107.74825174825176,108.75524475524476,109.76223776223777,110.76923076923077,111.77622377622379,112.7832167832168,113.7902097902098,114.79720279720281,115.80419580419581,116.81118881118883,117.81818181818183,118.82517482517484,119.83216783216784,120.83916083916085,121.84615384615385,122.85314685314687,123.86013986013987,124.86713286713288,125.87412587412588,126.8811188811189,127.8881118881119,128.8951048951049,129.90209790209792,130.90909090909093,131.91608391608392,132.92307692307693,133.93006993006995,134.93706293706296,135.94405594405595,136.95104895104896,137.95804195804197,138.965034965035,139.97202797202797,140.979020979021,141.986013986014,142.99300699300701,144.0],\"xaxis\":\"x\",\"y\":[112.0,118.0,132.0,129.0,121.0,135.0,148.0,148.0,136.0,119.0,104.0,118.0,115.0,126.0,141.0,135.0,125.0,149.0,170.0,170.0,158.0,133.0,114.0,140.0,145.0,150.0,178.0,163.0,172.0,178.0,199.0,199.0,184.0,162.0,146.0,166.0,171.0,180.0,193.0,181.0,183.0,218.0,230.0,242.0,209.0,191.0,172.0,194.0,196.0,196.0,236.0,235.0,229.0,243.0,264.0,272.0,237.0,211.0,180.0,201.0,204.0,188.0,235.0,227.0,234.0,264.0,302.0,293.0,259.0,229.0,203.0,229.0,242.0,233.0,267.0,269.0,270.0,315.0,364.0,347.0,312.0,274.0,237.0,278.0,284.0,277.0,317.0,313.0,318.0,374.0,413.0,405.0,355.0,306.0,271.0,306.0,315.0,301.0,356.0,348.0,355.0,422.0,465.0,467.0,404.0,347.0,305.0,336.0,340.0,318.0,362.0,348.0,363.0,435.0,491.0,505.0,404.0,359.0,310.0,337.0,360.0,342.0,406.0,396.0,420.0,472.0,548.0,559.0,463.0,407.0,362.0,405.0,417.0,391.0,419.0,461.0,472.0,535.0,622.0,606.0,508.0,461.0,390.0,432.0],\"yaxis\":\"y\",\"type\":\"scatter\"},{\"hovertemplate\":\"variable=train_pred<br>x=%{x}<br>value=%{y}<extra></extra>\",\"legendgroup\":\"train_pred\",\"line\":{\"color\":\"#EF553B\",\"dash\":\"solid\"},\"marker\":{\"symbol\":\"circle\"},\"mode\":\"lines\",\"name\":\"train_pred\",\"orientation\":\"v\",\"showlegend\":true,\"x\":[0.0,1.006993006993007,2.013986013986014,3.0209790209790213,4.027972027972028,5.034965034965035,6.0419580419580425,7.04895104895105,8.055944055944057,9.062937062937063,10.06993006993007,11.076923076923078,12.083916083916085,13.090909090909092,14.0979020979021,15.104895104895107,16.111888111888113,17.11888111888112,18.125874125874127,19.132867132867133,20.13986013986014,21.14685314685315,22.153846153846157,23.160839160839163,24.16783216783217,25.174825174825177,26.181818181818183,27.18881118881119,28.1958041958042,29.202797202797207,30.209790209790214,31.21678321678322,32.22377622377623,33.23076923076923,34.23776223776224,35.24475524475525,36.25174825174825,37.25874125874126,38.26573426573427,39.27272727272727,40.27972027972028,41.286713286713294,42.2937062937063,43.30069930069931,44.307692307692314,45.31468531468532,46.32167832167833,47.328671328671334,48.33566433566434,49.34265734265735,50.349650349650354,51.35664335664336,52.36363636363637,53.37062937062937,54.37762237762238,55.38461538461539,56.3916083916084,57.39860139860141,58.405594405594414,59.41258741258742,60.41958041958043,61.426573426573434,62.43356643356644,63.44055944055945,64.44755244755245,65.45454545454547,66.46153846153847,67.46853146853148,68.47552447552448,69.4825174825175,70.4895104895105,71.49650349650351,72.5034965034965,73.51048951048952,74.51748251748252,75.52447552447553,76.53146853146853,77.53846153846155,78.54545454545455,79.55244755244756,80.55944055944056,81.56643356643357,82.57342657342659,83.58041958041959,84.5874125874126,85.5944055944056,86.60139860139861,87.60839160839161,88.61538461538463,89.62237762237763,90.62937062937064,91.63636363636364,92.64335664335665,93.65034965034965,94.65734265734267,95.66433566433567,96.67132867132868,97.6783216783217,98.6853146853147,99.69230769230771,100.69930069930071,101.70629370629372,102.71328671328672,103.72027972027973,104.72727272727273,105.73426573426575,106.74125874125875,107.74825174825176,108.75524475524476,109.76223776223777,110.76923076923077,111.77622377622379,112.7832167832168,113.7902097902098,114.79720279720281,115.80419580419581,116.81118881118883,117.81818181818183,118.82517482517484,119.83216783216784,120.83916083916085,121.84615384615385,122.85314685314687,123.86013986013987,124.86713286713288,125.87412587412588,126.8811188811189,127.8881118881119,128.8951048951049,129.90209790209792,130.90909090909093,131.91608391608392,132.92307692307693,133.93006993006995,134.93706293706296,135.94405594405595,136.95104895104896,137.95804195804197,138.965034965035,139.97202797202797,140.979020979021,141.986013986014,142.99300699300701,144.0],\"xaxis\":\"x\",\"y\":[null,117.77620697021484,122.99166870117188,135.2931365966797,132.64195251464844,125.61234283447266,137.9523468017578,149.5655517578125,149.5655517578125,138.84051513671875,123.86427307128906,110.87734985351562,122.99166870117188,120.37957763671875,129.99893188476562,143.29441833496094,137.9523468017578,129.1197509765625,150.46473693847656,169.5290985107422,169.5290985107422,158.59365844726562,136.17864990234375,119.51081085205078,142.40191650390625,146.8729248046875,151.36476135253906,176.8773193359375,163.13702392578125,171.36195373535156,176.8773193359375,196.3670196533203,196.3670196533203,182.4171600341797,162.22682189941406,147.76963806152344,165.8720703125,170.4451904296875,178.72125244140625,190.77052307128906,179.6442413330078,181.4921875,214.2218780517578,225.59152221679688,237.0233154296875,205.74029541015625,188.9098358154297,171.36195373535156,191.70176696777344,193.5660858154297,193.5660858154297,231.3001708984375,230.34768676757812,224.64157104492188,237.97854614257812,258.115966796875,265.8213806152344,232.25303649902344,207.6215057373047,178.72125244140625,198.23719787597656,201.04672241210938,186.1234588623047,230.34768676757812,222.74298095703125,229.39561462402344,258.115966796875,294.8332214355469,286.1143798828125,253.30886840820312,224.64157104492188,200.10964965820312,224.64157104492188,237.0233154296875,228.4439697265625,261.00360107421875,262.92999267578125,263.8935241699219,307.44146728515625,354.9723815917969,338.49658203125,304.53076171875,267.7502136230469,232.25303649902344,271.61053466796875,277.4071960449219,270.6451110839844,309.3822326660156,305.5009460449219,310.3526306152344,364.6470947265625,402.188232421875,394.517578125,346.25360107421875,298.711181640625,264.8573303222656,null,null,null,null,null,null,null,null,null,null,null,null,null,null,null,null,null,null,null,null,null,null,null,null,null,null,null,null,null,null,null,null,null,null,null,null,null,null,null,null,null,null,null,null,null,null,null,null],\"yaxis\":\"y\",\"type\":\"scatter\"},{\"hovertemplate\":\"variable=test_pred<br>x=%{x}<br>value=%{y}<extra></extra>\",\"legendgroup\":\"test_pred\",\"line\":{\"color\":\"#00cc96\",\"dash\":\"solid\"},\"marker\":{\"symbol\":\"circle\"},\"mode\":\"lines\",\"name\":\"test_pred\",\"orientation\":\"v\",\"showlegend\":true,\"x\":[0.0,1.006993006993007,2.013986013986014,3.0209790209790213,4.027972027972028,5.034965034965035,6.0419580419580425,7.04895104895105,8.055944055944057,9.062937062937063,10.06993006993007,11.076923076923078,12.083916083916085,13.090909090909092,14.0979020979021,15.104895104895107,16.111888111888113,17.11888111888112,18.125874125874127,19.132867132867133,20.13986013986014,21.14685314685315,22.153846153846157,23.160839160839163,24.16783216783217,25.174825174825177,26.181818181818183,27.18881118881119,28.1958041958042,29.202797202797207,30.209790209790214,31.21678321678322,32.22377622377623,33.23076923076923,34.23776223776224,35.24475524475525,36.25174825174825,37.25874125874126,38.26573426573427,39.27272727272727,40.27972027972028,41.286713286713294,42.2937062937063,43.30069930069931,44.307692307692314,45.31468531468532,46.32167832167833,47.328671328671334,48.33566433566434,49.34265734265735,50.349650349650354,51.35664335664336,52.36363636363637,53.37062937062937,54.37762237762238,55.38461538461539,56.3916083916084,57.39860139860141,58.405594405594414,59.41258741258742,60.41958041958043,61.426573426573434,62.43356643356644,63.44055944055945,64.44755244755245,65.45454545454547,66.46153846153847,67.46853146853148,68.47552447552448,69.4825174825175,70.4895104895105,71.49650349650351,72.5034965034965,73.51048951048952,74.51748251748252,75.52447552447553,76.53146853146853,77.53846153846155,78.54545454545455,79.55244755244756,80.55944055944056,81.56643356643357,82.57342657342659,83.58041958041959,84.5874125874126,85.5944055944056,86.60139860139861,87.60839160839161,88.61538461538463,89.62237762237763,90.62937062937064,91.63636363636364,92.64335664335665,93.65034965034965,94.65734265734267,95.66433566433567,96.67132867132868,97.6783216783217,98.6853146853147,99.69230769230771,100.69930069930071,101.70629370629372,102.71328671328672,103.72027972027973,104.72727272727273,105.73426573426575,106.74125874125875,107.74825174825176,108.75524475524476,109.76223776223777,110.76923076923077,111.77622377622379,112.7832167832168,113.7902097902098,114.79720279720281,115.80419580419581,116.81118881118883,117.81818181818183,118.82517482517484,119.83216783216784,120.83916083916085,121.84615384615385,122.85314685314687,123.86013986013987,124.86713286713288,125.87412587412588,126.8811188811189,127.8881118881119,128.8951048951049,129.90209790209792,130.90909090909093,131.91608391608392,132.92307692307693,133.93006993006995,134.93706293706296,135.94405594405595,136.95104895104896,137.95804195804197,138.965034965035,139.97202797202797,140.979020979021,141.986013986014,142.99300699300701,144.0],\"xaxis\":\"x\",\"y\":[null,null,null,null,null,null,null,null,null,null,null,null,null,null,null,null,null,null,null,null,null,null,null,null,null,null,null,null,null,null,null,null,null,null,null,null,null,null,null,null,null,null,null,null,null,null,null,null,null,null,null,null,null,null,null,null,null,null,null,null,null,null,null,null,null,null,null,null,null,null,null,null,null,null,null,null,null,null,null,null,null,null,null,null,null,null,null,null,null,null,null,null,null,null,null,null,null,307.44146728515625,293.8639831542969,347.2227783203125,339.46649169921875,346.25360107421875,410.79571533203125,451.5370788574219,453.4145812988281,393.5574951171875,338.49658203125,297.74151611328125,327.8234558105469,331.70526123046875,310.3526306152344,353.03570556640625,339.46649169921875,354.0041198730469,423.183349609375,475.8087463378906,488.7488098144531,393.5574951171875,350.1297607421875,302.59063720703125,328.7939758300781,351.0985412597656,333.64593505859375,395.4773864746094,385.8677673339844,408.8851013183594,458.1010437011719,527.8701171875,537.7172241210938,449.6578674316406,396.4368591308594,353.03570556640625,394.517578125,406.016845703125,381.0538635253906,407.9292907714844,447.7769775390625,458.1010437011719,516.146240234375,592.7544555664062,579.0023803710938,491.50921630859375,447.7769775390625,380.09033203125],\"yaxis\":\"y\",\"type\":\"scatter\"}],                        {\"template\":{\"data\":{\"bar\":[{\"error_x\":{\"color\":\"#2a3f5f\"},\"error_y\":{\"color\":\"#2a3f5f\"},\"marker\":{\"line\":{\"color\":\"#E5ECF6\",\"width\":0.5},\"pattern\":{\"fillmode\":\"overlay\",\"size\":10,\"solidity\":0.2}},\"type\":\"bar\"}],\"barpolar\":[{\"marker\":{\"line\":{\"color\":\"#E5ECF6\",\"width\":0.5},\"pattern\":{\"fillmode\":\"overlay\",\"size\":10,\"solidity\":0.2}},\"type\":\"barpolar\"}],\"carpet\":[{\"aaxis\":{\"endlinecolor\":\"#2a3f5f\",\"gridcolor\":\"white\",\"linecolor\":\"white\",\"minorgridcolor\":\"white\",\"startlinecolor\":\"#2a3f5f\"},\"baxis\":{\"endlinecolor\":\"#2a3f5f\",\"gridcolor\":\"white\",\"linecolor\":\"white\",\"minorgridcolor\":\"white\",\"startlinecolor\":\"#2a3f5f\"},\"type\":\"carpet\"}],\"choropleth\":[{\"colorbar\":{\"outlinewidth\":0,\"ticks\":\"\"},\"type\":\"choropleth\"}],\"contour\":[{\"colorbar\":{\"outlinewidth\":0,\"ticks\":\"\"},\"colorscale\":[[0.0,\"#0d0887\"],[0.1111111111111111,\"#46039f\"],[0.2222222222222222,\"#7201a8\"],[0.3333333333333333,\"#9c179e\"],[0.4444444444444444,\"#bd3786\"],[0.5555555555555556,\"#d8576b\"],[0.6666666666666666,\"#ed7953\"],[0.7777777777777778,\"#fb9f3a\"],[0.8888888888888888,\"#fdca26\"],[1.0,\"#f0f921\"]],\"type\":\"contour\"}],\"contourcarpet\":[{\"colorbar\":{\"outlinewidth\":0,\"ticks\":\"\"},\"type\":\"contourcarpet\"}],\"heatmap\":[{\"colorbar\":{\"outlinewidth\":0,\"ticks\":\"\"},\"colorscale\":[[0.0,\"#0d0887\"],[0.1111111111111111,\"#46039f\"],[0.2222222222222222,\"#7201a8\"],[0.3333333333333333,\"#9c179e\"],[0.4444444444444444,\"#bd3786\"],[0.5555555555555556,\"#d8576b\"],[0.6666666666666666,\"#ed7953\"],[0.7777777777777778,\"#fb9f3a\"],[0.8888888888888888,\"#fdca26\"],[1.0,\"#f0f921\"]],\"type\":\"heatmap\"}],\"heatmapgl\":[{\"colorbar\":{\"outlinewidth\":0,\"ticks\":\"\"},\"colorscale\":[[0.0,\"#0d0887\"],[0.1111111111111111,\"#46039f\"],[0.2222222222222222,\"#7201a8\"],[0.3333333333333333,\"#9c179e\"],[0.4444444444444444,\"#bd3786\"],[0.5555555555555556,\"#d8576b\"],[0.6666666666666666,\"#ed7953\"],[0.7777777777777778,\"#fb9f3a\"],[0.8888888888888888,\"#fdca26\"],[1.0,\"#f0f921\"]],\"type\":\"heatmapgl\"}],\"histogram\":[{\"marker\":{\"pattern\":{\"fillmode\":\"overlay\",\"size\":10,\"solidity\":0.2}},\"type\":\"histogram\"}],\"histogram2d\":[{\"colorbar\":{\"outlinewidth\":0,\"ticks\":\"\"},\"colorscale\":[[0.0,\"#0d0887\"],[0.1111111111111111,\"#46039f\"],[0.2222222222222222,\"#7201a8\"],[0.3333333333333333,\"#9c179e\"],[0.4444444444444444,\"#bd3786\"],[0.5555555555555556,\"#d8576b\"],[0.6666666666666666,\"#ed7953\"],[0.7777777777777778,\"#fb9f3a\"],[0.8888888888888888,\"#fdca26\"],[1.0,\"#f0f921\"]],\"type\":\"histogram2d\"}],\"histogram2dcontour\":[{\"colorbar\":{\"outlinewidth\":0,\"ticks\":\"\"},\"colorscale\":[[0.0,\"#0d0887\"],[0.1111111111111111,\"#46039f\"],[0.2222222222222222,\"#7201a8\"],[0.3333333333333333,\"#9c179e\"],[0.4444444444444444,\"#bd3786\"],[0.5555555555555556,\"#d8576b\"],[0.6666666666666666,\"#ed7953\"],[0.7777777777777778,\"#fb9f3a\"],[0.8888888888888888,\"#fdca26\"],[1.0,\"#f0f921\"]],\"type\":\"histogram2dcontour\"}],\"mesh3d\":[{\"colorbar\":{\"outlinewidth\":0,\"ticks\":\"\"},\"type\":\"mesh3d\"}],\"parcoords\":[{\"line\":{\"colorbar\":{\"outlinewidth\":0,\"ticks\":\"\"}},\"type\":\"parcoords\"}],\"pie\":[{\"automargin\":true,\"type\":\"pie\"}],\"scatter\":[{\"marker\":{\"colorbar\":{\"outlinewidth\":0,\"ticks\":\"\"}},\"type\":\"scatter\"}],\"scatter3d\":[{\"line\":{\"colorbar\":{\"outlinewidth\":0,\"ticks\":\"\"}},\"marker\":{\"colorbar\":{\"outlinewidth\":0,\"ticks\":\"\"}},\"type\":\"scatter3d\"}],\"scattercarpet\":[{\"marker\":{\"colorbar\":{\"outlinewidth\":0,\"ticks\":\"\"}},\"type\":\"scattercarpet\"}],\"scattergeo\":[{\"marker\":{\"colorbar\":{\"outlinewidth\":0,\"ticks\":\"\"}},\"type\":\"scattergeo\"}],\"scattergl\":[{\"marker\":{\"colorbar\":{\"outlinewidth\":0,\"ticks\":\"\"}},\"type\":\"scattergl\"}],\"scattermapbox\":[{\"marker\":{\"colorbar\":{\"outlinewidth\":0,\"ticks\":\"\"}},\"type\":\"scattermapbox\"}],\"scatterpolar\":[{\"marker\":{\"colorbar\":{\"outlinewidth\":0,\"ticks\":\"\"}},\"type\":\"scatterpolar\"}],\"scatterpolargl\":[{\"marker\":{\"colorbar\":{\"outlinewidth\":0,\"ticks\":\"\"}},\"type\":\"scatterpolargl\"}],\"scatterternary\":[{\"marker\":{\"colorbar\":{\"outlinewidth\":0,\"ticks\":\"\"}},\"type\":\"scatterternary\"}],\"surface\":[{\"colorbar\":{\"outlinewidth\":0,\"ticks\":\"\"},\"colorscale\":[[0.0,\"#0d0887\"],[0.1111111111111111,\"#46039f\"],[0.2222222222222222,\"#7201a8\"],[0.3333333333333333,\"#9c179e\"],[0.4444444444444444,\"#bd3786\"],[0.5555555555555556,\"#d8576b\"],[0.6666666666666666,\"#ed7953\"],[0.7777777777777778,\"#fb9f3a\"],[0.8888888888888888,\"#fdca26\"],[1.0,\"#f0f921\"]],\"type\":\"surface\"}],\"table\":[{\"cells\":{\"fill\":{\"color\":\"#EBF0F8\"},\"line\":{\"color\":\"white\"}},\"header\":{\"fill\":{\"color\":\"#C8D4E3\"},\"line\":{\"color\":\"white\"}},\"type\":\"table\"}]},\"layout\":{\"annotationdefaults\":{\"arrowcolor\":\"#2a3f5f\",\"arrowhead\":0,\"arrowwidth\":1},\"autotypenumbers\":\"strict\",\"coloraxis\":{\"colorbar\":{\"outlinewidth\":0,\"ticks\":\"\"}},\"colorscale\":{\"diverging\":[[0,\"#8e0152\"],[0.1,\"#c51b7d\"],[0.2,\"#de77ae\"],[0.3,\"#f1b6da\"],[0.4,\"#fde0ef\"],[0.5,\"#f7f7f7\"],[0.6,\"#e6f5d0\"],[0.7,\"#b8e186\"],[0.8,\"#7fbc41\"],[0.9,\"#4d9221\"],[1,\"#276419\"]],\"sequential\":[[0.0,\"#0d0887\"],[0.1111111111111111,\"#46039f\"],[0.2222222222222222,\"#7201a8\"],[0.3333333333333333,\"#9c179e\"],[0.4444444444444444,\"#bd3786\"],[0.5555555555555556,\"#d8576b\"],[0.6666666666666666,\"#ed7953\"],[0.7777777777777778,\"#fb9f3a\"],[0.8888888888888888,\"#fdca26\"],[1.0,\"#f0f921\"]],\"sequentialminus\":[[0.0,\"#0d0887\"],[0.1111111111111111,\"#46039f\"],[0.2222222222222222,\"#7201a8\"],[0.3333333333333333,\"#9c179e\"],[0.4444444444444444,\"#bd3786\"],[0.5555555555555556,\"#d8576b\"],[0.6666666666666666,\"#ed7953\"],[0.7777777777777778,\"#fb9f3a\"],[0.8888888888888888,\"#fdca26\"],[1.0,\"#f0f921\"]]},\"colorway\":[\"#636efa\",\"#EF553B\",\"#00cc96\",\"#ab63fa\",\"#FFA15A\",\"#19d3f3\",\"#FF6692\",\"#B6E880\",\"#FF97FF\",\"#FECB52\"],\"font\":{\"color\":\"#2a3f5f\"},\"geo\":{\"bgcolor\":\"white\",\"lakecolor\":\"white\",\"landcolor\":\"#E5ECF6\",\"showlakes\":true,\"showland\":true,\"subunitcolor\":\"white\"},\"hoverlabel\":{\"align\":\"left\"},\"hovermode\":\"closest\",\"mapbox\":{\"style\":\"light\"},\"paper_bgcolor\":\"white\",\"plot_bgcolor\":\"#E5ECF6\",\"polar\":{\"angularaxis\":{\"gridcolor\":\"white\",\"linecolor\":\"white\",\"ticks\":\"\"},\"bgcolor\":\"#E5ECF6\",\"radialaxis\":{\"gridcolor\":\"white\",\"linecolor\":\"white\",\"ticks\":\"\"}},\"scene\":{\"xaxis\":{\"backgroundcolor\":\"#E5ECF6\",\"gridcolor\":\"white\",\"gridwidth\":2,\"linecolor\":\"white\",\"showbackground\":true,\"ticks\":\"\",\"zerolinecolor\":\"white\"},\"yaxis\":{\"backgroundcolor\":\"#E5ECF6\",\"gridcolor\":\"white\",\"gridwidth\":2,\"linecolor\":\"white\",\"showbackground\":true,\"ticks\":\"\",\"zerolinecolor\":\"white\"},\"zaxis\":{\"backgroundcolor\":\"#E5ECF6\",\"gridcolor\":\"white\",\"gridwidth\":2,\"linecolor\":\"white\",\"showbackground\":true,\"ticks\":\"\",\"zerolinecolor\":\"white\"}},\"shapedefaults\":{\"line\":{\"color\":\"#2a3f5f\"}},\"ternary\":{\"aaxis\":{\"gridcolor\":\"white\",\"linecolor\":\"white\",\"ticks\":\"\"},\"baxis\":{\"gridcolor\":\"white\",\"linecolor\":\"white\",\"ticks\":\"\"},\"bgcolor\":\"#E5ECF6\",\"caxis\":{\"gridcolor\":\"white\",\"linecolor\":\"white\",\"ticks\":\"\"}},\"title\":{\"x\":0.05},\"xaxis\":{\"automargin\":true,\"gridcolor\":\"white\",\"linecolor\":\"white\",\"ticks\":\"\",\"title\":{\"standoff\":15},\"zerolinecolor\":\"white\",\"zerolinewidth\":2},\"yaxis\":{\"automargin\":true,\"gridcolor\":\"white\",\"linecolor\":\"white\",\"ticks\":\"\",\"title\":{\"standoff\":15},\"zerolinecolor\":\"white\",\"zerolinewidth\":2}}},\"xaxis\":{\"anchor\":\"y\",\"domain\":[0.0,1.0],\"title\":{\"text\":\"x\"},\"rangeslider\":{\"visible\":true}},\"yaxis\":{\"anchor\":\"x\",\"domain\":[0.0,1.0],\"title\":{\"text\":\"value\"}},\"legend\":{\"title\":{\"text\":\"variable\"},\"tracegroupgap\":0},\"title\":{\"text\":\"Airline Passenger trend\"}},                        {\"responsive\": true}                    ).then(function(){\n",
       "                            \n",
       "var gd = document.getElementById('d84db5c8-2453-415d-9ef2-e7c6b5f20f1b');\n",
       "var x = new MutationObserver(function (mutations, observer) {{\n",
       "        var display = window.getComputedStyle(gd).display;\n",
       "        if (!display || display === 'none') {{\n",
       "            console.log([gd, 'removed!']);\n",
       "            Plotly.purge(gd);\n",
       "            observer.disconnect();\n",
       "        }}\n",
       "}});\n",
       "\n",
       "// Listen for the removal of the full notebook cells\n",
       "var notebookContainer = gd.closest('#notebook-container');\n",
       "if (notebookContainer) {{\n",
       "    x.observe(notebookContainer, {childList: true});\n",
       "}}\n",
       "\n",
       "// Listen for the clearing of the current output cell\n",
       "var outputEl = gd.closest('.output');\n",
       "if (outputEl) {{\n",
       "    x.observe(outputEl, {childList: true});\n",
       "}}\n",
       "\n",
       "                        })                };                });            </script>        </div>"
      ]
     },
     "metadata": {},
     "output_type": "display_data"
    }
   ],
   "source": [
    "t = np.linspace(0,144,144)\n",
    "fig = px.line(df.reset_index(), x = t, y = ['Passengers', 'train_pred', 'test_pred'], title= 'Airline Passenger trend')\n",
    "fig.update_xaxes(rangeslider_visible= True)\n"
   ]
  },
  {
   "cell_type": "code",
   "execution_count": 24,
   "id": "534ce5ce",
   "metadata": {},
   "outputs": [
    {
     "data": {
      "text/html": [
       "<div>\n",
       "<style scoped>\n",
       "    .dataframe tbody tr th:only-of-type {\n",
       "        vertical-align: middle;\n",
       "    }\n",
       "\n",
       "    .dataframe tbody tr th {\n",
       "        vertical-align: top;\n",
       "    }\n",
       "\n",
       "    .dataframe thead th {\n",
       "        text-align: right;\n",
       "    }\n",
       "</style>\n",
       "<table border=\"1\" class=\"dataframe\">\n",
       "  <thead>\n",
       "    <tr style=\"text-align: right;\">\n",
       "      <th></th>\n",
       "      <th>x1</th>\n",
       "      <th>x2</th>\n",
       "      <th>x3</th>\n",
       "      <th>y</th>\n",
       "    </tr>\n",
       "  </thead>\n",
       "  <tbody>\n",
       "    <tr>\n",
       "      <th>0</th>\n",
       "      <td>112</td>\n",
       "      <td>118.0</td>\n",
       "      <td>132.0</td>\n",
       "      <td>129.0</td>\n",
       "    </tr>\n",
       "    <tr>\n",
       "      <th>1</th>\n",
       "      <td>118</td>\n",
       "      <td>132.0</td>\n",
       "      <td>129.0</td>\n",
       "      <td>121.0</td>\n",
       "    </tr>\n",
       "    <tr>\n",
       "      <th>2</th>\n",
       "      <td>132</td>\n",
       "      <td>129.0</td>\n",
       "      <td>121.0</td>\n",
       "      <td>135.0</td>\n",
       "    </tr>\n",
       "    <tr>\n",
       "      <th>3</th>\n",
       "      <td>129</td>\n",
       "      <td>121.0</td>\n",
       "      <td>135.0</td>\n",
       "      <td>148.0</td>\n",
       "    </tr>\n",
       "    <tr>\n",
       "      <th>4</th>\n",
       "      <td>121</td>\n",
       "      <td>135.0</td>\n",
       "      <td>148.0</td>\n",
       "      <td>148.0</td>\n",
       "    </tr>\n",
       "    <tr>\n",
       "      <th>...</th>\n",
       "      <td>...</td>\n",
       "      <td>...</td>\n",
       "      <td>...</td>\n",
       "      <td>...</td>\n",
       "    </tr>\n",
       "    <tr>\n",
       "      <th>136</th>\n",
       "      <td>472</td>\n",
       "      <td>535.0</td>\n",
       "      <td>622.0</td>\n",
       "      <td>606.0</td>\n",
       "    </tr>\n",
       "    <tr>\n",
       "      <th>137</th>\n",
       "      <td>535</td>\n",
       "      <td>622.0</td>\n",
       "      <td>606.0</td>\n",
       "      <td>508.0</td>\n",
       "    </tr>\n",
       "    <tr>\n",
       "      <th>138</th>\n",
       "      <td>622</td>\n",
       "      <td>606.0</td>\n",
       "      <td>508.0</td>\n",
       "      <td>461.0</td>\n",
       "    </tr>\n",
       "    <tr>\n",
       "      <th>139</th>\n",
       "      <td>606</td>\n",
       "      <td>508.0</td>\n",
       "      <td>461.0</td>\n",
       "      <td>390.0</td>\n",
       "    </tr>\n",
       "    <tr>\n",
       "      <th>140</th>\n",
       "      <td>508</td>\n",
       "      <td>461.0</td>\n",
       "      <td>390.0</td>\n",
       "      <td>432.0</td>\n",
       "    </tr>\n",
       "  </tbody>\n",
       "</table>\n",
       "<p>141 rows × 4 columns</p>\n",
       "</div>"
      ],
      "text/plain": [
       "      x1     x2     x3      y\n",
       "0    112  118.0  132.0  129.0\n",
       "1    118  132.0  129.0  121.0\n",
       "2    132  129.0  121.0  135.0\n",
       "3    129  121.0  135.0  148.0\n",
       "4    121  135.0  148.0  148.0\n",
       "..   ...    ...    ...    ...\n",
       "136  472  535.0  622.0  606.0\n",
       "137  535  622.0  606.0  508.0\n",
       "138  622  606.0  508.0  461.0\n",
       "139  606  508.0  461.0  390.0\n",
       "140  508  461.0  390.0  432.0\n",
       "\n",
       "[141 rows x 4 columns]"
      ]
     },
     "execution_count": 24,
     "metadata": {},
     "output_type": "execute_result"
    }
   ],
   "source": [
    "#Prediction using last 2 months and current month\n",
    "new_df = pd.DataFrame()\n",
    "new_df['x1']= df['Passengers']\n",
    "new_df['x2']= df['Passengers'].shift(-1)\n",
    "new_df['x3']= df['Passengers'].shift(-2)\n",
    "new_df['y']= df['Passengers'].shift(-3)\n",
    "new_df.dropna(inplace =True)\n",
    "new_df"
   ]
  },
  {
   "cell_type": "code",
   "execution_count": 25,
   "id": "c8610b96",
   "metadata": {},
   "outputs": [
    {
     "name": "stdout",
     "output_type": "stream",
     "text": [
      "Model: \"sequential_1\"\n",
      "_________________________________________________________________\n",
      " Layer (type)                Output Shape              Param #   \n",
      "=================================================================\n",
      " lstm_1 (LSTM)               (None, 4)                 128       \n",
      "                                                                 \n",
      " dense_1 (Dense)             (None, 1)                 5         \n",
      "                                                                 \n",
      "=================================================================\n",
      "Total params: 133\n",
      "Trainable params: 133\n",
      "Non-trainable params: 0\n",
      "_________________________________________________________________\n",
      "Train RMSE: 23.59\n",
      "Test RMSE: 50.04\n"
     ]
    },
    {
     "data": {
      "application/vnd.plotly.v1+json": {
       "config": {
        "plotlyServerURL": "https://plot.ly"
       },
       "data": [
        {
         "hovertemplate": "variable=Passengers<br>x=%{x}<br>value=%{y}<extra></extra>",
         "legendgroup": "Passengers",
         "line": {
          "color": "#636efa",
          "dash": "solid"
         },
         "marker": {
          "symbol": "circle"
         },
         "mode": "lines",
         "name": "Passengers",
         "orientation": "v",
         "showlegend": true,
         "type": "scatter",
         "x": [
          0,
          1.006993006993007,
          2.013986013986014,
          3.0209790209790213,
          4.027972027972028,
          5.034965034965035,
          6.0419580419580425,
          7.04895104895105,
          8.055944055944057,
          9.062937062937063,
          10.06993006993007,
          11.076923076923078,
          12.083916083916085,
          13.090909090909092,
          14.0979020979021,
          15.104895104895107,
          16.111888111888113,
          17.11888111888112,
          18.125874125874127,
          19.132867132867133,
          20.13986013986014,
          21.14685314685315,
          22.153846153846157,
          23.160839160839163,
          24.16783216783217,
          25.174825174825177,
          26.181818181818183,
          27.18881118881119,
          28.1958041958042,
          29.202797202797207,
          30.209790209790214,
          31.21678321678322,
          32.22377622377623,
          33.23076923076923,
          34.23776223776224,
          35.24475524475525,
          36.25174825174825,
          37.25874125874126,
          38.26573426573427,
          39.27272727272727,
          40.27972027972028,
          41.286713286713294,
          42.2937062937063,
          43.30069930069931,
          44.307692307692314,
          45.31468531468532,
          46.32167832167833,
          47.328671328671334,
          48.33566433566434,
          49.34265734265735,
          50.349650349650354,
          51.35664335664336,
          52.36363636363637,
          53.37062937062937,
          54.37762237762238,
          55.38461538461539,
          56.3916083916084,
          57.39860139860141,
          58.405594405594414,
          59.41258741258742,
          60.41958041958043,
          61.426573426573434,
          62.43356643356644,
          63.44055944055945,
          64.44755244755245,
          65.45454545454547,
          66.46153846153847,
          67.46853146853148,
          68.47552447552448,
          69.4825174825175,
          70.4895104895105,
          71.49650349650351,
          72.5034965034965,
          73.51048951048952,
          74.51748251748252,
          75.52447552447553,
          76.53146853146853,
          77.53846153846155,
          78.54545454545455,
          79.55244755244756,
          80.55944055944056,
          81.56643356643357,
          82.57342657342659,
          83.58041958041959,
          84.5874125874126,
          85.5944055944056,
          86.60139860139861,
          87.60839160839161,
          88.61538461538463,
          89.62237762237763,
          90.62937062937064,
          91.63636363636364,
          92.64335664335665,
          93.65034965034965,
          94.65734265734267,
          95.66433566433567,
          96.67132867132868,
          97.6783216783217,
          98.6853146853147,
          99.69230769230771,
          100.69930069930071,
          101.70629370629372,
          102.71328671328672,
          103.72027972027973,
          104.72727272727273,
          105.73426573426575,
          106.74125874125875,
          107.74825174825176,
          108.75524475524476,
          109.76223776223777,
          110.76923076923077,
          111.77622377622379,
          112.7832167832168,
          113.7902097902098,
          114.79720279720281,
          115.80419580419581,
          116.81118881118883,
          117.81818181818183,
          118.82517482517484,
          119.83216783216784,
          120.83916083916085,
          121.84615384615385,
          122.85314685314687,
          123.86013986013987,
          124.86713286713288,
          125.87412587412588,
          126.8811188811189,
          127.8881118881119,
          128.8951048951049,
          129.90209790209792,
          130.90909090909093,
          131.91608391608392,
          132.92307692307693,
          133.93006993006995,
          134.93706293706296,
          135.94405594405595,
          136.95104895104896,
          137.95804195804197,
          138.965034965035,
          139.97202797202797,
          140.979020979021,
          141.986013986014,
          142.99300699300701,
          144
         ],
         "xaxis": "x",
         "y": [
          112,
          118,
          132,
          129,
          121,
          135,
          148,
          148,
          136,
          119,
          104,
          118,
          115,
          126,
          141,
          135,
          125,
          149,
          170,
          170,
          158,
          133,
          114,
          140,
          145,
          150,
          178,
          163,
          172,
          178,
          199,
          199,
          184,
          162,
          146,
          166,
          171,
          180,
          193,
          181,
          183,
          218,
          230,
          242,
          209,
          191,
          172,
          194,
          196,
          196,
          236,
          235,
          229,
          243,
          264,
          272,
          237,
          211,
          180,
          201,
          204,
          188,
          235,
          227,
          234,
          264,
          302,
          293,
          259,
          229,
          203,
          229,
          242,
          233,
          267,
          269,
          270,
          315,
          364,
          347,
          312,
          274,
          237,
          278,
          284,
          277,
          317,
          313,
          318,
          374,
          413,
          405,
          355,
          306,
          271,
          306,
          315,
          301,
          356,
          348,
          355,
          422,
          465,
          467,
          404,
          347,
          305,
          336,
          340,
          318,
          362,
          348,
          363,
          435,
          491,
          505,
          404,
          359,
          310,
          337,
          360,
          342,
          406,
          396,
          420,
          472,
          548,
          559,
          463,
          407,
          362,
          405,
          417,
          391,
          419,
          461,
          472,
          535,
          622,
          606,
          508,
          461,
          390,
          432
         ],
         "yaxis": "y"
        },
        {
         "hovertemplate": "variable=train_pred_3<br>x=%{x}<br>value=%{y}<extra></extra>",
         "legendgroup": "train_pred_3",
         "line": {
          "color": "#EF553B",
          "dash": "solid"
         },
         "marker": {
          "symbol": "circle"
         },
         "mode": "lines",
         "name": "train_pred_3",
         "orientation": "v",
         "showlegend": true,
         "type": "scatter",
         "x": [
          0,
          1.006993006993007,
          2.013986013986014,
          3.0209790209790213,
          4.027972027972028,
          5.034965034965035,
          6.0419580419580425,
          7.04895104895105,
          8.055944055944057,
          9.062937062937063,
          10.06993006993007,
          11.076923076923078,
          12.083916083916085,
          13.090909090909092,
          14.0979020979021,
          15.104895104895107,
          16.111888111888113,
          17.11888111888112,
          18.125874125874127,
          19.132867132867133,
          20.13986013986014,
          21.14685314685315,
          22.153846153846157,
          23.160839160839163,
          24.16783216783217,
          25.174825174825177,
          26.181818181818183,
          27.18881118881119,
          28.1958041958042,
          29.202797202797207,
          30.209790209790214,
          31.21678321678322,
          32.22377622377623,
          33.23076923076923,
          34.23776223776224,
          35.24475524475525,
          36.25174825174825,
          37.25874125874126,
          38.26573426573427,
          39.27272727272727,
          40.27972027972028,
          41.286713286713294,
          42.2937062937063,
          43.30069930069931,
          44.307692307692314,
          45.31468531468532,
          46.32167832167833,
          47.328671328671334,
          48.33566433566434,
          49.34265734265735,
          50.349650349650354,
          51.35664335664336,
          52.36363636363637,
          53.37062937062937,
          54.37762237762238,
          55.38461538461539,
          56.3916083916084,
          57.39860139860141,
          58.405594405594414,
          59.41258741258742,
          60.41958041958043,
          61.426573426573434,
          62.43356643356644,
          63.44055944055945,
          64.44755244755245,
          65.45454545454547,
          66.46153846153847,
          67.46853146853148,
          68.47552447552448,
          69.4825174825175,
          70.4895104895105,
          71.49650349650351,
          72.5034965034965,
          73.51048951048952,
          74.51748251748252,
          75.52447552447553,
          76.53146853146853,
          77.53846153846155,
          78.54545454545455,
          79.55244755244756,
          80.55944055944056,
          81.56643356643357,
          82.57342657342659,
          83.58041958041959,
          84.5874125874126,
          85.5944055944056,
          86.60139860139861,
          87.60839160839161,
          88.61538461538463,
          89.62237762237763,
          90.62937062937064,
          91.63636363636364,
          92.64335664335665,
          93.65034965034965,
          94.65734265734267,
          95.66433566433567,
          96.67132867132868,
          97.6783216783217,
          98.6853146853147,
          99.69230769230771,
          100.69930069930071,
          101.70629370629372,
          102.71328671328672,
          103.72027972027973,
          104.72727272727273,
          105.73426573426575,
          106.74125874125875,
          107.74825174825176,
          108.75524475524476,
          109.76223776223777,
          110.76923076923077,
          111.77622377622379,
          112.7832167832168,
          113.7902097902098,
          114.79720279720281,
          115.80419580419581,
          116.81118881118883,
          117.81818181818183,
          118.82517482517484,
          119.83216783216784,
          120.83916083916085,
          121.84615384615385,
          122.85314685314687,
          123.86013986013987,
          124.86713286713288,
          125.87412587412588,
          126.8811188811189,
          127.8881118881119,
          128.8951048951049,
          129.90209790209792,
          130.90909090909093,
          131.91608391608392,
          132.92307692307693,
          133.93006993006995,
          134.93706293706296,
          135.94405594405595,
          136.95104895104896,
          137.95804195804197,
          138.965034965035,
          139.97202797202797,
          140.979020979021,
          141.986013986014,
          142.99300699300701,
          144
         ],
         "xaxis": "x",
         "y": [
          null,
          null,
          null,
          141.90806579589844,
          139.62677001953125,
          130.8941650390625,
          142.97415161132812,
          156.27655029296875,
          155.763671875,
          143.70504760742188,
          127.82433319091797,
          114.963134765625,
          127.96072387695312,
          128.02230834960938,
          135.81503295898438,
          150.06350708007812,
          144.6738739013672,
          133.82310485839844,
          155.095458984375,
          176.51065063476562,
          175.69827270507812,
          162.7413330078125,
          139.29986572265625,
          122.05704498291016,
          146.50828552246094,
          154.6534423828125,
          156.84765625,
          182.04010009765625,
          169.7821044921875,
          174.3426055908203,
          181.84762573242188,
          200.8252716064453,
          201.62991333007812,
          185.8245849609375,
          164.39089965820312,
          149.79632568359375,
          169.2461395263672,
          176.62203979492188,
          183.34902954101562,
          195.4767303466797,
          184.40676879882812,
          184.30079650878906,
          218.10330200195312,
          231.1942138671875,
          240.7509307861328,
          209.27804565429688,
          189.0309600830078,
          173.13926696777344,
          194.1852569580078,
          199.04132080078125,
          197.2958526611328,
          234.65126037597656,
          235.99624633789062,
          227.41671752929688,
          240.49217224121094,
          261.5434875488281,
          269.4086608886719,
          235.09031677246094,
          207.25221252441406,
          179.17245483398438,
          199.5363006591797,
          206.23097229003906,
          189.69471740722656,
          232.70472717285156,
          229.03659057617188,
          231.799072265625,
          261.18035888671875,
          297.9015808105469,
          290.0412292480469,
          254.84161376953125,
          224.29978942871094,
          200.201171875,
          226.0842742919922,
          241.68434143066406,
          232.14297485351562,
          263.1088562011719,
          267.2846984863281,
          266.4091491699219,
          308.9701232910156,
          355.6095275878906,
          341.2973937988281,
          305.6677551269531,
          267.5676574707031,
          231.47024536132812,
          272.0212707519531,
          281.6986999511719,
          273.2503662109375,
          310.6167297363281,
          308.93817138671875,
          311.9314270019531,
          364.19818115234375,
          400.38421630859375,
          394.76873779296875,
          347.8058166503906,
          298.0211181640625,
          263.73797607421875,
          null,
          null,
          null,
          null,
          null,
          null,
          null,
          null,
          null,
          null,
          null,
          null,
          null,
          null,
          null,
          null,
          null,
          null,
          null,
          null,
          null,
          null,
          null,
          null,
          null,
          null,
          null,
          null,
          null,
          null,
          null,
          null,
          null,
          null,
          null,
          null,
          null,
          null,
          null,
          null,
          null,
          null,
          null,
          null,
          null,
          null,
          null,
          null
         ],
         "yaxis": "y"
        },
        {
         "hovertemplate": "variable=test_pred_3<br>x=%{x}<br>value=%{y}<extra></extra>",
         "legendgroup": "test_pred_3",
         "line": {
          "color": "#00cc96",
          "dash": "solid"
         },
         "marker": {
          "symbol": "circle"
         },
         "mode": "lines",
         "name": "test_pred_3",
         "orientation": "v",
         "showlegend": true,
         "type": "scatter",
         "x": [
          0,
          1.006993006993007,
          2.013986013986014,
          3.0209790209790213,
          4.027972027972028,
          5.034965034965035,
          6.0419580419580425,
          7.04895104895105,
          8.055944055944057,
          9.062937062937063,
          10.06993006993007,
          11.076923076923078,
          12.083916083916085,
          13.090909090909092,
          14.0979020979021,
          15.104895104895107,
          16.111888111888113,
          17.11888111888112,
          18.125874125874127,
          19.132867132867133,
          20.13986013986014,
          21.14685314685315,
          22.153846153846157,
          23.160839160839163,
          24.16783216783217,
          25.174825174825177,
          26.181818181818183,
          27.18881118881119,
          28.1958041958042,
          29.202797202797207,
          30.209790209790214,
          31.21678321678322,
          32.22377622377623,
          33.23076923076923,
          34.23776223776224,
          35.24475524475525,
          36.25174825174825,
          37.25874125874126,
          38.26573426573427,
          39.27272727272727,
          40.27972027972028,
          41.286713286713294,
          42.2937062937063,
          43.30069930069931,
          44.307692307692314,
          45.31468531468532,
          46.32167832167833,
          47.328671328671334,
          48.33566433566434,
          49.34265734265735,
          50.349650349650354,
          51.35664335664336,
          52.36363636363637,
          53.37062937062937,
          54.37762237762238,
          55.38461538461539,
          56.3916083916084,
          57.39860139860141,
          58.405594405594414,
          59.41258741258742,
          60.41958041958043,
          61.426573426573434,
          62.43356643356644,
          63.44055944055945,
          64.44755244755245,
          65.45454545454547,
          66.46153846153847,
          67.46853146853148,
          68.47552447552448,
          69.4825174825175,
          70.4895104895105,
          71.49650349650351,
          72.5034965034965,
          73.51048951048952,
          74.51748251748252,
          75.52447552447553,
          76.53146853146853,
          77.53846153846155,
          78.54545454545455,
          79.55244755244756,
          80.55944055944056,
          81.56643356643357,
          82.57342657342659,
          83.58041958041959,
          84.5874125874126,
          85.5944055944056,
          86.60139860139861,
          87.60839160839161,
          88.61538461538463,
          89.62237762237763,
          90.62937062937064,
          91.63636363636364,
          92.64335664335665,
          93.65034965034965,
          94.65734265734267,
          95.66433566433567,
          96.67132867132868,
          97.6783216783217,
          98.6853146853147,
          99.69230769230771,
          100.69930069930071,
          101.70629370629372,
          102.71328671328672,
          103.72027972027973,
          104.72727272727273,
          105.73426573426575,
          106.74125874125875,
          107.74825174825176,
          108.75524475524476,
          109.76223776223777,
          110.76923076923077,
          111.77622377622379,
          112.7832167832168,
          113.7902097902098,
          114.79720279720281,
          115.80419580419581,
          116.81118881118883,
          117.81818181818183,
          118.82517482517484,
          119.83216783216784,
          120.83916083916085,
          121.84615384615385,
          122.85314685314687,
          123.86013986013987,
          124.86713286713288,
          125.87412587412588,
          126.8811188811189,
          127.8881118881119,
          128.8951048951049,
          129.90209790209792,
          130.90909090909093,
          131.91608391608392,
          132.92307692307693,
          133.93006993006995,
          134.93706293706296,
          135.94405594405595,
          136.95104895104896,
          137.95804195804197,
          138.965034965035,
          139.97202797202797,
          140.979020979021,
          141.986013986014,
          142.99300699300701,
          144
         ],
         "xaxis": "x",
         "y": [
          null,
          null,
          null,
          null,
          null,
          null,
          null,
          null,
          null,
          null,
          null,
          null,
          null,
          null,
          null,
          null,
          null,
          null,
          null,
          null,
          null,
          null,
          null,
          null,
          null,
          null,
          null,
          null,
          null,
          null,
          null,
          null,
          null,
          null,
          null,
          null,
          null,
          null,
          null,
          null,
          null,
          null,
          null,
          null,
          null,
          null,
          null,
          null,
          null,
          null,
          null,
          null,
          null,
          null,
          null,
          null,
          null,
          null,
          null,
          null,
          null,
          null,
          null,
          null,
          null,
          null,
          null,
          null,
          null,
          null,
          null,
          null,
          null,
          null,
          null,
          null,
          null,
          null,
          null,
          null,
          null,
          null,
          null,
          null,
          null,
          null,
          null,
          null,
          null,
          null,
          null,
          null,
          null,
          null,
          null,
          null,
          null,
          null,
          null,
          347.0929260253906,
          342.21771240234375,
          347.0936279296875,
          407.8150939941406,
          445.677490234375,
          449.9653015136719,
          395.11627197265625,
          338.0828857421875,
          296.6943359375,
          327.6195373535156,
          333.9590148925781,
          312.38018798828125,
          352.7965087890625,
          342.06756591796875,
          354.4281005859375,
          419.1868591308594,
          466.91448974609375,
          481.6116638183594,
          396.10809326171875,
          348.5343322753906,
          302.24908447265625,
          328.3775329589844,
          352.2525939941406,
          335.9171142578125,
          393.4239501953125,
          386.6422424316406,
          407.57110595703125,
          452.4505615234375,
          513.343017578125,
          525.1145629882812,
          451.0563659667969,
          396.5000305175781,
          353.0979309082031,
          393.0211486816406,
          405.0325012207031,
          382.1072082519531,
          406.5438537597656,
          443.2250671386719,
          453.93890380859375,
          505.6927185058594,
          568.8557739257812,
          563.0451049804688,
          492.3042907714844,
          448.3668518066406,
          381.0669860839844
         ],
         "yaxis": "y"
        }
       ],
       "layout": {
        "legend": {
         "title": {
          "text": "variable"
         },
         "tracegroupgap": 0
        },
        "template": {
         "data": {
          "bar": [
           {
            "error_x": {
             "color": "#2a3f5f"
            },
            "error_y": {
             "color": "#2a3f5f"
            },
            "marker": {
             "line": {
              "color": "#E5ECF6",
              "width": 0.5
             },
             "pattern": {
              "fillmode": "overlay",
              "size": 10,
              "solidity": 0.2
             }
            },
            "type": "bar"
           }
          ],
          "barpolar": [
           {
            "marker": {
             "line": {
              "color": "#E5ECF6",
              "width": 0.5
             },
             "pattern": {
              "fillmode": "overlay",
              "size": 10,
              "solidity": 0.2
             }
            },
            "type": "barpolar"
           }
          ],
          "carpet": [
           {
            "aaxis": {
             "endlinecolor": "#2a3f5f",
             "gridcolor": "white",
             "linecolor": "white",
             "minorgridcolor": "white",
             "startlinecolor": "#2a3f5f"
            },
            "baxis": {
             "endlinecolor": "#2a3f5f",
             "gridcolor": "white",
             "linecolor": "white",
             "minorgridcolor": "white",
             "startlinecolor": "#2a3f5f"
            },
            "type": "carpet"
           }
          ],
          "choropleth": [
           {
            "colorbar": {
             "outlinewidth": 0,
             "ticks": ""
            },
            "type": "choropleth"
           }
          ],
          "contour": [
           {
            "colorbar": {
             "outlinewidth": 0,
             "ticks": ""
            },
            "colorscale": [
             [
              0,
              "#0d0887"
             ],
             [
              0.1111111111111111,
              "#46039f"
             ],
             [
              0.2222222222222222,
              "#7201a8"
             ],
             [
              0.3333333333333333,
              "#9c179e"
             ],
             [
              0.4444444444444444,
              "#bd3786"
             ],
             [
              0.5555555555555556,
              "#d8576b"
             ],
             [
              0.6666666666666666,
              "#ed7953"
             ],
             [
              0.7777777777777778,
              "#fb9f3a"
             ],
             [
              0.8888888888888888,
              "#fdca26"
             ],
             [
              1,
              "#f0f921"
             ]
            ],
            "type": "contour"
           }
          ],
          "contourcarpet": [
           {
            "colorbar": {
             "outlinewidth": 0,
             "ticks": ""
            },
            "type": "contourcarpet"
           }
          ],
          "heatmap": [
           {
            "colorbar": {
             "outlinewidth": 0,
             "ticks": ""
            },
            "colorscale": [
             [
              0,
              "#0d0887"
             ],
             [
              0.1111111111111111,
              "#46039f"
             ],
             [
              0.2222222222222222,
              "#7201a8"
             ],
             [
              0.3333333333333333,
              "#9c179e"
             ],
             [
              0.4444444444444444,
              "#bd3786"
             ],
             [
              0.5555555555555556,
              "#d8576b"
             ],
             [
              0.6666666666666666,
              "#ed7953"
             ],
             [
              0.7777777777777778,
              "#fb9f3a"
             ],
             [
              0.8888888888888888,
              "#fdca26"
             ],
             [
              1,
              "#f0f921"
             ]
            ],
            "type": "heatmap"
           }
          ],
          "heatmapgl": [
           {
            "colorbar": {
             "outlinewidth": 0,
             "ticks": ""
            },
            "colorscale": [
             [
              0,
              "#0d0887"
             ],
             [
              0.1111111111111111,
              "#46039f"
             ],
             [
              0.2222222222222222,
              "#7201a8"
             ],
             [
              0.3333333333333333,
              "#9c179e"
             ],
             [
              0.4444444444444444,
              "#bd3786"
             ],
             [
              0.5555555555555556,
              "#d8576b"
             ],
             [
              0.6666666666666666,
              "#ed7953"
             ],
             [
              0.7777777777777778,
              "#fb9f3a"
             ],
             [
              0.8888888888888888,
              "#fdca26"
             ],
             [
              1,
              "#f0f921"
             ]
            ],
            "type": "heatmapgl"
           }
          ],
          "histogram": [
           {
            "marker": {
             "pattern": {
              "fillmode": "overlay",
              "size": 10,
              "solidity": 0.2
             }
            },
            "type": "histogram"
           }
          ],
          "histogram2d": [
           {
            "colorbar": {
             "outlinewidth": 0,
             "ticks": ""
            },
            "colorscale": [
             [
              0,
              "#0d0887"
             ],
             [
              0.1111111111111111,
              "#46039f"
             ],
             [
              0.2222222222222222,
              "#7201a8"
             ],
             [
              0.3333333333333333,
              "#9c179e"
             ],
             [
              0.4444444444444444,
              "#bd3786"
             ],
             [
              0.5555555555555556,
              "#d8576b"
             ],
             [
              0.6666666666666666,
              "#ed7953"
             ],
             [
              0.7777777777777778,
              "#fb9f3a"
             ],
             [
              0.8888888888888888,
              "#fdca26"
             ],
             [
              1,
              "#f0f921"
             ]
            ],
            "type": "histogram2d"
           }
          ],
          "histogram2dcontour": [
           {
            "colorbar": {
             "outlinewidth": 0,
             "ticks": ""
            },
            "colorscale": [
             [
              0,
              "#0d0887"
             ],
             [
              0.1111111111111111,
              "#46039f"
             ],
             [
              0.2222222222222222,
              "#7201a8"
             ],
             [
              0.3333333333333333,
              "#9c179e"
             ],
             [
              0.4444444444444444,
              "#bd3786"
             ],
             [
              0.5555555555555556,
              "#d8576b"
             ],
             [
              0.6666666666666666,
              "#ed7953"
             ],
             [
              0.7777777777777778,
              "#fb9f3a"
             ],
             [
              0.8888888888888888,
              "#fdca26"
             ],
             [
              1,
              "#f0f921"
             ]
            ],
            "type": "histogram2dcontour"
           }
          ],
          "mesh3d": [
           {
            "colorbar": {
             "outlinewidth": 0,
             "ticks": ""
            },
            "type": "mesh3d"
           }
          ],
          "parcoords": [
           {
            "line": {
             "colorbar": {
              "outlinewidth": 0,
              "ticks": ""
             }
            },
            "type": "parcoords"
           }
          ],
          "pie": [
           {
            "automargin": true,
            "type": "pie"
           }
          ],
          "scatter": [
           {
            "marker": {
             "colorbar": {
              "outlinewidth": 0,
              "ticks": ""
             }
            },
            "type": "scatter"
           }
          ],
          "scatter3d": [
           {
            "line": {
             "colorbar": {
              "outlinewidth": 0,
              "ticks": ""
             }
            },
            "marker": {
             "colorbar": {
              "outlinewidth": 0,
              "ticks": ""
             }
            },
            "type": "scatter3d"
           }
          ],
          "scattercarpet": [
           {
            "marker": {
             "colorbar": {
              "outlinewidth": 0,
              "ticks": ""
             }
            },
            "type": "scattercarpet"
           }
          ],
          "scattergeo": [
           {
            "marker": {
             "colorbar": {
              "outlinewidth": 0,
              "ticks": ""
             }
            },
            "type": "scattergeo"
           }
          ],
          "scattergl": [
           {
            "marker": {
             "colorbar": {
              "outlinewidth": 0,
              "ticks": ""
             }
            },
            "type": "scattergl"
           }
          ],
          "scattermapbox": [
           {
            "marker": {
             "colorbar": {
              "outlinewidth": 0,
              "ticks": ""
             }
            },
            "type": "scattermapbox"
           }
          ],
          "scatterpolar": [
           {
            "marker": {
             "colorbar": {
              "outlinewidth": 0,
              "ticks": ""
             }
            },
            "type": "scatterpolar"
           }
          ],
          "scatterpolargl": [
           {
            "marker": {
             "colorbar": {
              "outlinewidth": 0,
              "ticks": ""
             }
            },
            "type": "scatterpolargl"
           }
          ],
          "scatterternary": [
           {
            "marker": {
             "colorbar": {
              "outlinewidth": 0,
              "ticks": ""
             }
            },
            "type": "scatterternary"
           }
          ],
          "surface": [
           {
            "colorbar": {
             "outlinewidth": 0,
             "ticks": ""
            },
            "colorscale": [
             [
              0,
              "#0d0887"
             ],
             [
              0.1111111111111111,
              "#46039f"
             ],
             [
              0.2222222222222222,
              "#7201a8"
             ],
             [
              0.3333333333333333,
              "#9c179e"
             ],
             [
              0.4444444444444444,
              "#bd3786"
             ],
             [
              0.5555555555555556,
              "#d8576b"
             ],
             [
              0.6666666666666666,
              "#ed7953"
             ],
             [
              0.7777777777777778,
              "#fb9f3a"
             ],
             [
              0.8888888888888888,
              "#fdca26"
             ],
             [
              1,
              "#f0f921"
             ]
            ],
            "type": "surface"
           }
          ],
          "table": [
           {
            "cells": {
             "fill": {
              "color": "#EBF0F8"
             },
             "line": {
              "color": "white"
             }
            },
            "header": {
             "fill": {
              "color": "#C8D4E3"
             },
             "line": {
              "color": "white"
             }
            },
            "type": "table"
           }
          ]
         },
         "layout": {
          "annotationdefaults": {
           "arrowcolor": "#2a3f5f",
           "arrowhead": 0,
           "arrowwidth": 1
          },
          "autotypenumbers": "strict",
          "coloraxis": {
           "colorbar": {
            "outlinewidth": 0,
            "ticks": ""
           }
          },
          "colorscale": {
           "diverging": [
            [
             0,
             "#8e0152"
            ],
            [
             0.1,
             "#c51b7d"
            ],
            [
             0.2,
             "#de77ae"
            ],
            [
             0.3,
             "#f1b6da"
            ],
            [
             0.4,
             "#fde0ef"
            ],
            [
             0.5,
             "#f7f7f7"
            ],
            [
             0.6,
             "#e6f5d0"
            ],
            [
             0.7,
             "#b8e186"
            ],
            [
             0.8,
             "#7fbc41"
            ],
            [
             0.9,
             "#4d9221"
            ],
            [
             1,
             "#276419"
            ]
           ],
           "sequential": [
            [
             0,
             "#0d0887"
            ],
            [
             0.1111111111111111,
             "#46039f"
            ],
            [
             0.2222222222222222,
             "#7201a8"
            ],
            [
             0.3333333333333333,
             "#9c179e"
            ],
            [
             0.4444444444444444,
             "#bd3786"
            ],
            [
             0.5555555555555556,
             "#d8576b"
            ],
            [
             0.6666666666666666,
             "#ed7953"
            ],
            [
             0.7777777777777778,
             "#fb9f3a"
            ],
            [
             0.8888888888888888,
             "#fdca26"
            ],
            [
             1,
             "#f0f921"
            ]
           ],
           "sequentialminus": [
            [
             0,
             "#0d0887"
            ],
            [
             0.1111111111111111,
             "#46039f"
            ],
            [
             0.2222222222222222,
             "#7201a8"
            ],
            [
             0.3333333333333333,
             "#9c179e"
            ],
            [
             0.4444444444444444,
             "#bd3786"
            ],
            [
             0.5555555555555556,
             "#d8576b"
            ],
            [
             0.6666666666666666,
             "#ed7953"
            ],
            [
             0.7777777777777778,
             "#fb9f3a"
            ],
            [
             0.8888888888888888,
             "#fdca26"
            ],
            [
             1,
             "#f0f921"
            ]
           ]
          },
          "colorway": [
           "#636efa",
           "#EF553B",
           "#00cc96",
           "#ab63fa",
           "#FFA15A",
           "#19d3f3",
           "#FF6692",
           "#B6E880",
           "#FF97FF",
           "#FECB52"
          ],
          "font": {
           "color": "#2a3f5f"
          },
          "geo": {
           "bgcolor": "white",
           "lakecolor": "white",
           "landcolor": "#E5ECF6",
           "showlakes": true,
           "showland": true,
           "subunitcolor": "white"
          },
          "hoverlabel": {
           "align": "left"
          },
          "hovermode": "closest",
          "mapbox": {
           "style": "light"
          },
          "paper_bgcolor": "white",
          "plot_bgcolor": "#E5ECF6",
          "polar": {
           "angularaxis": {
            "gridcolor": "white",
            "linecolor": "white",
            "ticks": ""
           },
           "bgcolor": "#E5ECF6",
           "radialaxis": {
            "gridcolor": "white",
            "linecolor": "white",
            "ticks": ""
           }
          },
          "scene": {
           "xaxis": {
            "backgroundcolor": "#E5ECF6",
            "gridcolor": "white",
            "gridwidth": 2,
            "linecolor": "white",
            "showbackground": true,
            "ticks": "",
            "zerolinecolor": "white"
           },
           "yaxis": {
            "backgroundcolor": "#E5ECF6",
            "gridcolor": "white",
            "gridwidth": 2,
            "linecolor": "white",
            "showbackground": true,
            "ticks": "",
            "zerolinecolor": "white"
           },
           "zaxis": {
            "backgroundcolor": "#E5ECF6",
            "gridcolor": "white",
            "gridwidth": 2,
            "linecolor": "white",
            "showbackground": true,
            "ticks": "",
            "zerolinecolor": "white"
           }
          },
          "shapedefaults": {
           "line": {
            "color": "#2a3f5f"
           }
          },
          "ternary": {
           "aaxis": {
            "gridcolor": "white",
            "linecolor": "white",
            "ticks": ""
           },
           "baxis": {
            "gridcolor": "white",
            "linecolor": "white",
            "ticks": ""
           },
           "bgcolor": "#E5ECF6",
           "caxis": {
            "gridcolor": "white",
            "linecolor": "white",
            "ticks": ""
           }
          },
          "title": {
           "x": 0.05
          },
          "xaxis": {
           "automargin": true,
           "gridcolor": "white",
           "linecolor": "white",
           "ticks": "",
           "title": {
            "standoff": 15
           },
           "zerolinecolor": "white",
           "zerolinewidth": 2
          },
          "yaxis": {
           "automargin": true,
           "gridcolor": "white",
           "linecolor": "white",
           "ticks": "",
           "title": {
            "standoff": 15
           },
           "zerolinecolor": "white",
           "zerolinewidth": 2
          }
         }
        },
        "title": {
         "text": "Airline Passenger trend"
        },
        "xaxis": {
         "anchor": "y",
         "domain": [
          0,
          1
         ],
         "rangeslider": {
          "visible": true
         },
         "title": {
          "text": "x"
         }
        },
        "yaxis": {
         "anchor": "x",
         "domain": [
          0,
          1
         ],
         "title": {
          "text": "value"
         }
        }
       }
      },
      "text/html": [
       "<div>                            <div id=\"e50ffb6d-c5ed-4356-a9a7-590841cc6c0a\" class=\"plotly-graph-div\" style=\"height:525px; width:100%;\"></div>            <script type=\"text/javascript\">                require([\"plotly\"], function(Plotly) {                    window.PLOTLYENV=window.PLOTLYENV || {};                                    if (document.getElementById(\"e50ffb6d-c5ed-4356-a9a7-590841cc6c0a\")) {                    Plotly.newPlot(                        \"e50ffb6d-c5ed-4356-a9a7-590841cc6c0a\",                        [{\"hovertemplate\":\"variable=Passengers<br>x=%{x}<br>value=%{y}<extra></extra>\",\"legendgroup\":\"Passengers\",\"line\":{\"color\":\"#636efa\",\"dash\":\"solid\"},\"marker\":{\"symbol\":\"circle\"},\"mode\":\"lines\",\"name\":\"Passengers\",\"orientation\":\"v\",\"showlegend\":true,\"x\":[0.0,1.006993006993007,2.013986013986014,3.0209790209790213,4.027972027972028,5.034965034965035,6.0419580419580425,7.04895104895105,8.055944055944057,9.062937062937063,10.06993006993007,11.076923076923078,12.083916083916085,13.090909090909092,14.0979020979021,15.104895104895107,16.111888111888113,17.11888111888112,18.125874125874127,19.132867132867133,20.13986013986014,21.14685314685315,22.153846153846157,23.160839160839163,24.16783216783217,25.174825174825177,26.181818181818183,27.18881118881119,28.1958041958042,29.202797202797207,30.209790209790214,31.21678321678322,32.22377622377623,33.23076923076923,34.23776223776224,35.24475524475525,36.25174825174825,37.25874125874126,38.26573426573427,39.27272727272727,40.27972027972028,41.286713286713294,42.2937062937063,43.30069930069931,44.307692307692314,45.31468531468532,46.32167832167833,47.328671328671334,48.33566433566434,49.34265734265735,50.349650349650354,51.35664335664336,52.36363636363637,53.37062937062937,54.37762237762238,55.38461538461539,56.3916083916084,57.39860139860141,58.405594405594414,59.41258741258742,60.41958041958043,61.426573426573434,62.43356643356644,63.44055944055945,64.44755244755245,65.45454545454547,66.46153846153847,67.46853146853148,68.47552447552448,69.4825174825175,70.4895104895105,71.49650349650351,72.5034965034965,73.51048951048952,74.51748251748252,75.52447552447553,76.53146853146853,77.53846153846155,78.54545454545455,79.55244755244756,80.55944055944056,81.56643356643357,82.57342657342659,83.58041958041959,84.5874125874126,85.5944055944056,86.60139860139861,87.60839160839161,88.61538461538463,89.62237762237763,90.62937062937064,91.63636363636364,92.64335664335665,93.65034965034965,94.65734265734267,95.66433566433567,96.67132867132868,97.6783216783217,98.6853146853147,99.69230769230771,100.69930069930071,101.70629370629372,102.71328671328672,103.72027972027973,104.72727272727273,105.73426573426575,106.74125874125875,107.74825174825176,108.75524475524476,109.76223776223777,110.76923076923077,111.77622377622379,112.7832167832168,113.7902097902098,114.79720279720281,115.80419580419581,116.81118881118883,117.81818181818183,118.82517482517484,119.83216783216784,120.83916083916085,121.84615384615385,122.85314685314687,123.86013986013987,124.86713286713288,125.87412587412588,126.8811188811189,127.8881118881119,128.8951048951049,129.90209790209792,130.90909090909093,131.91608391608392,132.92307692307693,133.93006993006995,134.93706293706296,135.94405594405595,136.95104895104896,137.95804195804197,138.965034965035,139.97202797202797,140.979020979021,141.986013986014,142.99300699300701,144.0],\"xaxis\":\"x\",\"y\":[112.0,118.0,132.0,129.0,121.0,135.0,148.0,148.0,136.0,119.0,104.0,118.0,115.0,126.0,141.0,135.0,125.0,149.0,170.0,170.0,158.0,133.0,114.0,140.0,145.0,150.0,178.0,163.0,172.0,178.0,199.0,199.0,184.0,162.0,146.0,166.0,171.0,180.0,193.0,181.0,183.0,218.0,230.0,242.0,209.0,191.0,172.0,194.0,196.0,196.0,236.0,235.0,229.0,243.0,264.0,272.0,237.0,211.0,180.0,201.0,204.0,188.0,235.0,227.0,234.0,264.0,302.0,293.0,259.0,229.0,203.0,229.0,242.0,233.0,267.0,269.0,270.0,315.0,364.0,347.0,312.0,274.0,237.0,278.0,284.0,277.0,317.0,313.0,318.0,374.0,413.0,405.0,355.0,306.0,271.0,306.0,315.0,301.0,356.0,348.0,355.0,422.0,465.0,467.0,404.0,347.0,305.0,336.0,340.0,318.0,362.0,348.0,363.0,435.0,491.0,505.0,404.0,359.0,310.0,337.0,360.0,342.0,406.0,396.0,420.0,472.0,548.0,559.0,463.0,407.0,362.0,405.0,417.0,391.0,419.0,461.0,472.0,535.0,622.0,606.0,508.0,461.0,390.0,432.0],\"yaxis\":\"y\",\"type\":\"scatter\"},{\"hovertemplate\":\"variable=train_pred_3<br>x=%{x}<br>value=%{y}<extra></extra>\",\"legendgroup\":\"train_pred_3\",\"line\":{\"color\":\"#EF553B\",\"dash\":\"solid\"},\"marker\":{\"symbol\":\"circle\"},\"mode\":\"lines\",\"name\":\"train_pred_3\",\"orientation\":\"v\",\"showlegend\":true,\"x\":[0.0,1.006993006993007,2.013986013986014,3.0209790209790213,4.027972027972028,5.034965034965035,6.0419580419580425,7.04895104895105,8.055944055944057,9.062937062937063,10.06993006993007,11.076923076923078,12.083916083916085,13.090909090909092,14.0979020979021,15.104895104895107,16.111888111888113,17.11888111888112,18.125874125874127,19.132867132867133,20.13986013986014,21.14685314685315,22.153846153846157,23.160839160839163,24.16783216783217,25.174825174825177,26.181818181818183,27.18881118881119,28.1958041958042,29.202797202797207,30.209790209790214,31.21678321678322,32.22377622377623,33.23076923076923,34.23776223776224,35.24475524475525,36.25174825174825,37.25874125874126,38.26573426573427,39.27272727272727,40.27972027972028,41.286713286713294,42.2937062937063,43.30069930069931,44.307692307692314,45.31468531468532,46.32167832167833,47.328671328671334,48.33566433566434,49.34265734265735,50.349650349650354,51.35664335664336,52.36363636363637,53.37062937062937,54.37762237762238,55.38461538461539,56.3916083916084,57.39860139860141,58.405594405594414,59.41258741258742,60.41958041958043,61.426573426573434,62.43356643356644,63.44055944055945,64.44755244755245,65.45454545454547,66.46153846153847,67.46853146853148,68.47552447552448,69.4825174825175,70.4895104895105,71.49650349650351,72.5034965034965,73.51048951048952,74.51748251748252,75.52447552447553,76.53146853146853,77.53846153846155,78.54545454545455,79.55244755244756,80.55944055944056,81.56643356643357,82.57342657342659,83.58041958041959,84.5874125874126,85.5944055944056,86.60139860139861,87.60839160839161,88.61538461538463,89.62237762237763,90.62937062937064,91.63636363636364,92.64335664335665,93.65034965034965,94.65734265734267,95.66433566433567,96.67132867132868,97.6783216783217,98.6853146853147,99.69230769230771,100.69930069930071,101.70629370629372,102.71328671328672,103.72027972027973,104.72727272727273,105.73426573426575,106.74125874125875,107.74825174825176,108.75524475524476,109.76223776223777,110.76923076923077,111.77622377622379,112.7832167832168,113.7902097902098,114.79720279720281,115.80419580419581,116.81118881118883,117.81818181818183,118.82517482517484,119.83216783216784,120.83916083916085,121.84615384615385,122.85314685314687,123.86013986013987,124.86713286713288,125.87412587412588,126.8811188811189,127.8881118881119,128.8951048951049,129.90209790209792,130.90909090909093,131.91608391608392,132.92307692307693,133.93006993006995,134.93706293706296,135.94405594405595,136.95104895104896,137.95804195804197,138.965034965035,139.97202797202797,140.979020979021,141.986013986014,142.99300699300701,144.0],\"xaxis\":\"x\",\"y\":[null,null,null,141.90806579589844,139.62677001953125,130.8941650390625,142.97415161132812,156.27655029296875,155.763671875,143.70504760742188,127.82433319091797,114.963134765625,127.96072387695312,128.02230834960938,135.81503295898438,150.06350708007812,144.6738739013672,133.82310485839844,155.095458984375,176.51065063476562,175.69827270507812,162.7413330078125,139.29986572265625,122.05704498291016,146.50828552246094,154.6534423828125,156.84765625,182.04010009765625,169.7821044921875,174.3426055908203,181.84762573242188,200.8252716064453,201.62991333007812,185.8245849609375,164.39089965820312,149.79632568359375,169.2461395263672,176.62203979492188,183.34902954101562,195.4767303466797,184.40676879882812,184.30079650878906,218.10330200195312,231.1942138671875,240.7509307861328,209.27804565429688,189.0309600830078,173.13926696777344,194.1852569580078,199.04132080078125,197.2958526611328,234.65126037597656,235.99624633789062,227.41671752929688,240.49217224121094,261.5434875488281,269.4086608886719,235.09031677246094,207.25221252441406,179.17245483398438,199.5363006591797,206.23097229003906,189.69471740722656,232.70472717285156,229.03659057617188,231.799072265625,261.18035888671875,297.9015808105469,290.0412292480469,254.84161376953125,224.29978942871094,200.201171875,226.0842742919922,241.68434143066406,232.14297485351562,263.1088562011719,267.2846984863281,266.4091491699219,308.9701232910156,355.6095275878906,341.2973937988281,305.6677551269531,267.5676574707031,231.47024536132812,272.0212707519531,281.6986999511719,273.2503662109375,310.6167297363281,308.93817138671875,311.9314270019531,364.19818115234375,400.38421630859375,394.76873779296875,347.8058166503906,298.0211181640625,263.73797607421875,null,null,null,null,null,null,null,null,null,null,null,null,null,null,null,null,null,null,null,null,null,null,null,null,null,null,null,null,null,null,null,null,null,null,null,null,null,null,null,null,null,null,null,null,null,null,null,null],\"yaxis\":\"y\",\"type\":\"scatter\"},{\"hovertemplate\":\"variable=test_pred_3<br>x=%{x}<br>value=%{y}<extra></extra>\",\"legendgroup\":\"test_pred_3\",\"line\":{\"color\":\"#00cc96\",\"dash\":\"solid\"},\"marker\":{\"symbol\":\"circle\"},\"mode\":\"lines\",\"name\":\"test_pred_3\",\"orientation\":\"v\",\"showlegend\":true,\"x\":[0.0,1.006993006993007,2.013986013986014,3.0209790209790213,4.027972027972028,5.034965034965035,6.0419580419580425,7.04895104895105,8.055944055944057,9.062937062937063,10.06993006993007,11.076923076923078,12.083916083916085,13.090909090909092,14.0979020979021,15.104895104895107,16.111888111888113,17.11888111888112,18.125874125874127,19.132867132867133,20.13986013986014,21.14685314685315,22.153846153846157,23.160839160839163,24.16783216783217,25.174825174825177,26.181818181818183,27.18881118881119,28.1958041958042,29.202797202797207,30.209790209790214,31.21678321678322,32.22377622377623,33.23076923076923,34.23776223776224,35.24475524475525,36.25174825174825,37.25874125874126,38.26573426573427,39.27272727272727,40.27972027972028,41.286713286713294,42.2937062937063,43.30069930069931,44.307692307692314,45.31468531468532,46.32167832167833,47.328671328671334,48.33566433566434,49.34265734265735,50.349650349650354,51.35664335664336,52.36363636363637,53.37062937062937,54.37762237762238,55.38461538461539,56.3916083916084,57.39860139860141,58.405594405594414,59.41258741258742,60.41958041958043,61.426573426573434,62.43356643356644,63.44055944055945,64.44755244755245,65.45454545454547,66.46153846153847,67.46853146853148,68.47552447552448,69.4825174825175,70.4895104895105,71.49650349650351,72.5034965034965,73.51048951048952,74.51748251748252,75.52447552447553,76.53146853146853,77.53846153846155,78.54545454545455,79.55244755244756,80.55944055944056,81.56643356643357,82.57342657342659,83.58041958041959,84.5874125874126,85.5944055944056,86.60139860139861,87.60839160839161,88.61538461538463,89.62237762237763,90.62937062937064,91.63636363636364,92.64335664335665,93.65034965034965,94.65734265734267,95.66433566433567,96.67132867132868,97.6783216783217,98.6853146853147,99.69230769230771,100.69930069930071,101.70629370629372,102.71328671328672,103.72027972027973,104.72727272727273,105.73426573426575,106.74125874125875,107.74825174825176,108.75524475524476,109.76223776223777,110.76923076923077,111.77622377622379,112.7832167832168,113.7902097902098,114.79720279720281,115.80419580419581,116.81118881118883,117.81818181818183,118.82517482517484,119.83216783216784,120.83916083916085,121.84615384615385,122.85314685314687,123.86013986013987,124.86713286713288,125.87412587412588,126.8811188811189,127.8881118881119,128.8951048951049,129.90209790209792,130.90909090909093,131.91608391608392,132.92307692307693,133.93006993006995,134.93706293706296,135.94405594405595,136.95104895104896,137.95804195804197,138.965034965035,139.97202797202797,140.979020979021,141.986013986014,142.99300699300701,144.0],\"xaxis\":\"x\",\"y\":[null,null,null,null,null,null,null,null,null,null,null,null,null,null,null,null,null,null,null,null,null,null,null,null,null,null,null,null,null,null,null,null,null,null,null,null,null,null,null,null,null,null,null,null,null,null,null,null,null,null,null,null,null,null,null,null,null,null,null,null,null,null,null,null,null,null,null,null,null,null,null,null,null,null,null,null,null,null,null,null,null,null,null,null,null,null,null,null,null,null,null,null,null,null,null,null,null,null,null,347.0929260253906,342.21771240234375,347.0936279296875,407.8150939941406,445.677490234375,449.9653015136719,395.11627197265625,338.0828857421875,296.6943359375,327.6195373535156,333.9590148925781,312.38018798828125,352.7965087890625,342.06756591796875,354.4281005859375,419.1868591308594,466.91448974609375,481.6116638183594,396.10809326171875,348.5343322753906,302.24908447265625,328.3775329589844,352.2525939941406,335.9171142578125,393.4239501953125,386.6422424316406,407.57110595703125,452.4505615234375,513.343017578125,525.1145629882812,451.0563659667969,396.5000305175781,353.0979309082031,393.0211486816406,405.0325012207031,382.1072082519531,406.5438537597656,443.2250671386719,453.93890380859375,505.6927185058594,568.8557739257812,563.0451049804688,492.3042907714844,448.3668518066406,381.0669860839844],\"yaxis\":\"y\",\"type\":\"scatter\"}],                        {\"template\":{\"data\":{\"bar\":[{\"error_x\":{\"color\":\"#2a3f5f\"},\"error_y\":{\"color\":\"#2a3f5f\"},\"marker\":{\"line\":{\"color\":\"#E5ECF6\",\"width\":0.5},\"pattern\":{\"fillmode\":\"overlay\",\"size\":10,\"solidity\":0.2}},\"type\":\"bar\"}],\"barpolar\":[{\"marker\":{\"line\":{\"color\":\"#E5ECF6\",\"width\":0.5},\"pattern\":{\"fillmode\":\"overlay\",\"size\":10,\"solidity\":0.2}},\"type\":\"barpolar\"}],\"carpet\":[{\"aaxis\":{\"endlinecolor\":\"#2a3f5f\",\"gridcolor\":\"white\",\"linecolor\":\"white\",\"minorgridcolor\":\"white\",\"startlinecolor\":\"#2a3f5f\"},\"baxis\":{\"endlinecolor\":\"#2a3f5f\",\"gridcolor\":\"white\",\"linecolor\":\"white\",\"minorgridcolor\":\"white\",\"startlinecolor\":\"#2a3f5f\"},\"type\":\"carpet\"}],\"choropleth\":[{\"colorbar\":{\"outlinewidth\":0,\"ticks\":\"\"},\"type\":\"choropleth\"}],\"contour\":[{\"colorbar\":{\"outlinewidth\":0,\"ticks\":\"\"},\"colorscale\":[[0.0,\"#0d0887\"],[0.1111111111111111,\"#46039f\"],[0.2222222222222222,\"#7201a8\"],[0.3333333333333333,\"#9c179e\"],[0.4444444444444444,\"#bd3786\"],[0.5555555555555556,\"#d8576b\"],[0.6666666666666666,\"#ed7953\"],[0.7777777777777778,\"#fb9f3a\"],[0.8888888888888888,\"#fdca26\"],[1.0,\"#f0f921\"]],\"type\":\"contour\"}],\"contourcarpet\":[{\"colorbar\":{\"outlinewidth\":0,\"ticks\":\"\"},\"type\":\"contourcarpet\"}],\"heatmap\":[{\"colorbar\":{\"outlinewidth\":0,\"ticks\":\"\"},\"colorscale\":[[0.0,\"#0d0887\"],[0.1111111111111111,\"#46039f\"],[0.2222222222222222,\"#7201a8\"],[0.3333333333333333,\"#9c179e\"],[0.4444444444444444,\"#bd3786\"],[0.5555555555555556,\"#d8576b\"],[0.6666666666666666,\"#ed7953\"],[0.7777777777777778,\"#fb9f3a\"],[0.8888888888888888,\"#fdca26\"],[1.0,\"#f0f921\"]],\"type\":\"heatmap\"}],\"heatmapgl\":[{\"colorbar\":{\"outlinewidth\":0,\"ticks\":\"\"},\"colorscale\":[[0.0,\"#0d0887\"],[0.1111111111111111,\"#46039f\"],[0.2222222222222222,\"#7201a8\"],[0.3333333333333333,\"#9c179e\"],[0.4444444444444444,\"#bd3786\"],[0.5555555555555556,\"#d8576b\"],[0.6666666666666666,\"#ed7953\"],[0.7777777777777778,\"#fb9f3a\"],[0.8888888888888888,\"#fdca26\"],[1.0,\"#f0f921\"]],\"type\":\"heatmapgl\"}],\"histogram\":[{\"marker\":{\"pattern\":{\"fillmode\":\"overlay\",\"size\":10,\"solidity\":0.2}},\"type\":\"histogram\"}],\"histogram2d\":[{\"colorbar\":{\"outlinewidth\":0,\"ticks\":\"\"},\"colorscale\":[[0.0,\"#0d0887\"],[0.1111111111111111,\"#46039f\"],[0.2222222222222222,\"#7201a8\"],[0.3333333333333333,\"#9c179e\"],[0.4444444444444444,\"#bd3786\"],[0.5555555555555556,\"#d8576b\"],[0.6666666666666666,\"#ed7953\"],[0.7777777777777778,\"#fb9f3a\"],[0.8888888888888888,\"#fdca26\"],[1.0,\"#f0f921\"]],\"type\":\"histogram2d\"}],\"histogram2dcontour\":[{\"colorbar\":{\"outlinewidth\":0,\"ticks\":\"\"},\"colorscale\":[[0.0,\"#0d0887\"],[0.1111111111111111,\"#46039f\"],[0.2222222222222222,\"#7201a8\"],[0.3333333333333333,\"#9c179e\"],[0.4444444444444444,\"#bd3786\"],[0.5555555555555556,\"#d8576b\"],[0.6666666666666666,\"#ed7953\"],[0.7777777777777778,\"#fb9f3a\"],[0.8888888888888888,\"#fdca26\"],[1.0,\"#f0f921\"]],\"type\":\"histogram2dcontour\"}],\"mesh3d\":[{\"colorbar\":{\"outlinewidth\":0,\"ticks\":\"\"},\"type\":\"mesh3d\"}],\"parcoords\":[{\"line\":{\"colorbar\":{\"outlinewidth\":0,\"ticks\":\"\"}},\"type\":\"parcoords\"}],\"pie\":[{\"automargin\":true,\"type\":\"pie\"}],\"scatter\":[{\"marker\":{\"colorbar\":{\"outlinewidth\":0,\"ticks\":\"\"}},\"type\":\"scatter\"}],\"scatter3d\":[{\"line\":{\"colorbar\":{\"outlinewidth\":0,\"ticks\":\"\"}},\"marker\":{\"colorbar\":{\"outlinewidth\":0,\"ticks\":\"\"}},\"type\":\"scatter3d\"}],\"scattercarpet\":[{\"marker\":{\"colorbar\":{\"outlinewidth\":0,\"ticks\":\"\"}},\"type\":\"scattercarpet\"}],\"scattergeo\":[{\"marker\":{\"colorbar\":{\"outlinewidth\":0,\"ticks\":\"\"}},\"type\":\"scattergeo\"}],\"scattergl\":[{\"marker\":{\"colorbar\":{\"outlinewidth\":0,\"ticks\":\"\"}},\"type\":\"scattergl\"}],\"scattermapbox\":[{\"marker\":{\"colorbar\":{\"outlinewidth\":0,\"ticks\":\"\"}},\"type\":\"scattermapbox\"}],\"scatterpolar\":[{\"marker\":{\"colorbar\":{\"outlinewidth\":0,\"ticks\":\"\"}},\"type\":\"scatterpolar\"}],\"scatterpolargl\":[{\"marker\":{\"colorbar\":{\"outlinewidth\":0,\"ticks\":\"\"}},\"type\":\"scatterpolargl\"}],\"scatterternary\":[{\"marker\":{\"colorbar\":{\"outlinewidth\":0,\"ticks\":\"\"}},\"type\":\"scatterternary\"}],\"surface\":[{\"colorbar\":{\"outlinewidth\":0,\"ticks\":\"\"},\"colorscale\":[[0.0,\"#0d0887\"],[0.1111111111111111,\"#46039f\"],[0.2222222222222222,\"#7201a8\"],[0.3333333333333333,\"#9c179e\"],[0.4444444444444444,\"#bd3786\"],[0.5555555555555556,\"#d8576b\"],[0.6666666666666666,\"#ed7953\"],[0.7777777777777778,\"#fb9f3a\"],[0.8888888888888888,\"#fdca26\"],[1.0,\"#f0f921\"]],\"type\":\"surface\"}],\"table\":[{\"cells\":{\"fill\":{\"color\":\"#EBF0F8\"},\"line\":{\"color\":\"white\"}},\"header\":{\"fill\":{\"color\":\"#C8D4E3\"},\"line\":{\"color\":\"white\"}},\"type\":\"table\"}]},\"layout\":{\"annotationdefaults\":{\"arrowcolor\":\"#2a3f5f\",\"arrowhead\":0,\"arrowwidth\":1},\"autotypenumbers\":\"strict\",\"coloraxis\":{\"colorbar\":{\"outlinewidth\":0,\"ticks\":\"\"}},\"colorscale\":{\"diverging\":[[0,\"#8e0152\"],[0.1,\"#c51b7d\"],[0.2,\"#de77ae\"],[0.3,\"#f1b6da\"],[0.4,\"#fde0ef\"],[0.5,\"#f7f7f7\"],[0.6,\"#e6f5d0\"],[0.7,\"#b8e186\"],[0.8,\"#7fbc41\"],[0.9,\"#4d9221\"],[1,\"#276419\"]],\"sequential\":[[0.0,\"#0d0887\"],[0.1111111111111111,\"#46039f\"],[0.2222222222222222,\"#7201a8\"],[0.3333333333333333,\"#9c179e\"],[0.4444444444444444,\"#bd3786\"],[0.5555555555555556,\"#d8576b\"],[0.6666666666666666,\"#ed7953\"],[0.7777777777777778,\"#fb9f3a\"],[0.8888888888888888,\"#fdca26\"],[1.0,\"#f0f921\"]],\"sequentialminus\":[[0.0,\"#0d0887\"],[0.1111111111111111,\"#46039f\"],[0.2222222222222222,\"#7201a8\"],[0.3333333333333333,\"#9c179e\"],[0.4444444444444444,\"#bd3786\"],[0.5555555555555556,\"#d8576b\"],[0.6666666666666666,\"#ed7953\"],[0.7777777777777778,\"#fb9f3a\"],[0.8888888888888888,\"#fdca26\"],[1.0,\"#f0f921\"]]},\"colorway\":[\"#636efa\",\"#EF553B\",\"#00cc96\",\"#ab63fa\",\"#FFA15A\",\"#19d3f3\",\"#FF6692\",\"#B6E880\",\"#FF97FF\",\"#FECB52\"],\"font\":{\"color\":\"#2a3f5f\"},\"geo\":{\"bgcolor\":\"white\",\"lakecolor\":\"white\",\"landcolor\":\"#E5ECF6\",\"showlakes\":true,\"showland\":true,\"subunitcolor\":\"white\"},\"hoverlabel\":{\"align\":\"left\"},\"hovermode\":\"closest\",\"mapbox\":{\"style\":\"light\"},\"paper_bgcolor\":\"white\",\"plot_bgcolor\":\"#E5ECF6\",\"polar\":{\"angularaxis\":{\"gridcolor\":\"white\",\"linecolor\":\"white\",\"ticks\":\"\"},\"bgcolor\":\"#E5ECF6\",\"radialaxis\":{\"gridcolor\":\"white\",\"linecolor\":\"white\",\"ticks\":\"\"}},\"scene\":{\"xaxis\":{\"backgroundcolor\":\"#E5ECF6\",\"gridcolor\":\"white\",\"gridwidth\":2,\"linecolor\":\"white\",\"showbackground\":true,\"ticks\":\"\",\"zerolinecolor\":\"white\"},\"yaxis\":{\"backgroundcolor\":\"#E5ECF6\",\"gridcolor\":\"white\",\"gridwidth\":2,\"linecolor\":\"white\",\"showbackground\":true,\"ticks\":\"\",\"zerolinecolor\":\"white\"},\"zaxis\":{\"backgroundcolor\":\"#E5ECF6\",\"gridcolor\":\"white\",\"gridwidth\":2,\"linecolor\":\"white\",\"showbackground\":true,\"ticks\":\"\",\"zerolinecolor\":\"white\"}},\"shapedefaults\":{\"line\":{\"color\":\"#2a3f5f\"}},\"ternary\":{\"aaxis\":{\"gridcolor\":\"white\",\"linecolor\":\"white\",\"ticks\":\"\"},\"baxis\":{\"gridcolor\":\"white\",\"linecolor\":\"white\",\"ticks\":\"\"},\"bgcolor\":\"#E5ECF6\",\"caxis\":{\"gridcolor\":\"white\",\"linecolor\":\"white\",\"ticks\":\"\"}},\"title\":{\"x\":0.05},\"xaxis\":{\"automargin\":true,\"gridcolor\":\"white\",\"linecolor\":\"white\",\"ticks\":\"\",\"title\":{\"standoff\":15},\"zerolinecolor\":\"white\",\"zerolinewidth\":2},\"yaxis\":{\"automargin\":true,\"gridcolor\":\"white\",\"linecolor\":\"white\",\"ticks\":\"\",\"title\":{\"standoff\":15},\"zerolinecolor\":\"white\",\"zerolinewidth\":2}}},\"xaxis\":{\"anchor\":\"y\",\"domain\":[0.0,1.0],\"title\":{\"text\":\"x\"},\"rangeslider\":{\"visible\":true}},\"yaxis\":{\"anchor\":\"x\",\"domain\":[0.0,1.0],\"title\":{\"text\":\"value\"}},\"legend\":{\"title\":{\"text\":\"variable\"},\"tracegroupgap\":0},\"title\":{\"text\":\"Airline Passenger trend\"}},                        {\"responsive\": true}                    ).then(function(){\n",
       "                            \n",
       "var gd = document.getElementById('e50ffb6d-c5ed-4356-a9a7-590841cc6c0a');\n",
       "var x = new MutationObserver(function (mutations, observer) {{\n",
       "        var display = window.getComputedStyle(gd).display;\n",
       "        if (!display || display === 'none') {{\n",
       "            console.log([gd, 'removed!']);\n",
       "            Plotly.purge(gd);\n",
       "            observer.disconnect();\n",
       "        }}\n",
       "}});\n",
       "\n",
       "// Listen for the removal of the full notebook cells\n",
       "var notebookContainer = gd.closest('#notebook-container');\n",
       "if (notebookContainer) {{\n",
       "    x.observe(notebookContainer, {childList: true});\n",
       "}}\n",
       "\n",
       "// Listen for the clearing of the current output cell\n",
       "var outputEl = gd.closest('.output');\n",
       "if (outputEl) {{\n",
       "    x.observe(outputEl, {childList: true});\n",
       "}}\n",
       "\n",
       "                        })                };                });            </script>        </div>"
      ]
     },
     "metadata": {},
     "output_type": "display_data"
    }
   ],
   "source": [
    "# reshape into X=t and Y=t+1\n",
    "lag = 3 # default is kept as one \n",
    "x_train, y_train = create_new_dataset(train, lag)\n",
    "x_test, y_test = create_new_dataset(test, lag)\n",
    "\n",
    "#LSTM needs input data with format [samples, time steps and features]\n",
    "x_train =np.reshape(x_train,(x_train.shape[0],1,x_train.shape[1])) #[93,1,3]\n",
    "x_test =np.reshape(x_test,(x_test.shape[0], 1 ,x_test.shape[1])) #[45,1,3]\n",
    "\n",
    "# LSTM network architecture\n",
    "model = Sequential()\n",
    "model.add(LSTM(4, input_shape=(1, lag)))\n",
    "model.add(Dense(1))\n",
    "model.summary()\n",
    "#compile\n",
    "model.compile(loss='mean_squared_error', optimizer='adam')\n",
    "#train\n",
    "model.fit(x_train, y_train, epochs=100, batch_size=1, verbose=0)\n",
    "\n",
    "# making predictions\n",
    "train_pred = model.predict(x_train)\n",
    "test_pred = model.predict(x_test)\n",
    "\n",
    "# invert predictions to denormalize\n",
    "train_pred = denormalize(train_pred)\n",
    "y_train = denormalize(y_train)\n",
    "\n",
    "test_pred = denormalize(test_pred)\n",
    "y_test= denormalize(y_test)\n",
    "\n",
    "# root mean squared error\n",
    "train_score = measure_rmse(y_train, train_pred[:,0])\n",
    "print('Train RMSE: %.2f' % (train_score))\n",
    "\n",
    "test_score = measure_rmse(y_test, test_pred[:,0])\n",
    "print('Test RMSE: %.2f' % (test_score))\n",
    "\n",
    "\n",
    "train_pred_plot= np.empty_like(data)\n",
    "train_pred_plot[:, :] = np.nan\n",
    "train_pred_plot[lag:len(train_pred)+lag,:] = train_pred\n",
    "\n",
    "# shift test predictions for alignment\n",
    "test_pred_plot = np.empty_like(data)\n",
    "test_pred_plot[:, :] = np.nan\n",
    "# test_pred_plot[len(train_pred)+(lag*2):len(data), :] = test_pred\n",
    "test_pred_plot[len(train_pred)+(lag*2):len(data), :] = test_pred\n",
    "\n",
    "df['train_pred_3'] = train_pred_plot\n",
    "df['test_pred_3'] = test_pred_plot\n",
    "\n",
    "t = np.linspace(0,144,144)\n",
    "fig = px.line(df.reset_index(), x = t, y = ['Passengers', 'train_pred_3', 'test_pred_3'], title= 'Airline Passenger trend')\n",
    "fig.update_xaxes(rangeslider_visible= True)"
   ]
  },
  {
   "cell_type": "code",
   "execution_count": null,
   "id": "e4879f9d",
   "metadata": {},
   "outputs": [],
   "source": []
  }
 ],
 "metadata": {
  "kernelspec": {
   "display_name": "Python 3",
   "language": "python",
   "name": "python3"
  }
 },
 "nbformat": 4,
 "nbformat_minor": 5
}
